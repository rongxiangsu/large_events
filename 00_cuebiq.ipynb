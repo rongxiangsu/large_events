{
 "cells": [
  {
   "cell_type": "code",
   "execution_count": 1,
   "id": "93222aa7-4689-4e6f-84ff-f7b0c407b193",
   "metadata": {},
   "outputs": [],
   "source": [
    "import pandas as pd\n",
    "pd.set_option('display.max_colwidth', 0)\n",
    "pd.set_option('display.max_rows', 200)\n",
    "pd.set_option('display.max_columns', 500)\n",
    "pd.set_option('display.width', 1000)\n",
    "import warnings\n",
    "warnings.filterwarnings('ignore')\n",
    "pd.options.display.float_format = '{:.5f}'.format\n",
    "\n",
    "import matplotlib.pyplot as plt\n",
    "import geopandas as gpd\n",
    "import numpy as np \n",
    "import datetime\n",
    "import osmnx as ox"
   ]
  },
  {
   "cell_type": "code",
   "execution_count": 2,
   "id": "944785f4-98e0-4279-9804-d49e048af9c3",
   "metadata": {},
   "outputs": [
    {
     "data": {
      "application/javascript": [
       "IPython.notebook.set_autosave_interval(5000)"
      ]
     },
     "metadata": {},
     "output_type": "display_data"
    },
    {
     "name": "stdout",
     "output_type": "stream",
     "text": [
      "Autosaving every 5 seconds\n"
     ]
    }
   ],
   "source": [
    "import sys\n",
    "import logging\n",
    "import datetime\n",
    "\n",
    "nblog = open(\"./logs/batch_OSMdistance_\"+str(datetime.datetime.now())+\".log\", \"a+\")\n",
    "sys.stdout.echo = nblog\n",
    "sys.stderr.echo = nblog\n",
    "\n",
    "get_ipython().log.handlers[0].stream = nblog\n",
    "get_ipython().log.setLevel(logging.INFO)\n",
    "\n",
    "%autosave 5"
   ]
  },
  {
   "cell_type": "code",
   "execution_count": 3,
   "id": "a42e2b6b-6ee7-4737-9fc1-641fdb8f5160",
   "metadata": {},
   "outputs": [
    {
     "data": {
      "text/html": [
       "<div>\n",
       "<style scoped>\n",
       "    .dataframe tbody tr th:only-of-type {\n",
       "        vertical-align: middle;\n",
       "    }\n",
       "\n",
       "    .dataframe tbody tr th {\n",
       "        vertical-align: top;\n",
       "    }\n",
       "\n",
       "    .dataframe thead th {\n",
       "        text-align: right;\n",
       "    }\n",
       "</style>\n",
       "<table border=\"1\" class=\"dataframe\">\n",
       "  <thead>\n",
       "    <tr style=\"text-align: right;\">\n",
       "      <th></th>\n",
       "      <th>geometry</th>\n",
       "      <th>name</th>\n",
       "    </tr>\n",
       "  </thead>\n",
       "  <tbody>\n",
       "    <tr>\n",
       "      <th>0</th>\n",
       "      <td>POLYGON ((-97.64739 30.13196, -97.63569 30.14634, -97.61965 30.14039, -97.63146 30.12263, -97.64739 30.13196))</td>\n",
       "      <td>the Circuit of the Americas</td>\n",
       "    </tr>\n",
       "  </tbody>\n",
       "</table>\n",
       "</div>"
      ],
      "text/plain": [
       "                                                                                                         geometry                         name\n",
       "0  POLYGON ((-97.64739 30.13196, -97.63569 30.14634, -97.61965 30.14039, -97.63146 30.12263, -97.64739 30.13196))  the Circuit of the Americas"
      ]
     },
     "execution_count": 3,
     "metadata": {},
     "output_type": "execute_result"
    }
   ],
   "source": [
    "# Create a polygon for event venue\n",
    "from shapely.geometry import Polygon\n",
    "import geopandas as gpd\n",
    "\n",
    "lat_point_list = [30.131962, 30.146337, 30.140386, 30.122629]\n",
    "lon_point_list = [-97.647388, -97.635686, -97.619652, -97.631465]\n",
    "polygon_geom = Polygon(zip(lon_point_list, lat_point_list))\n",
    "polygon = gpd.GeoDataFrame(index=[0], crs='epsg:4326', geometry=[polygon_geom])       \n",
    "polygon['name']  = 'the Circuit of the Americas'\n",
    "polygon\n",
    "# polygon.explore()"
   ]
  },
  {
   "cell_type": "code",
   "execution_count": 3,
   "id": "b0118978-1c25-4353-9e4b-ad29e3ccc82f",
   "metadata": {},
   "outputs": [],
   "source": [
    "# %%time\n",
    "# df_stops = pd.read_pickle(\"./data/cuebiq/texas_stops_20221021_20221023.pkl\")  \n",
    "# df_stops['Time'] = df_stops['stop_zoned_datetime'].astype(str).str[0:-6]\n",
    "# df_stops.drop(['stop_zoned_datetime'], axis=1, inplace=True)\n",
    "# df_stops['Time'] = pd.to_datetime(df_stops['Time'], errors='coerce')\n",
    "# print(df_stops.shape[0])\n",
    "# print(df_stops.cuebiq_id.unique().shape[0])\n",
    "# df_stops.head(2)"
   ]
  },
  {
   "cell_type": "code",
   "execution_count": 6,
   "id": "45452f17-da17-4ad6-a4ed-57cb0905645d",
   "metadata": {},
   "outputs": [],
   "source": [
    "# df_stops_need = df_stops[['cuebiq_id','lat','lng','event_date','Time','dwell_time_minutes']]\n",
    "# df_stops_need['departure_time'] = df_stops_need['Time'] + pd.to_timedelta(df_stops_need['dwell_time_minutes'], unit='m')\n",
    "# df_stops_need = df_stops_need[['cuebiq_id','lat','lng','departure_time']]\n",
    "\n",
    "# import geopandas as gpd\n",
    "\n",
    "# gdf_stops = gpd.GeoDataFrame(\n",
    "#     df_stops_need,\n",
    "#     geometry=gpd.points_from_xy(df_stops_need.lng, df_stops_need.lat),\n",
    "#     crs=\"EPSG:4326\"\n",
    "# )\n",
    "# df_stops_need.head()"
   ]
  },
  {
   "cell_type": "markdown",
   "id": "ee3f80c2-9ea0-4ce1-9643-795536a7d348",
   "metadata": {},
   "source": [
    "# Load traj data"
   ]
  },
  {
   "cell_type": "code",
   "execution_count": 4,
   "id": "a8264a44-d72e-47fa-bb26-370a222fa594",
   "metadata": {},
   "outputs": [
    {
     "name": "stdout",
     "output_type": "stream",
     "text": [
      "100424\n",
      "7512\n",
      "[ 0  1  2  3  4  5  6  7  8  9 10 11 12 13 14 15 16 17 18 19 20 21 22 23]\n"
     ]
    }
   ],
   "source": [
    "df_traj = pd.read_pickle(\"./data/cuebiq/texas_traj_20221021_20221023.pkl\")  \n",
    "\n",
    "df_traj['start_zoned_datetime'] = pd.to_datetime(df_traj['start_zoned_datetime'],errors='coerce', utc=True)\n",
    "df_traj['start_zoned_datetime'] = df_traj['start_zoned_datetime'].dt.tz_convert('America/Chicago')\n",
    "df_traj['hour'] = df_traj['start_zoned_datetime'].dt.hour\n",
    "\n",
    "print(df_traj.shape[0])\n",
    "print(df_traj.cuebiq_id.unique().shape[0])\n",
    "print(np.sort(df_traj['hour'].unique()))"
   ]
  },
  {
   "cell_type": "code",
   "execution_count": 5,
   "id": "f6c81442-ea79-43e9-83c2-bcbc30f14e6a",
   "metadata": {},
   "outputs": [
    {
     "name": "stdout",
     "output_type": "stream",
     "text": [
      "97667\n"
     ]
    },
    {
     "data": {
      "text/plain": [
       "count   97667.00000\n",
       "mean    21.85148   \n",
       "std     78.55275   \n",
       "min     0.04014    \n",
       "25%     0.93240    \n",
       "50%     4.27115    \n",
       "75%     22.74442   \n",
       "max     7373.06359 \n",
       "Name: cuebiq_trip_km, dtype: float64"
      ]
     },
     "execution_count": 5,
     "metadata": {},
     "output_type": "execute_result"
    }
   ],
   "source": [
    "# filter trips within TX only\n",
    "df_traj_need = df_traj[(df_traj['start_admin1']=='US.TX')&(df_traj['end_admin1']=='US.TX')]\n",
    "print(df_traj_need.shape[0])\n",
    "df_traj_need = df_traj_need.rename(columns={\"duration_minutes\":\"cuebiq_travel_time_min\"})\n",
    "df_traj_need['cuebiq_trip_km'] = df_traj_need.length_meters/1000\n",
    "df_traj_need['cuebiq_trip_km'].describe()"
   ]
  },
  {
   "cell_type": "markdown",
   "id": "bdc17cd4-2306-4c8d-99ef-e2678b898bfa",
   "metadata": {},
   "source": [
    "# Load Austin OSM network "
   ]
  },
  {
   "cell_type": "code",
   "execution_count": 6,
   "id": "27874af2-398c-4df9-9008-594aceb229e8",
   "metadata": {},
   "outputs": [],
   "source": [
    "# Convert to GeoDataFrames (assuming you have 'x' and 'y' columns for coordinates)\n",
    "nodes_df = pd.read_csv('./output/osm_nodes.csv')\n",
    "edges_df = pd.read_csv('./output/osm_edges.csv')\n",
    "\n",
    "nodes_df['geometry'] = gpd.GeoSeries.from_wkt(nodes_df['geometry'])\n",
    "edges_df['geometry'] = gpd.GeoSeries.from_wkt(edges_df['geometry'])\n",
    "\n",
    "nodes_gdf = gpd.GeoDataFrame(nodes_df, crs=\"EPSG:3857\", geometry='geometry')\n",
    "edges_gdf = gpd.GeoDataFrame(edges_df, crs=\"EPSG:3857\", geometry='geometry')\n",
    "\n",
    "nodes_gdf = nodes_gdf.set_index('osmid')\n",
    "edges_gdf.set_index(['u', 'v','key'], inplace=True)\n",
    "\n",
    "# creat graph\n",
    "G = ox.graph_from_gdfs(nodes_gdf, edges_gdf)\n",
    "\n",
    "# add default speed and travel time to each road segment\n",
    "# pass in a few default speed values (km/hour) to fill in edges with missing `maxspeed` from OSM\n",
    "hwy_speeds = {\"residential\": 35, \"secondary\": 50, \"tertiary\": 60}\n",
    "G = ox.routing.add_edge_speeds(G, hwy_speeds=hwy_speeds)\n",
    "G = ox.routing.add_edge_travel_times(G)"
   ]
  },
  {
   "cell_type": "code",
   "execution_count": 7,
   "id": "56aa7158-fcea-48c9-b60c-84593edcc3a4",
   "metadata": {},
   "outputs": [],
   "source": [
    "# # see mean speed/time values by road type\n",
    "# edges = ox.convert.graph_to_gdfs(G, nodes=False)\n",
    "# edges[\"highway\"] = edges[\"highway\"].astype(str)\n",
    "# edges.groupby(\"highway\")[[\"length\", \"speed_kph\", \"travel_time\"]].mean().round(1)"
   ]
  },
  {
   "cell_type": "code",
   "execution_count": 8,
   "id": "19557101-1535-473f-8a5d-a71d7bc40957",
   "metadata": {},
   "outputs": [],
   "source": [
    "df_traj_need['trajectory_wkt'] = gpd.GeoSeries.from_wkt(df_traj_need['trajectory_wkt'])"
   ]
  },
  {
   "cell_type": "code",
   "execution_count": 9,
   "id": "75c783b4-34be-4346-b662-faa613709e7e",
   "metadata": {},
   "outputs": [],
   "source": [
    "gdf_traj_need = gpd.GeoDataFrame(df_traj_need,crs=\"EPSG:4326\", geometry='trajectory_wkt')\n",
    "gdf_traj_need[\"points_list\"] = gdf_traj_need[\"trajectory_wkt\"].apply(lambda line: list(line.coords)) # convert trajectories into a list of points"
   ]
  },
  {
   "cell_type": "markdown",
   "id": "a80e4cb0-2620-4a6b-b714-a944c3e6c7a0",
   "metadata": {},
   "source": [
    "# Compute OSM network distance for the real trajectories\n",
    "Sum up the network distance and travel time between each consecutive pair of points for each trip\n",
    "\n",
    "Use this travel time as the benchmark (free flow travel time) to exmine the delay of each trip"
   ]
  },
  {
   "cell_type": "code",
   "execution_count": 10,
   "id": "60559a2d-99f4-4425-a54f-7e47cd58ef30",
   "metadata": {},
   "outputs": [],
   "source": [
    "def shortest_path_distance(G, point1_x, point1_y, point2_x, point2_y):\n",
    "    try:\n",
    "        # Find nearest OSM nodes\n",
    "        orig_node = ox.distance.nearest_nodes(G, X=point1_x, Y=point1_y)\n",
    "        dest_node = ox.distance.nearest_nodes(G, X=point2_x, Y=point2_y)\n",
    "        \n",
    "        # Compute shortest path distance (weight = 'length' gives distance in meters)\n",
    "        routes = ox.routing.shortest_path(G, orig_node, dest_node, weight=\"travel_time\",cpus=1)\n",
    "        # if len(routes) <= 1: return 0,0\n",
    "        # else:\n",
    "        trip_dist_total, trip_duration_total = 0,0\n",
    "        for r in routes:\n",
    "            if r == None or len(r) <= 1:\n",
    "                trip_dist_total+=0\n",
    "                trip_duration_total+=0\n",
    "            else: \n",
    "                df_one_shortest_path = ox.routing.route_to_gdf(G, r, weight='travel_time')\n",
    "                v_trip_distance = df_one_shortest_path[\"length\"].sum()/1000\n",
    "                v_trip_duration = df_one_shortest_path[\"travel_time\"].sum()/60\n",
    "                trip_dist_total += v_trip_distance\n",
    "                trip_duration_total += v_trip_duration\n",
    "        # print(trip_dist_total)\n",
    "        return trip_dist_total, trip_duration_total\n",
    "    except:\n",
    "        print('error')\n",
    "        return 0,0\n",
    "\n",
    "def compute_shortest_distances(row, G):\n",
    "    \"\"\" Compute total shortest path distances and travel times for a sampled subset of points in a LineString. \"\"\"\n",
    "    points = row[\"points_list\"]\n",
    "    # if row.name % 20 == 0:  # Print progress every 100 rows\n",
    "        # print(datetime.datetime.now(),f\"Processing row {row.name}...\")\n",
    "\n",
    "    if len(points) < 2:\n",
    "        return 0, 0  # Not enough points to compute distances\n",
    "\n",
    "    step = max(1, len(points) // 20)  # Step size to skip points\n",
    "    origin_list_x, origin_list_y,desti_list_x,desti_list_y = [],[],[],[]\n",
    "    for i in range(0, len(points) - step, step):  # Skip points based on step size\n",
    "        origin_list_x.append(points[i][0])\n",
    "        origin_list_y.append(points[i][1])\n",
    "        desti_list_x.append(points[i + step][0])\n",
    "        desti_list_y.append(points[i + step][1])\n",
    "        \n",
    "    dist_total, travel_time_total = shortest_path_distance(G, origin_list_x, origin_list_y, desti_list_x, desti_list_y)\n",
    "    return dist_total, travel_time_total \n",
    "\n",
    "# test = gdf_traj_need_car.iloc[[2]]\n",
    "# test[[\"osm_new_dist\", \"osm_new_travel_times\"]] = test.apply(lambda row: compute_shortest_distances(row, G), axis=1).apply(pd.Series)\n",
    "# test[['cuebiq_id','number_of_points','start_zoned_datetime','end_zoned_datetime','cuebiq_trip_km', 'osm_new_dist','cuebiq_travel_time_min','osm_new_travel_times']]"
   ]
  },
  {
   "cell_type": "markdown",
   "id": "a14baac0-956a-493e-b4e8-bd0676f79e56",
   "metadata": {},
   "source": [
    "## Only examine trips that are likely to be car trips (mean speed must >12km/h)\n",
    "We do not care about active mode right now"
   ]
  },
  {
   "cell_type": "code",
   "execution_count": 13,
   "id": "e2d640e8-26a0-497c-843b-8b171ae08d7c",
   "metadata": {},
   "outputs": [
    {
     "name": "stdout",
     "output_type": "stream",
     "text": [
      "97667\n",
      "97667\n",
      "40753\n",
      "36401\n",
      "[ 0  1  2  3  4  5  6  7  8  9 10 11 12 13 14 15 16 17 18 19 20 21 22 23]\n"
     ]
    }
   ],
   "source": [
    "print(gdf_traj_need.shape[0])\n",
    "\n",
    "gdf_traj_need['speed'] = gdf_traj_need['cuebiq_trip_km']/gdf_traj_need['cuebiq_travel_time_min']\n",
    "# gdf_traj_need.groupby('hour').speed.mean().plot()\n",
    "# print(np.sort(gdf_traj_need['hour'].unique()))\n",
    "\n",
    "# must have at least two GPS points of the tirp\n",
    "gdf_traj_need_car  = gdf_traj_need[gdf_traj_need['number_of_points']>1]\n",
    "print(gdf_traj_need_car.shape[0])\n",
    "\n",
    "# must >12km/h\n",
    "gdf_traj_need_car = gdf_traj_need_car[gdf_traj_need_car['speed']>0.2] \n",
    "print(gdf_traj_need_car.shape[0])\n",
    "\n",
    "# exclude long-distance trips\n",
    "gdf_traj_need_car = gdf_traj_need_car[gdf_traj_need_car['cuebiq_trip_km']<100]\n",
    "print(gdf_traj_need_car.shape[0])\n",
    "\n",
    "print(np.sort(gdf_traj_need_car['hour'].unique()))\n",
    "# gdf_traj_need_car.head(1)"
   ]
  },
  {
   "cell_type": "code",
   "execution_count": 14,
   "id": "037e5594-502b-49a7-abad-c99337700a49",
   "metadata": {},
   "outputs": [],
   "source": [
    "# Process the travel time computation in batches. This can take quite a long time. \n",
    "import os \n",
    "\n",
    "def process_in_batches(gdf, G, file, batch_size=100):\n",
    "    num_batches = len(gdf) // batch_size + 1\n",
    "    \n",
    "    for batch_idx in range(num_batches):\n",
    "        start_idx = batch_idx * batch_size\n",
    "        end_idx = min((batch_idx + 1) * batch_size, len(gdf))\n",
    "        batch = gdf.iloc[start_idx:end_idx]\n",
    "        \n",
    "        print(datetime.datetime.now(),f\"Processing batch {batch_idx + 1}/{num_batches}...\")\n",
    "        \n",
    "        # Compute the shortest distances and travel times for the batch\n",
    "        batch[[\"osm_new_dist\", \"osm_new_travel_times\"]] = batch.apply(lambda row: compute_shortest_distances(row, G), axis=1).apply(pd.Series)\n",
    "        \n",
    "        # Append intermediate results to a CSV file (append mode)\n",
    "        batch.to_csv(file, index=False, mode='a', header=None)\n",
    "        batch = pd.DataFrame()\n",
    "\n",
    "    print(\"Batch processing completed!\")\n",
    "\n",
    "# test = gdf_traj_need_car.head(10)\n",
    "# process_in_batches(test, G, batch_size=100)"
   ]
  },
  {
   "cell_type": "code",
   "execution_count": null,
   "id": "fb68d2bf-e48f-4b75-b3a2-72f23446e62a",
   "metadata": {},
   "outputs": [
    {
     "name": "stdout",
     "output_type": "stream",
     "text": [
      "2025-02-02 14:40:55.791296 Processing batch 1/365...\n",
      "2025-02-02 14:42:47.911552 Processing batch 2/365...\n",
      "2025-02-02 14:44:35.466636 Processing batch 3/365...\n",
      "2025-02-02 14:46:21.952794 Processing batch 4/365...\n",
      "2025-02-02 14:48:11.082901 Processing batch 5/365...\n"
     ]
    }
   ],
   "source": [
    "timestamp = datetime.datetime.now().strftime(\"%Y%m%d_%H%M%S\")\n",
    "output_filename = f\"./output/intermediate_results_{timestamp}.csv\"\n",
    "process_in_batches(gdf_traj_need_car, G, output_filename, batch_size=100)"
   ]
  },
  {
   "cell_type": "code",
   "execution_count": 458,
   "id": "d02ea934-8168-4c32-a863-30fe96bfd151",
   "metadata": {},
   "outputs": [
    {
     "data": {
      "text/html": [
       "<div>\n",
       "<style scoped>\n",
       "    .dataframe tbody tr th:only-of-type {\n",
       "        vertical-align: middle;\n",
       "    }\n",
       "\n",
       "    .dataframe tbody tr th {\n",
       "        vertical-align: top;\n",
       "    }\n",
       "\n",
       "    .dataframe thead th {\n",
       "        text-align: right;\n",
       "    }\n",
       "</style>\n",
       "<table border=\"1\" class=\"dataframe\">\n",
       "  <thead>\n",
       "    <tr style=\"text-align: right;\">\n",
       "      <th></th>\n",
       "      <th>cuebiq_id</th>\n",
       "      <th>start_zoned_datetime</th>\n",
       "      <th>end_zoned_datetime</th>\n",
       "      <th>cuebiq_trip_km</th>\n",
       "      <th>osm_trip_km</th>\n",
       "      <th>osm_new_dist</th>\n",
       "      <th>cuebiq_travel_time_min</th>\n",
       "      <th>osm_travel_time_min</th>\n",
       "      <th>osm_new_travel_times</th>\n",
       "    </tr>\n",
       "  </thead>\n",
       "  <tbody>\n",
       "    <tr>\n",
       "      <th>0</th>\n",
       "      <td>5810819473</td>\n",
       "      <td>2022-10-23 21:31:49+00:00</td>\n",
       "      <td>2022-10-23 22:39:27+00:00</td>\n",
       "      <td>0.42255</td>\n",
       "      <td>0.32775</td>\n",
       "      <td>0.32775</td>\n",
       "      <td>67.63333</td>\n",
       "      <td>0.39330</td>\n",
       "      <td>0.39330</td>\n",
       "    </tr>\n",
       "    <tr>\n",
       "      <th>1</th>\n",
       "      <td>5810819473</td>\n",
       "      <td>2022-10-23 22:47:33+00:00</td>\n",
       "      <td>2022-10-23 23:11:03+00:00</td>\n",
       "      <td>15.86527</td>\n",
       "      <td>19.70032</td>\n",
       "      <td>19.70032</td>\n",
       "      <td>23.50000</td>\n",
       "      <td>13.98677</td>\n",
       "      <td>13.98677</td>\n",
       "    </tr>\n",
       "    <tr>\n",
       "      <th>2</th>\n",
       "      <td>5810819473</td>\n",
       "      <td>2022-10-23 23:20:47+00:00</td>\n",
       "      <td>2022-10-24 00:47:01+00:00</td>\n",
       "      <td>75.37142</td>\n",
       "      <td>34.59721</td>\n",
       "      <td>34.59721</td>\n",
       "      <td>86.23333</td>\n",
       "      <td>31.01360</td>\n",
       "      <td>31.01360</td>\n",
       "    </tr>\n",
       "    <tr>\n",
       "      <th>3</th>\n",
       "      <td>5810819473</td>\n",
       "      <td>2022-10-24 02:29:18+00:00</td>\n",
       "      <td>2022-10-24 02:59:01+00:00</td>\n",
       "      <td>19.46664</td>\n",
       "      <td>0.00000</td>\n",
       "      <td>0.00000</td>\n",
       "      <td>29.71667</td>\n",
       "      <td>0.00000</td>\n",
       "      <td>0.00000</td>\n",
       "    </tr>\n",
       "    <tr>\n",
       "      <th>4</th>\n",
       "      <td>5810819473</td>\n",
       "      <td>2022-10-24 03:01:10+00:00</td>\n",
       "      <td>2022-10-24 03:09:25+00:00</td>\n",
       "      <td>1.30295</td>\n",
       "      <td>0.00000</td>\n",
       "      <td>0.00000</td>\n",
       "      <td>8.25000</td>\n",
       "      <td>0.00000</td>\n",
       "      <td>0.00000</td>\n",
       "    </tr>\n",
       "  </tbody>\n",
       "</table>\n",
       "</div>"
      ],
      "text/plain": [
       "    cuebiq_id      start_zoned_datetime        end_zoned_datetime  cuebiq_trip_km  osm_trip_km  osm_new_dist  cuebiq_travel_time_min  osm_travel_time_min  osm_new_travel_times\n",
       "0  5810819473 2022-10-23 21:31:49+00:00 2022-10-23 22:39:27+00:00 0.42255         0.32775      0.32775       67.63333                0.39330              0.39330              \n",
       "1  5810819473 2022-10-23 22:47:33+00:00 2022-10-23 23:11:03+00:00 15.86527        19.70032     19.70032      23.50000                13.98677             13.98677             \n",
       "2  5810819473 2022-10-23 23:20:47+00:00 2022-10-24 00:47:01+00:00 75.37142        34.59721     34.59721      86.23333                31.01360             31.01360             \n",
       "3  5810819473 2022-10-24 02:29:18+00:00 2022-10-24 02:59:01+00:00 19.46664        0.00000      0.00000       29.71667                0.00000              0.00000              \n",
       "4  5810819473 2022-10-24 03:01:10+00:00 2022-10-24 03:09:25+00:00 1.30295         0.00000      0.00000       8.25000                 0.00000              0.00000              "
      ]
     },
     "execution_count": 458,
     "metadata": {},
     "output_type": "execute_result"
    }
   ],
   "source": [
    "# test[['cuebiq_id','number_of_points','start_zoned_datetime','end_zoned_datetime','cuebiq_trip_km', 'osm_new_dist','cuebiq_travel_time_min','osm_new_travel_times']]"
   ]
  },
  {
   "cell_type": "markdown",
   "id": "cd8edbdd-d0c6-4506-9976-73c7abc4fa4b",
   "metadata": {},
   "source": [
    "# Analyze the delay pattern"
   ]
  },
  {
   "cell_type": "code",
   "execution_count": null,
   "id": "1f1ce851-3874-4a7f-832b-18aea09ef5ae",
   "metadata": {},
   "outputs": [],
   "source": [
    "def process_df(df):\n",
    "    df = df[(df['osm_new_dist']!=0)&(df['osm_new_travel_times']!=0)]\n",
    "    print(df.shape[0])\n",
    "    df['diff_dist'] = df['cuebiq_trip_km'] - df['osm_new_dist']\n",
    "    df['diff_time'] = df['cuebiq_travel_time_min'] - df['osm_new_travel_times']\n",
    "    # df = df[(df['diff_dist']<10)&(df['diff_dist']>-10)]\n",
    "    print(df.shape[0])\n",
    "    return df"
   ]
  },
  {
   "cell_type": "code",
   "execution_count": null,
   "id": "b1cd1784-4d70-49a4-a04e-4c2e1dbfa1a8",
   "metadata": {},
   "outputs": [],
   "source": [
    "df_compare = pd.read_csv('./intermediate_results.csv',header=None)\n",
    "print(df_compare.shape[0])\n",
    "df_compare.columns = ['cuebiq_id', 'device_type_code', 'os_name', 'start_zoned_datetime', 'start_geohash', 'start_lat', 'start_lng', 'start_country', 'start_admin1', 'start_admin2', 'start_block_group_id', 'end_zoned_datetime', 'end_geohash', 'end_lat', 'end_lng', 'end_country', 'end_admin1', 'end_admin2', 'end_block_group_id', 'number_of_points', 'cuebiq_travel_time_min', 'speed_kinematic_ms_min', 'speed_kinematic_ms_avg', 'speed_kinematic_ms_max', 'speed_gps_ms_min', 'speed_gps_ms_avg', 'speed_gps_ms_max', 'max_time_gap_seconds', 'length_meters', 'trajectory_wkt', 'provider_id', 'event_date', 'hour','cuebiq_trip_km', 'points_list', 'speed', 'osm_new_dist', 'osm_new_travel_times']\n",
    "df_compare = process_df(df_compare)\n",
    "print(df_compare.shape[0])\n",
    "\n",
    "df_compare = df_compare[df_compare['diff_time']>=-10] # exclude large difference trips\n",
    "print(df_compare.shape[0])\n",
    "df_compare['diff_time'].describe()"
   ]
  },
  {
   "cell_type": "code",
   "execution_count": 448,
   "id": "4a47dab7-d3cb-46f1-bd5c-6210670568eb",
   "metadata": {},
   "outputs": [],
   "source": [
    "df_compare_shortTrips = df_compare[df_compare['cuebiq_trip_km']<=50]\n",
    "print('mean: ',round(df_compare_shortTrips['diff_time'].mean(),2))\n",
    "print('median: ',round(df_compare_shortTrips['diff_time'].median(),2))"
   ]
  },
  {
   "cell_type": "code",
   "execution_count": null,
   "id": "d08201a5-e1e6-42ee-b18a-0b37eeadf605",
   "metadata": {},
   "outputs": [],
   "source": [
    "# Create the scatter plot\n",
    "plt.figure(figsize=(8, 6))\n",
    "plt.scatter(df_compare['cuebiq_trip_km'], df_compare['diff_time'], color='b', alpha=0.5)\n",
    "mean_diff_time = df_compare['diff_time'].mean()\n",
    "plt.axhline(y=mean_diff_time, color='r', linestyle='--', label=f'Mean delay: {mean_diff_time:.2f} min')\n",
    "\n",
    "# Add labels and title\n",
    "plt.xlabel('Trip distance (km)')\n",
    "plt.ylabel('Delay (min)')\n",
    "plt.title(f'n={df_compare.shape[0]} trips ({df_compare.cuebiq_id.unique().shape[0]} unique individuals)')\n",
    "plt.legend()\n",
    "plt.show()"
   ]
  },
  {
   "cell_type": "code",
   "execution_count": null,
   "id": "85ac8ade-e90e-46f8-82e1-3d638df64a62",
   "metadata": {},
   "outputs": [],
   "source": [
    "def plot_delay_by_hour(df, date)\n",
    "    plt.figure(figsize=(12, 6))\n",
    "    sns.boxplot(x='hour', y='diff_time', data=df[df['event_date'] == date], showfliers=False)\n",
    "    \n",
    "    # Compute median values for each hour\n",
    "    hourly_medians = df[df['event_date'] == date].groupby('hour')['diff_time'].median()\n",
    "    \n",
    "    # Overlay a line connecting the medians\n",
    "    plt.plot(hourly_medians.index, hourly_medians.values, color='red', marker='o', linestyle='-', linewidth=2, markersize=6, label='Median Trend')\n",
    "    plt.xlabel('Hour')\n",
    "    plt.ylabel('Delay (min)')\n",
    "    plt.title(f'Distribution of Delay by Hour on {str(date)}')\n",
    "    plt.xticks(range(0, 24))\n",
    "    plt.legend()\n",
    "    plt.show()\n",
    "\n",
    "plot_delay_by_hour(df_compare, 20221021)\n",
    "plot_delay_by_hour(df_compare, 20221022)\n",
    "plot_delay_by_hour(df_compare, 20221023)\n"
   ]
  },
  {
   "cell_type": "code",
   "execution_count": null,
   "id": "45fbcb92-b87a-4553-a3c8-ee347a84aca7",
   "metadata": {},
   "outputs": [],
   "source": []
  },
  {
   "cell_type": "code",
   "execution_count": null,
   "id": "edaca360-e375-4cfe-b9d6-9f05126325d0",
   "metadata": {},
   "outputs": [],
   "source": []
  },
  {
   "cell_type": "code",
   "execution_count": null,
   "id": "a192700a-f55a-4759-9efd-b9b7bd2130aa",
   "metadata": {},
   "outputs": [],
   "source": []
  },
  {
   "cell_type": "code",
   "execution_count": null,
   "id": "7ca53251-00ee-48b6-a44c-b69109e740e2",
   "metadata": {},
   "outputs": [],
   "source": []
  },
  {
   "cell_type": "code",
   "execution_count": null,
   "id": "163bdc68-3603-4d28-93cd-07f761ff5616",
   "metadata": {},
   "outputs": [],
   "source": []
  },
  {
   "cell_type": "code",
   "execution_count": null,
   "id": "d5d6252d-2c30-42e5-b694-f04698615639",
   "metadata": {},
   "outputs": [],
   "source": []
  },
  {
   "cell_type": "code",
   "execution_count": null,
   "id": "9c632ff7-ebfe-4021-bfa7-e34b0c8ff37d",
   "metadata": {},
   "outputs": [],
   "source": []
  }
 ],
 "metadata": {
  "kernelspec": {
   "display_name": "Python (pytorch_env)",
   "language": "python",
   "name": "pytorch_env"
  },
  "language_info": {
   "codemirror_mode": {
    "name": "ipython",
    "version": 3
   },
   "file_extension": ".py",
   "mimetype": "text/x-python",
   "name": "python",
   "nbconvert_exporter": "python",
   "pygments_lexer": "ipython3",
   "version": "3.10.16"
  }
 },
 "nbformat": 4,
 "nbformat_minor": 5
}
