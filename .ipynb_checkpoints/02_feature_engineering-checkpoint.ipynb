{
 "cells": [
  {
   "cell_type": "code",
   "execution_count": 3,
   "metadata": {},
   "outputs": [],
   "source": [
    "import pandas as pd\n",
    "pd.set_option('display.max_colwidth', 0)\n",
    "pd.set_option('display.max_rows', 200)\n",
    "pd.set_option('display.max_columns', 500)\n",
    "pd.set_option('display.width', 1000)\n",
    "import warnings\n",
    "warnings.filterwarnings('ignore')\n",
    "pd.options.display.float_format = '{:.5f}'.format\n",
    "import matplotlib.pyplot as plt"
   ]
  },
  {
   "cell_type": "markdown",
   "metadata": {},
   "source": [
    "# Create venue (polygon) and shuttle (points) geometry"
   ]
  },
  {
   "cell_type": "code",
   "execution_count": 36,
   "metadata": {},
   "outputs": [
    {
     "name": "stdout",
     "output_type": "stream",
     "text": [
      "CPU times: user 14.7 ms, sys: 0 ns, total: 14.7 ms\n",
      "Wall time: 14.6 ms\n"
     ]
    },
    {
     "data": {
      "text/html": [
       "<div>\n",
       "<style scoped>\n",
       "    .dataframe tbody tr th:only-of-type {\n",
       "        vertical-align: middle;\n",
       "    }\n",
       "\n",
       "    .dataframe tbody tr th {\n",
       "        vertical-align: top;\n",
       "    }\n",
       "\n",
       "    .dataframe thead th {\n",
       "        text-align: right;\n",
       "    }\n",
       "</style>\n",
       "<table border=\"1\" class=\"dataframe\">\n",
       "  <thead>\n",
       "    <tr style=\"text-align: right;\">\n",
       "      <th></th>\n",
       "      <th>geometry</th>\n",
       "      <th>name</th>\n",
       "    </tr>\n",
       "  </thead>\n",
       "  <tbody>\n",
       "    <tr>\n",
       "      <th>0</th>\n",
       "      <td>POLYGON ((-97.64739 30.13196, -97.63569 30.14634, -97.61965 30.14039, -97.63147 30.12263, -97.64739 30.13196))</td>\n",
       "      <td>the Circuit of the Americas</td>\n",
       "    </tr>\n",
       "  </tbody>\n",
       "</table>\n",
       "</div>"
      ],
      "text/plain": [
       "                                                                                                         geometry                         name\n",
       "0  POLYGON ((-97.64739 30.13196, -97.63569 30.14634, -97.61965 30.14039, -97.63147 30.12263, -97.64739 30.13196))  the Circuit of the Americas"
      ]
     },
     "execution_count": 36,
     "metadata": {},
     "output_type": "execute_result"
    }
   ],
   "source": [
    "%%time\n",
    "\n",
    "# Create a polygon for event venue\n",
    "from shapely.geometry import Polygon\n",
    "import geopandas as gpd\n",
    "\n",
    "lat_point_list = [30.131962, 30.146337, 30.140386, 30.122629]\n",
    "lon_point_list = [-97.647388, -97.635686, -97.619652, -97.631465]\n",
    "polygon_geom = Polygon(zip(lon_point_list, lat_point_list))\n",
    "gdf_venue = gpd.GeoDataFrame(index=[0], crs='epsg:4326', geometry=[polygon_geom])       \n",
    "gdf_venue['name']  = 'the Circuit of the Americas'\n",
    "# gdf_venue = gdf_venue.to_crs(\"EPSG:3857\") \n",
    "gdf_venue"
   ]
  },
  {
   "cell_type": "code",
   "execution_count": 163,
   "metadata": {},
   "outputs": [
    {
     "data": {
      "text/html": [
       "<div>\n",
       "<style scoped>\n",
       "    .dataframe tbody tr th:only-of-type {\n",
       "        vertical-align: middle;\n",
       "    }\n",
       "\n",
       "    .dataframe tbody tr th {\n",
       "        vertical-align: top;\n",
       "    }\n",
       "\n",
       "    .dataframe thead th {\n",
       "        text-align: right;\n",
       "    }\n",
       "</style>\n",
       "<table border=\"1\" class=\"dataframe\">\n",
       "  <thead>\n",
       "    <tr style=\"text-align: right;\">\n",
       "      <th></th>\n",
       "      <th>Shuttle_Location</th>\n",
       "      <th>geometry</th>\n",
       "    </tr>\n",
       "  </thead>\n",
       "  <tbody>\n",
       "    <tr>\n",
       "      <th>0</th>\n",
       "      <td>Shuttle_Waterloo_Park</td>\n",
       "      <td>POINT (-97.73628 30.27373)</td>\n",
       "    </tr>\n",
       "    <tr>\n",
       "      <th>1</th>\n",
       "      <td>Shuttle_Barton_Creek_Square</td>\n",
       "      <td>POINT (-97.80505 30.25751)</td>\n",
       "    </tr>\n",
       "    <tr>\n",
       "      <th>2</th>\n",
       "      <td>Shuttle_Expo_Center</td>\n",
       "      <td>POINT (-97.62254 30.29706)</td>\n",
       "    </tr>\n",
       "  </tbody>\n",
       "</table>\n",
       "</div>"
      ],
      "text/plain": [
       "              Shuttle_Location                    geometry\n",
       "0  Shuttle_Waterloo_Park        POINT (-97.73628 30.27373)\n",
       "1  Shuttle_Barton_Creek_Square  POINT (-97.80505 30.25751)\n",
       "2  Shuttle_Expo_Center          POINT (-97.62254 30.29706)"
      ]
     },
     "execution_count": 163,
     "metadata": {},
     "output_type": "execute_result"
    }
   ],
   "source": [
    "import shapely.geometry as geom\n",
    "\n",
    "# Create Shapely point geometries\n",
    "point_waterloo_park = geom.Point(-97.736285, 30.273726) # (longitude, latitude)\n",
    "point_barton_creek_square = geom.Point(-97.805046, 30.257509)\n",
    "point_expo_center = geom.Point(-97.622544, 30.297062)\n",
    "# point_ridehailing = geom.Point(-97.614135, 30.178718)\n",
    "\n",
    "point_shuttle_list = [point_waterloo_park,point_barton_creek_square,point_expo_center] #,point_ridehailing\n",
    "gdf_shuttle = gpd.GeoDataFrame({'Shuttle_Location': ['Shuttle_Waterloo_Park', 'Shuttle_Barton_Creek_Square', 'Shuttle_Expo_Center'], #, 'Uber_DelValle_HighSchool'\n",
    "                        'geometry': point_shuttle_list},\n",
    "                        crs=\"EPSG:4326\")\n",
    "# gdf_shuttle = gdf_shuttle.to_crs(\"EPSG:3857\") \n",
    "gdf_shuttle"
   ]
  },
  {
   "cell_type": "markdown",
   "metadata": {},
   "source": [
    "# Load INRIX Road network data"
   ]
  },
  {
   "cell_type": "code",
   "execution_count": 164,
   "metadata": {},
   "outputs": [
    {
     "name": "stdout",
     "output_type": "stream",
     "text": [
      "total number of road segments: 4460\n"
     ]
    },
    {
     "data": {
      "text/html": [
       "<div>\n",
       "<style scoped>\n",
       "    .dataframe tbody tr th:only-of-type {\n",
       "        vertical-align: middle;\n",
       "    }\n",
       "\n",
       "    .dataframe tbody tr th {\n",
       "        vertical-align: top;\n",
       "    }\n",
       "\n",
       "    .dataframe thead th {\n",
       "        text-align: right;\n",
       "    }\n",
       "</style>\n",
       "<table border=\"1\" class=\"dataframe\">\n",
       "  <thead>\n",
       "    <tr style=\"text-align: right;\">\n",
       "      <th></th>\n",
       "      <th>tmc_code</th>\n",
       "      <th>intersection</th>\n",
       "      <th>start_latitude</th>\n",
       "      <th>start_longitude</th>\n",
       "      <th>end_latitude</th>\n",
       "      <th>end_longitude</th>\n",
       "      <th>miles</th>\n",
       "    </tr>\n",
       "  </thead>\n",
       "  <tbody>\n",
       "    <tr>\n",
       "      <th>0</th>\n",
       "      <td>112P13033</td>\n",
       "      <td>W MARTIN LUTHER KING JR BLVD</td>\n",
       "      <td>30.28172</td>\n",
       "      <td>-97.74193</td>\n",
       "      <td>30.28232</td>\n",
       "      <td>-97.74207</td>\n",
       "      <td>0.04249</td>\n",
       "    </tr>\n",
       "    <tr>\n",
       "      <th>1</th>\n",
       "      <td>112+08908</td>\n",
       "      <td>FM-20</td>\n",
       "      <td>30.11066</td>\n",
       "      <td>-97.41049</td>\n",
       "      <td>30.11082</td>\n",
       "      <td>-97.37323</td>\n",
       "      <td>2.22783</td>\n",
       "    </tr>\n",
       "    <tr>\n",
       "      <th>2</th>\n",
       "      <td>112+16538</td>\n",
       "      <td>GATTIS SCHOOL RD</td>\n",
       "      <td>30.49057</td>\n",
       "      <td>-97.67514</td>\n",
       "      <td>30.49351</td>\n",
       "      <td>-97.67573</td>\n",
       "      <td>0.20831</td>\n",
       "    </tr>\n",
       "  </tbody>\n",
       "</table>\n",
       "</div>"
      ],
      "text/plain": [
       "    tmc_code                  intersection  start_latitude  start_longitude  end_latitude  end_longitude   miles\n",
       "0  112P13033  W MARTIN LUTHER KING JR BLVD 30.28172        -97.74193        30.28232      -97.74207      0.04249\n",
       "1  112+08908  FM-20                        30.11066        -97.41049        30.11082      -97.37323      2.22783\n",
       "2  112+16538  GATTIS SCHOOL RD             30.49057        -97.67514        30.49351      -97.67573      0.20831"
      ]
     },
     "execution_count": 164,
     "metadata": {},
     "output_type": "execute_result"
    }
   ],
   "source": [
    "df_road = pd.read_csv(\"data/TMC_Identification.csv\", sep=',', header=0)\n",
    "df_road = df_road[['tmc_code','intersection','start_latitude','start_longitude','end_latitude','end_longitude','miles']]\n",
    "print('total number of road segments:',df_road.shape[0])\n",
    "df_road.head(3)"
   ]
  },
  {
   "cell_type": "code",
   "execution_count": 165,
   "metadata": {},
   "outputs": [
    {
     "name": "stdout",
     "output_type": "stream",
     "text": [
      "CPU times: user 187 ms, sys: 0 ns, total: 187 ms\n",
      "Wall time: 141 ms\n"
     ]
    }
   ],
   "source": [
    "%%time\n",
    "from shapely.geometry import LineString\n",
    "from geopandas import GeoDataFrame\n",
    "\n",
    "df_road['geometry'] = df_road.apply(\n",
    "    lambda row: LineString([(row['start_longitude'], row['start_latitude']),\n",
    "                             (row['end_longitude'], row['end_latitude'])]),\n",
    "    axis=1\n",
    ")\n",
    "\n",
    "# Create a GeoDataFrame for road network\n",
    "gdf_road = GeoDataFrame(df_road, geometry='geometry',crs=\"EPSG:4326\")"
   ]
  },
  {
   "cell_type": "code",
   "execution_count": 166,
   "metadata": {},
   "outputs": [
    {
     "data": {
      "text/html": [
       "<div>\n",
       "<style scoped>\n",
       "    .dataframe tbody tr th:only-of-type {\n",
       "        vertical-align: middle;\n",
       "    }\n",
       "\n",
       "    .dataframe tbody tr th {\n",
       "        vertical-align: top;\n",
       "    }\n",
       "\n",
       "    .dataframe thead th {\n",
       "        text-align: right;\n",
       "    }\n",
       "</style>\n",
       "<table border=\"1\" class=\"dataframe\">\n",
       "  <thead>\n",
       "    <tr style=\"text-align: right;\">\n",
       "      <th></th>\n",
       "      <th>tmc_code</th>\n",
       "      <th>intersection</th>\n",
       "      <th>start_latitude</th>\n",
       "      <th>start_longitude</th>\n",
       "      <th>end_latitude</th>\n",
       "      <th>end_longitude</th>\n",
       "      <th>miles</th>\n",
       "      <th>geometry</th>\n",
       "    </tr>\n",
       "  </thead>\n",
       "  <tbody>\n",
       "    <tr>\n",
       "      <th>0</th>\n",
       "      <td>112P13033</td>\n",
       "      <td>W MARTIN LUTHER KING JR BLVD</td>\n",
       "      <td>30.28172</td>\n",
       "      <td>-97.74193</td>\n",
       "      <td>30.28232</td>\n",
       "      <td>-97.74207</td>\n",
       "      <td>0.04249</td>\n",
       "      <td>LINESTRING (-97.74193 30.28172, -97.74207 30.28232)</td>\n",
       "    </tr>\n",
       "    <tr>\n",
       "      <th>1</th>\n",
       "      <td>112+08908</td>\n",
       "      <td>FM-20</td>\n",
       "      <td>30.11066</td>\n",
       "      <td>-97.41049</td>\n",
       "      <td>30.11082</td>\n",
       "      <td>-97.37323</td>\n",
       "      <td>2.22783</td>\n",
       "      <td>LINESTRING (-97.41049 30.11066, -97.37323 30.11082)</td>\n",
       "    </tr>\n",
       "  </tbody>\n",
       "</table>\n",
       "</div>"
      ],
      "text/plain": [
       "    tmc_code                  intersection  start_latitude  start_longitude  end_latitude  end_longitude   miles                                             geometry\n",
       "0  112P13033  W MARTIN LUTHER KING JR BLVD 30.28172        -97.74193        30.28232      -97.74207      0.04249  LINESTRING (-97.74193 30.28172, -97.74207 30.28232)\n",
       "1  112+08908  FM-20                        30.11066        -97.41049        30.11082      -97.37323      2.22783  LINESTRING (-97.41049 30.11066, -97.37323 30.11082)"
      ]
     },
     "execution_count": 166,
     "metadata": {},
     "output_type": "execute_result"
    }
   ],
   "source": [
    "gdf_road.head(2)"
   ]
  },
  {
   "cell_type": "markdown",
   "metadata": {},
   "source": [
    "# Load OSM driving road network of Austin by bouding box\n",
    "## 1. Load OSM road network attributes using OSMnx"
   ]
  },
  {
   "cell_type": "code",
   "execution_count": 125,
   "metadata": {},
   "outputs": [
    {
     "name": "stdout",
     "output_type": "stream",
     "text": [
      "CPU times: user 56.8 s, sys: 0 ns, total: 56.8 s\n",
      "Wall time: 56.7 s\n"
     ]
    }
   ],
   "source": [
    "%%time\n",
    "import osmnx as ox\n",
    "\n",
    "# pandana method does not return road attributes so use osmnx to retrieve them\n",
    "G_osm = ox.graph_from_bbox(bbox=(30.584984, 30.039047, -97.389445, -97.996048), network_type='drive') \n",
    "\n",
    "# Calculate and add compass bearing attributes to all graph edges.\n",
    "G_osm = ox.bearing.add_edge_bearings(G_osm)\n",
    "\n",
    "nodes_osm, edges_osm = ox.graph_to_gdfs(G_osm)"
   ]
  },
  {
   "cell_type": "code",
   "execution_count": 133,
   "metadata": {},
   "outputs": [
    {
     "data": {
      "text/html": [
       "<div>\n",
       "<style scoped>\n",
       "    .dataframe tbody tr th:only-of-type {\n",
       "        vertical-align: middle;\n",
       "    }\n",
       "\n",
       "    .dataframe tbody tr th {\n",
       "        vertical-align: top;\n",
       "    }\n",
       "\n",
       "    .dataframe thead th {\n",
       "        text-align: right;\n",
       "    }\n",
       "</style>\n",
       "<table border=\"1\" class=\"dataframe\">\n",
       "  <thead>\n",
       "    <tr style=\"text-align: right;\">\n",
       "      <th></th>\n",
       "      <th>y</th>\n",
       "      <th>x</th>\n",
       "      <th>street_count</th>\n",
       "      <th>highway</th>\n",
       "      <th>ref</th>\n",
       "      <th>geometry</th>\n",
       "    </tr>\n",
       "    <tr>\n",
       "      <th>osmid</th>\n",
       "      <th></th>\n",
       "      <th></th>\n",
       "      <th></th>\n",
       "      <th></th>\n",
       "      <th></th>\n",
       "      <th></th>\n",
       "    </tr>\n",
       "  </thead>\n",
       "  <tbody>\n",
       "    <tr>\n",
       "      <th>151371439</th>\n",
       "      <td>30.20374</td>\n",
       "      <td>-97.98883</td>\n",
       "      <td>3</td>\n",
       "      <td>NaN</td>\n",
       "      <td>NaN</td>\n",
       "      <td>POINT (-97.98883 30.20374)</td>\n",
       "    </tr>\n",
       "    <tr>\n",
       "      <th>151371447</th>\n",
       "      <td>30.20425</td>\n",
       "      <td>-97.98779</td>\n",
       "      <td>1</td>\n",
       "      <td>turning_circle</td>\n",
       "      <td>NaN</td>\n",
       "      <td>POINT (-97.98779 30.20425)</td>\n",
       "    </tr>\n",
       "  </tbody>\n",
       "</table>\n",
       "</div>"
      ],
      "text/plain": [
       "                 y         x  street_count         highway  ref                    geometry\n",
       "osmid                                                                                      \n",
       "151371439 30.20374 -97.98883  3             NaN             NaN  POINT (-97.98883 30.20374)\n",
       "151371447 30.20425 -97.98779  1             turning_circle  NaN  POINT (-97.98779 30.20425)"
      ]
     },
     "execution_count": 133,
     "metadata": {},
     "output_type": "execute_result"
    }
   ],
   "source": [
    "nodes_osm.head(2)"
   ]
  },
  {
   "cell_type": "code",
   "execution_count": 135,
   "metadata": {},
   "outputs": [
    {
     "data": {
      "text/html": [
       "<div>\n",
       "<style scoped>\n",
       "    .dataframe tbody tr th:only-of-type {\n",
       "        vertical-align: middle;\n",
       "    }\n",
       "\n",
       "    .dataframe tbody tr th {\n",
       "        vertical-align: top;\n",
       "    }\n",
       "\n",
       "    .dataframe thead th {\n",
       "        text-align: right;\n",
       "    }\n",
       "</style>\n",
       "<table border=\"1\" class=\"dataframe\">\n",
       "  <thead>\n",
       "    <tr style=\"text-align: right;\">\n",
       "      <th></th>\n",
       "      <th></th>\n",
       "      <th></th>\n",
       "      <th>osmid</th>\n",
       "      <th>name</th>\n",
       "      <th>highway</th>\n",
       "      <th>oneway</th>\n",
       "      <th>reversed</th>\n",
       "      <th>length</th>\n",
       "      <th>bearing</th>\n",
       "      <th>geometry</th>\n",
       "      <th>ref</th>\n",
       "      <th>bridge</th>\n",
       "      <th>lanes</th>\n",
       "      <th>maxspeed</th>\n",
       "      <th>access</th>\n",
       "      <th>tunnel</th>\n",
       "      <th>width</th>\n",
       "      <th>junction</th>\n",
       "    </tr>\n",
       "    <tr>\n",
       "      <th>u</th>\n",
       "      <th>v</th>\n",
       "      <th>key</th>\n",
       "      <th></th>\n",
       "      <th></th>\n",
       "      <th></th>\n",
       "      <th></th>\n",
       "      <th></th>\n",
       "      <th></th>\n",
       "      <th></th>\n",
       "      <th></th>\n",
       "      <th></th>\n",
       "      <th></th>\n",
       "      <th></th>\n",
       "      <th></th>\n",
       "      <th></th>\n",
       "      <th></th>\n",
       "      <th></th>\n",
       "      <th></th>\n",
       "    </tr>\n",
       "  </thead>\n",
       "  <tbody>\n",
       "    <tr>\n",
       "      <th rowspan=\"2\" valign=\"top\">151371439</th>\n",
       "      <th>151462706</th>\n",
       "      <th>0</th>\n",
       "      <td>15287110</td>\n",
       "      <td>Heritage Drive</td>\n",
       "      <td>residential</td>\n",
       "      <td>False</td>\n",
       "      <td>False</td>\n",
       "      <td>88.55000</td>\n",
       "      <td>341.40000</td>\n",
       "      <td>LINESTRING (-97.98883 30.20374, -97.98913 30.20449)</td>\n",
       "      <td>NaN</td>\n",
       "      <td>NaN</td>\n",
       "      <td>NaN</td>\n",
       "      <td>NaN</td>\n",
       "      <td>NaN</td>\n",
       "      <td>NaN</td>\n",
       "      <td>NaN</td>\n",
       "      <td>NaN</td>\n",
       "    </tr>\n",
       "    <tr>\n",
       "      <th>151371447</th>\n",
       "      <th>0</th>\n",
       "      <td>15277135</td>\n",
       "      <td>Hideaway Cove</td>\n",
       "      <td>residential</td>\n",
       "      <td>False</td>\n",
       "      <td>False</td>\n",
       "      <td>116.61800</td>\n",
       "      <td>60.40000</td>\n",
       "      <td>LINESTRING (-97.98883 30.20374, -97.98848 30.20385, -97.98836 30.20390, -97.98815 30.20401, -97.98793 30.20416, -97.98779 30.20425)</td>\n",
       "      <td>NaN</td>\n",
       "      <td>NaN</td>\n",
       "      <td>NaN</td>\n",
       "      <td>NaN</td>\n",
       "      <td>NaN</td>\n",
       "      <td>NaN</td>\n",
       "      <td>NaN</td>\n",
       "      <td>NaN</td>\n",
       "    </tr>\n",
       "  </tbody>\n",
       "</table>\n",
       "</div>"
      ],
      "text/plain": [
       "                            osmid            name      highway  oneway reversed    length   bearing                                                                                                                             geometry  ref bridge lanes maxspeed access tunnel width junction\n",
       "u         v         key                                                                                                                                                                                                                                                                         \n",
       "151371439 151462706 0    15287110  Heritage Drive  residential  False   False   88.55000  341.40000  LINESTRING (-97.98883 30.20374, -97.98913 30.20449)                                                                                  NaN  NaN    NaN   NaN      NaN    NaN    NaN   NaN    \n",
       "          151371447 0    15277135  Hideaway Cove   residential  False   False   116.61800 60.40000   LINESTRING (-97.98883 30.20374, -97.98848 30.20385, -97.98836 30.20390, -97.98815 30.20401, -97.98793 30.20416, -97.98779 30.20425)  NaN  NaN    NaN   NaN      NaN    NaN    NaN   NaN    "
      ]
     },
     "execution_count": 135,
     "metadata": {},
     "output_type": "execute_result"
    }
   ],
   "source": [
    "edges_osm.head(2)"
   ]
  },
  {
   "cell_type": "code",
   "execution_count": 136,
   "metadata": {},
   "outputs": [],
   "source": [
    "nodes_osm.to_csv('./output/osm_nodes.csv')\n",
    "edges_osm.to_csv('./output/osm_edges.csv')"
   ]
  },
  {
   "cell_type": "markdown",
   "metadata": {},
   "source": [
    "## 2. Load osm network using pandana because it is faster when computing network distance compared with OSMnx"
   ]
  },
  {
   "cell_type": "code",
   "execution_count": 40,
   "metadata": {},
   "outputs": [],
   "source": [
    "# %%time\n",
    "# ## Wall time: 1min\n",
    "from pandana.loaders import osm\n",
    "# network = osm.pdna_network_from_bbox(30.039047, -97.996048, 30.584984, -97.389445, network_type='drive') # pandana method does not return road attributes so use osmnx to retrieve them\n",
    "# network.nodes_df.to_csv('./output/nodes.csv')\n",
    "# network.edges_df.to_csv('./output/edges.csv')\n",
    "# network.edges_df.head()"
   ]
  },
  {
   "cell_type": "code",
   "execution_count": 13,
   "metadata": {},
   "outputs": [
    {
     "name": "stdout",
     "output_type": "stream",
     "text": [
      "64416\n",
      "CPU times: user 23 s, sys: 0 ns, total: 23 s\n",
      "Wall time: 3.14 s\n"
     ]
    }
   ],
   "source": [
    "%%time\n",
    "import pandana\n",
    "# load existing network data\n",
    "nodes = pd.read_csv('./output/nodes.csv', index_col=0)\n",
    "print(nodes.shape[0])\n",
    "edges = pd.read_csv('./output/edges.csv', index_col=[0,1])\n",
    "network = pandana.Network(nodes['x'], nodes['y'], \n",
    "                          edges['from'], edges['to'], edges[['distance']])"
   ]
  },
  {
   "cell_type": "markdown",
   "metadata": {},
   "source": [
    "# Load Airbnb data"
   ]
  },
  {
   "cell_type": "code",
   "execution_count": 167,
   "metadata": {},
   "outputs": [
    {
     "name": "stdout",
     "output_type": "stream",
     "text": [
      "total number of airbnb: 15419\n"
     ]
    }
   ],
   "source": [
    "df_airbnb = pd.read_csv(\"data/airbnb_listings_202312.csv\", sep=',', header=0)\n",
    "print('total number of airbnb:',df_airbnb.shape[0])\n",
    "# df_airbnb.head(2)  \n",
    "\n",
    "#Converting Pandas DataFrame to GeoDataFrame\n",
    "from shapely.geometry import Point\n",
    "from geopandas import GeoDataFrame\n",
    "\n",
    "geometry = [Point(xy) for xy in zip(df_airbnb.longitude, df_airbnb.latitude)]\n",
    "gdf_airbnb = GeoDataFrame(df_airbnb, crs=\"EPSG:4326\", geometry=geometry)\n",
    "gdf_airbnb = gdf_airbnb.to_crs(\"EPSG:3857\") "
   ]
  },
  {
   "cell_type": "markdown",
   "metadata": {},
   "source": [
    "# Feature engineering \n",
    "Dynamic features: event timing, attendance size, proximity to the event venue, proximity to shuttle services, hotel occupancy rates\n",
    "\n",
    "Static features: population density, hotel density"
   ]
  },
  {
   "cell_type": "markdown",
   "metadata": {},
   "source": [
    "## 1. Airbnb count (spatial buffers)\n",
    "Spatial join airbnb locations and road segments to get number of airbnb near roads"
   ]
  },
  {
   "cell_type": "code",
   "execution_count": 171,
   "metadata": {},
   "outputs": [
    {
     "name": "stdout",
     "output_type": "stream",
     "text": [
      "4460\n",
      "CPU times: user 418 ms, sys: 0 ns, total: 418 ms\n",
      "Wall time: 432 ms\n"
     ]
    }
   ],
   "source": [
    "%%time\n",
    "# gdf_airbnb.head(20).explore()\n",
    "gdf_airbnb_need = gdf_airbnb[['id','geometry']]\n",
    "gdf_airbnb_need['airbnb_count'] = 1\n",
    "\n",
    "buffer_distance = 500  # Buffer distance in meters\n",
    "gdf_polyline_buffered = gdf_road.copy()\n",
    "gdf_polyline_buffered = gdf_polyline_buffered.to_crs(\"EPSG:3857\")  # because using spatial buffer, so need to use projected coordinate system\n",
    "\n",
    "# gdf_polyline_buffered = gdf_road.head(100).copy()\n",
    "gdf_polyline_buffered[\"geometry\"] = gdf_polyline_buffered.geometry.buffer(buffer_distance)\n",
    "\n",
    "# gdf_road_w_airbnb = gpd.sjoin(gdf_airbnb, gdf_road, predicate=\"intersects\")\n",
    "gdf_road_w_airbnb = gpd.sjoin(gdf_polyline_buffered, gdf_airbnb_need, predicate=\"intersects\", how=\"left\")\n",
    "print(gdf_road_w_airbnb.tmc_code.unique().shape[0])\n",
    "point_counts = gdf_road_w_airbnb.groupby(\"tmc_code\").airbnb_count.count().reset_index()\n",
    "gdf_road_merged = gdf_road.merge(point_counts, how='left')\n",
    "gdf_road_merged = gdf_road_merged.fillna(0)"
   ]
  },
  {
   "cell_type": "code",
   "execution_count": 104,
   "metadata": {},
   "outputs": [],
   "source": [
    "# gdf_road_merged.explore()"
   ]
  },
  {
   "cell_type": "markdown",
   "metadata": {},
   "source": [
    "## 2. Network distance to venue and shuttles"
   ]
  },
  {
   "cell_type": "code",
   "execution_count": 173,
   "metadata": {},
   "outputs": [],
   "source": [
    "gdf_road_merged['Shuttle_Waterloo_Park'] = gdf_shuttle[gdf_shuttle['Shuttle_Location']=='Shuttle_Waterloo_Park'].geometry.iloc[0]\n",
    "gdf_road_merged['Shuttle_Waterloo_Park'] = gpd.GeoSeries.from_wkt(gdf_road_merged['Shuttle_Waterloo_Park'].astype(str))\n",
    "\n",
    "gdf_road_merged['Shuttle_Barton_Creek_Square'] = gdf_shuttle[gdf_shuttle['Shuttle_Location']=='Shuttle_Barton_Creek_Square'].geometry.iloc[0]\n",
    "gdf_road_merged['Shuttle_Barton_Creek_Square'] = gpd.GeoSeries.from_wkt(gdf_road_merged['Shuttle_Barton_Creek_Square'].astype(str))\n",
    "\n",
    "gdf_road_merged['Shuttle_Expo_Center'] = gdf_shuttle[gdf_shuttle['Shuttle_Location']=='Shuttle_Expo_Center'].geometry.iloc[0]\n",
    "gdf_road_merged['Shuttle_Expo_Center'] = gpd.GeoSeries.from_wkt(gdf_road_merged['Shuttle_Expo_Center'].astype(str))\n",
    "\n",
    "venue_centroid = gdf_venue.iloc[0].geometry.centroid\n",
    "gdf_road_merged[\"venue_centroid\"] = gdf_road_merged.apply(lambda x: venue_centroid, axis=1)"
   ]
  },
  {
   "cell_type": "code",
   "execution_count": 174,
   "metadata": {},
   "outputs": [],
   "source": [
    "# first, identify the nearest node (of pandana network) to each lon lat coordinate of road segments\n",
    "road_start_nodes = network.get_node_ids(gdf_road_merged.start_longitude, gdf_road_merged.start_latitude).values\n",
    "road_end_nodes = network.get_node_ids(gdf_road_merged.end_longitude, gdf_road_merged.end_latitude).values"
   ]
  },
  {
   "cell_type": "code",
   "execution_count": 175,
   "metadata": {},
   "outputs": [],
   "source": [
    "# Nework distance: use the start and end location of each road segment to calculate the shortest path distance (km) and take the average\n",
    "# Distance Unit: km\n",
    "def compute_average_distance_to_poi(df, col):\n",
    "    shuttle_nodes = network.get_node_ids(df[col].x, df[col].y).values\n",
    "    distances_start = network.shortest_path_lengths(road_start_nodes, shuttle_nodes)\n",
    "    distances_end = network.shortest_path_lengths(road_end_nodes, shuttle_nodes)\n",
    "    df['distance_to_'+col+'_start'] = pd.Series(distances_start) / 1000 # covert to km\n",
    "    df['distance_to_'+col+'_end'] =  pd.Series(distances_end) / 1000\n",
    "    df['distance_to_'+col] = (df['distance_to_'+col+'_start'] + df['distance_to_'+col+'_end'])/2\n",
    "    df.drop(columns=['distance_to_'+col+'_start', 'distance_to_'+col+'_end'], inplace=True)\n",
    "    return df"
   ]
  },
  {
   "cell_type": "code",
   "execution_count": 176,
   "metadata": {},
   "outputs": [],
   "source": [
    "gdf_road_merged = compute_average_distance_to_poi(gdf_road_merged, 'venue_centroid')\n",
    "gdf_road_merged = compute_average_distance_to_poi(gdf_road_merged, 'Shuttle_Waterloo_Park')\n",
    "gdf_road_merged = compute_average_distance_to_poi(gdf_road_merged, 'Shuttle_Barton_Creek_Square')\n",
    "gdf_road_merged = compute_average_distance_to_poi(gdf_road_merged, 'Shuttle_Expo_Center')"
   ]
  },
  {
   "cell_type": "markdown",
   "metadata": {},
   "source": [
    "## 3. Matching with OSM road data to enrich network attribute"
   ]
  },
  {
   "cell_type": "code",
   "execution_count": 113,
   "metadata": {},
   "outputs": [],
   "source": [
    "# Function to calculate bearing between two points (start and end of a road segment)\n",
    "def calculate_bearing(start_lat, start_lon, end_lat, end_lon):\n",
    "    # Convert degrees to radians\n",
    "    start_lat = np.radians(start_lat)\n",
    "    start_lon = np.radians(start_lon)\n",
    "    end_lat = np.radians(end_lat)\n",
    "    end_lon = np.radians(end_lon)\n",
    "    \n",
    "    # Difference in longitudes\n",
    "    delta_lon = end_lon - start_lon\n",
    "    \n",
    "    # Bearing calculation\n",
    "    x = np.sin(delta_lon) * np.cos(end_lat)\n",
    "    y = np.cos(start_lat) * np.sin(end_lat) - np.sin(start_lat) * np.cos(end_lat) * np.cos(delta_lon)\n",
    "    bearing = np.arctan2(x, y)\n",
    "    \n",
    "    # Convert from radians to degrees and normalize to 0-360\n",
    "    bearing = np.degrees(bearing)\n",
    "    bearing = (bearing + 360) % 360\n",
    "    return bearing\n",
    "# The bearing value represents the direction from the starting point to the destination, measured clockwise from true north (0° is north, 90° is east, etc.)."
   ]
  },
  {
   "cell_type": "code",
   "execution_count": 115,
   "metadata": {},
   "outputs": [],
   "source": [
    "# Apply the function to calculate bearings for road segments\n",
    "gdf_road_merged['segment_bearing'] = gdf_road_merged.apply(\n",
    "    lambda row: calculate_bearing(row['start_latitude'], row['start_longitude'], row['end_latitude'], row['end_longitude']), axis=1\n",
    ")"
   ]
  },
  {
   "cell_type": "code",
   "execution_count": null,
   "metadata": {},
   "outputs": [],
   "source": []
  },
  {
   "cell_type": "code",
   "execution_count": 162,
   "metadata": {},
   "outputs": [
    {
     "data": {
      "text/html": [
       "<div>\n",
       "<style scoped>\n",
       "    .dataframe tbody tr th:only-of-type {\n",
       "        vertical-align: middle;\n",
       "    }\n",
       "\n",
       "    .dataframe tbody tr th {\n",
       "        vertical-align: top;\n",
       "    }\n",
       "\n",
       "    .dataframe thead th {\n",
       "        text-align: right;\n",
       "    }\n",
       "</style>\n",
       "<table border=\"1\" class=\"dataframe\">\n",
       "  <thead>\n",
       "    <tr style=\"text-align: right;\">\n",
       "      <th></th>\n",
       "      <th>osmid</th>\n",
       "      <th>name</th>\n",
       "      <th>highway</th>\n",
       "      <th>oneway</th>\n",
       "      <th>length</th>\n",
       "      <th>bearing</th>\n",
       "      <th>geometry</th>\n",
       "      <th>lanes</th>\n",
       "      <th>maxspeed</th>\n",
       "      <th>width</th>\n",
       "      <th>junction</th>\n",
       "    </tr>\n",
       "  </thead>\n",
       "  <tbody>\n",
       "    <tr>\n",
       "      <th>0</th>\n",
       "      <td>15287110</td>\n",
       "      <td>Heritage Drive</td>\n",
       "      <td>residential</td>\n",
       "      <td>False</td>\n",
       "      <td>88.55000</td>\n",
       "      <td>341.40000</td>\n",
       "      <td>LINESTRING (-97.98883 30.20374, -97.98913 30.20449)</td>\n",
       "      <td>NaN</td>\n",
       "      <td>NaN</td>\n",
       "      <td>NaN</td>\n",
       "      <td>NaN</td>\n",
       "    </tr>\n",
       "    <tr>\n",
       "      <th>1</th>\n",
       "      <td>15277135</td>\n",
       "      <td>Hideaway Cove</td>\n",
       "      <td>residential</td>\n",
       "      <td>False</td>\n",
       "      <td>116.61800</td>\n",
       "      <td>60.40000</td>\n",
       "      <td>LINESTRING (-97.98883 30.20374, -97.98848 30.20385, -97.98836 30.20390, -97.98815 30.20401, -97.98793 30.20416, -97.98779 30.20425)</td>\n",
       "      <td>NaN</td>\n",
       "      <td>NaN</td>\n",
       "      <td>NaN</td>\n",
       "      <td>NaN</td>\n",
       "    </tr>\n",
       "  </tbody>\n",
       "</table>\n",
       "</div>"
      ],
      "text/plain": [
       "      osmid            name      highway  oneway    length   bearing                                                                                                                             geometry lanes maxspeed width junction\n",
       "0  15287110  Heritage Drive  residential  False  88.55000  341.40000  LINESTRING (-97.98883 30.20374, -97.98913 30.20449)                                                                                  NaN   NaN      NaN   NaN    \n",
       "1  15277135  Hideaway Cove   residential  False  116.61800 60.40000   LINESTRING (-97.98883 30.20374, -97.98848 30.20385, -97.98836 30.20390, -97.98815 30.20401, -97.98793 30.20416, -97.98779 30.20425)  NaN   NaN      NaN   NaN    "
      ]
     },
     "execution_count": 162,
     "metadata": {},
     "output_type": "execute_result"
    }
   ],
   "source": [
    "edges_osm_need = edges_osm.reset_index()\n",
    "edges_osm_need.drop(['u','v','key', 'ref', 'reversed', 'bridge', 'access','tunnel'], axis=1, inplace=True)\n",
    "edges_osm_need.head(2)"
   ]
  },
  {
   "cell_type": "code",
   "execution_count": null,
   "metadata": {},
   "outputs": [],
   "source": [
    "edges_osm_need['geometry'] = gpd.GeoSeries.from_wkt(edges_osm_need['geometry'])\n",
    "edges_osm_need = gpd.GeoDataFrame(edges_osm_need,crs=\"EPSG:3857\", geometry='geometry') #crs=\"EPSG:4326\",\n"
   ]
  },
  {
   "cell_type": "code",
   "execution_count": null,
   "metadata": {},
   "outputs": [],
   "source": []
  },
  {
   "cell_type": "code",
   "execution_count": null,
   "metadata": {},
   "outputs": [],
   "source": []
  },
  {
   "cell_type": "markdown",
   "metadata": {},
   "source": [
    "# Merge with traffic data for tree-based ML prediction model"
   ]
  },
  {
   "cell_type": "code",
   "execution_count": 178,
   "metadata": {},
   "outputs": [],
   "source": [
    "%%time\n",
    "df_traffic = pd.read_csv(\"output/austin_2022_GP_10min_interval_delaydifference.csv\", sep=',', header=0)\n",
    "df_traffic_merged = df_traffic.merge(gdf_road_merged, left_on='tmc_code', right_on='tmc')"
   ]
  },
  {
   "cell_type": "code",
   "execution_count": 188,
   "metadata": {},
   "outputs": [
    {
     "data": {
      "text/html": [
       "<div>\n",
       "<style scoped>\n",
       "    .dataframe tbody tr th:only-of-type {\n",
       "        vertical-align: middle;\n",
       "    }\n",
       "\n",
       "    .dataframe tbody tr th {\n",
       "        vertical-align: top;\n",
       "    }\n",
       "\n",
       "    .dataframe thead th {\n",
       "        text-align: right;\n",
       "    }\n",
       "</style>\n",
       "<table border=\"1\" class=\"dataframe\">\n",
       "  <thead>\n",
       "    <tr style=\"text-align: right;\">\n",
       "      <th></th>\n",
       "      <th>tmc_code</th>\n",
       "      <th>hour_min</th>\n",
       "      <th>delay_baseline</th>\n",
       "      <th>delay_focus</th>\n",
       "      <th>delay_difference</th>\n",
       "      <th>date</th>\n",
       "      <th>intersection</th>\n",
       "      <th>start_latitude</th>\n",
       "      <th>start_longitude</th>\n",
       "      <th>end_latitude</th>\n",
       "      <th>end_longitude</th>\n",
       "      <th>miles</th>\n",
       "      <th>airbnb_count</th>\n",
       "      <th>distance_to_Shuttle_Waterloo_Park</th>\n",
       "      <th>distance_to_Shuttle_Barton_Creek_Square</th>\n",
       "      <th>distance_to_Shuttle_Expo_Center</th>\n",
       "      <th>distance_to_Uber_DelValle_HighSchool</th>\n",
       "      <th>distance_to_venue</th>\n",
       "    </tr>\n",
       "  </thead>\n",
       "  <tbody>\n",
       "    <tr>\n",
       "      <th>0</th>\n",
       "      <td>112+04758</td>\n",
       "      <td>00:00</td>\n",
       "      <td>-0.93268</td>\n",
       "      <td>-0.93268</td>\n",
       "      <td>0.00000</td>\n",
       "      <td>2022-10-21</td>\n",
       "      <td>51ST ST/CAMERON RD/EXIT 237</td>\n",
       "      <td>30.30330</td>\n",
       "      <td>-97.71418</td>\n",
       "      <td>30.30530</td>\n",
       "      <td>-97.71289</td>\n",
       "      <td>0.15814</td>\n",
       "      <td>87</td>\n",
       "      <td>4685.01085</td>\n",
       "      <td>11838.72611</td>\n",
       "      <td>10171.97090</td>\n",
       "      <td>19603.37763</td>\n",
       "      <td>23552.59734</td>\n",
       "    </tr>\n",
       "    <tr>\n",
       "      <th>1</th>\n",
       "      <td>112+04758</td>\n",
       "      <td>00:10</td>\n",
       "      <td>-0.93268</td>\n",
       "      <td>-0.93268</td>\n",
       "      <td>0.00000</td>\n",
       "      <td>2022-10-21</td>\n",
       "      <td>51ST ST/CAMERON RD/EXIT 237</td>\n",
       "      <td>30.30330</td>\n",
       "      <td>-97.71418</td>\n",
       "      <td>30.30530</td>\n",
       "      <td>-97.71289</td>\n",
       "      <td>0.15814</td>\n",
       "      <td>87</td>\n",
       "      <td>4685.01085</td>\n",
       "      <td>11838.72611</td>\n",
       "      <td>10171.97090</td>\n",
       "      <td>19603.37763</td>\n",
       "      <td>23552.59734</td>\n",
       "    </tr>\n",
       "  </tbody>\n",
       "</table>\n",
       "</div>"
      ],
      "text/plain": [
       "    tmc_code hour_min  delay_baseline  delay_focus  delay_difference        date                 intersection  start_latitude  start_longitude  end_latitude  end_longitude   miles  airbnb_count  distance_to_Shuttle_Waterloo_Park  distance_to_Shuttle_Barton_Creek_Square  distance_to_Shuttle_Expo_Center  distance_to_Uber_DelValle_HighSchool  distance_to_venue\n",
       "0  112+04758  00:00   -0.93268        -0.93268     0.00000            2022-10-21  51ST ST/CAMERON RD/EXIT 237 30.30330        -97.71418        30.30530      -97.71289      0.15814  87           4685.01085                         11838.72611                              10171.97090                      19603.37763                           23552.59734       \n",
       "1  112+04758  00:10   -0.93268        -0.93268     0.00000            2022-10-21  51ST ST/CAMERON RD/EXIT 237 30.30330        -97.71418        30.30530      -97.71289      0.15814  87           4685.01085                         11838.72611                              10171.97090                      19603.37763                           23552.59734       "
      ]
     },
     "execution_count": 188,
     "metadata": {},
     "output_type": "execute_result"
    }
   ],
   "source": [
    "df_traffic_merged.head(2)"
   ]
  },
  {
   "cell_type": "code",
   "execution_count": 186,
   "metadata": {},
   "outputs": [],
   "source": [
    "df_traffic_merged.drop(['geometry', 'tmc','Shuttle_Waterloo_Park','Shuttle_Barton_Creek_Square','Shuttle_Expo_Center','venue_centroid'], axis=1, inplace=True)"
   ]
  },
  {
   "cell_type": "code",
   "execution_count": 187,
   "metadata": {},
   "outputs": [
    {
     "name": "stdout",
     "output_type": "stream",
     "text": [
      "CPU times: user 21.2 s, sys: 809 ms, total: 22 s\n",
      "Wall time: 24 s\n"
     ]
    }
   ],
   "source": [
    "%%time\n",
    "df_traffic_merged.to_csv('output/austin_2022_GP_10min_interval_delaydifference_with_features_forML.csv',index=False)"
   ]
  },
  {
   "cell_type": "code",
   "execution_count": null,
   "metadata": {},
   "outputs": [],
   "source": []
  },
  {
   "cell_type": "code",
   "execution_count": null,
   "metadata": {},
   "outputs": [],
   "source": []
  },
  {
   "cell_type": "code",
   "execution_count": null,
   "metadata": {},
   "outputs": [],
   "source": []
  },
  {
   "cell_type": "markdown",
   "metadata": {},
   "source": [
    "# (Optional) Visualizing module"
   ]
  },
  {
   "cell_type": "code",
   "execution_count": 54,
   "metadata": {},
   "outputs": [
    {
     "name": "stdout",
     "output_type": "stream",
     "text": [
      "CPU times: user 541 ms, sys: 0 ns, total: 541 ms\n",
      "Wall time: 581 ms\n"
     ]
    }
   ],
   "source": [
    "%%time\n",
    "# congestion_colors = [\"#00FF00\", \"#ADFF2F\", \"#FFFF00\", \"#FFA500\", \"#FF0000\", \"#8B0000\"]\n",
    "\n",
    "m = gdf_road_merged.explore(\n",
    "    column='airbnb_count',\n",
    "    cmap= \"rainbow\", #\"rainbow\",\n",
    "    tiles=\"CartoDB dark_matter\", # OpenStreetMap, CartoDB dark_matter\n",
    "    categorical=False\n",
    ")\n",
    "\n",
    "m = gdf_shuttle.explore(\n",
    "    m=m,\n",
    "    markersize=40,\n",
    "    linewidth=2,\n",
    "    edgecolor=\"black\",\n",
    ")\n",
    "\n",
    "gdf_venue.explore(\n",
    "    m=m\n",
    ")"
   ]
  },
  {
   "cell_type": "code",
   "execution_count": null,
   "metadata": {},
   "outputs": [],
   "source": []
  },
  {
   "cell_type": "code",
   "execution_count": null,
   "metadata": {},
   "outputs": [],
   "source": []
  }
 ],
 "metadata": {
  "kernelspec": {
   "display_name": "python3.8",
   "language": "python",
   "name": "python3.8"
  },
  "language_info": {
   "codemirror_mode": {
    "name": "ipython",
    "version": 3
   },
   "file_extension": ".py",
   "mimetype": "text/x-python",
   "name": "python",
   "nbconvert_exporter": "python",
   "pygments_lexer": "ipython3",
   "version": "3.8.5"
  }
 },
 "nbformat": 4,
 "nbformat_minor": 2
}
