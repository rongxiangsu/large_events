{
 "cells": [
  {
   "cell_type": "code",
   "execution_count": 3,
   "id": "93222aa7-4689-4e6f-84ff-f7b0c407b193",
   "metadata": {},
   "outputs": [],
   "source": [
    "import pandas as pd\n",
    "pd.set_option('display.max_colwidth', 0)\n",
    "pd.set_option('display.max_rows', 200)\n",
    "pd.set_option('display.max_columns', 500)\n",
    "pd.set_option('display.width', 1000)\n",
    "import warnings\n",
    "warnings.filterwarnings('ignore')\n",
    "pd.options.display.float_format = '{:.5f}'.format\n",
    "\n",
    "import matplotlib.pyplot as plt\n",
    "import geopandas as gpd\n",
    "import numpy as np \n",
    "import datetime\n",
    "import osmnx as ox"
   ]
  },
  {
   "cell_type": "code",
   "execution_count": 4,
   "id": "a42e2b6b-6ee7-4737-9fc1-641fdb8f5160",
   "metadata": {},
   "outputs": [
    {
     "data": {
      "text/html": [
       "<div>\n",
       "<style scoped>\n",
       "    .dataframe tbody tr th:only-of-type {\n",
       "        vertical-align: middle;\n",
       "    }\n",
       "\n",
       "    .dataframe tbody tr th {\n",
       "        vertical-align: top;\n",
       "    }\n",
       "\n",
       "    .dataframe thead th {\n",
       "        text-align: right;\n",
       "    }\n",
       "</style>\n",
       "<table border=\"1\" class=\"dataframe\">\n",
       "  <thead>\n",
       "    <tr style=\"text-align: right;\">\n",
       "      <th></th>\n",
       "      <th>geometry</th>\n",
       "      <th>name</th>\n",
       "    </tr>\n",
       "  </thead>\n",
       "  <tbody>\n",
       "    <tr>\n",
       "      <th>0</th>\n",
       "      <td>POLYGON ((-97.64739 30.13196, -97.63569 30.14634, -97.61965 30.14039, -97.63146 30.12263, -97.64739 30.13196))</td>\n",
       "      <td>the Circuit of the Americas</td>\n",
       "    </tr>\n",
       "  </tbody>\n",
       "</table>\n",
       "</div>"
      ],
      "text/plain": [
       "                                                                                                         geometry                         name\n",
       "0  POLYGON ((-97.64739 30.13196, -97.63569 30.14634, -97.61965 30.14039, -97.63146 30.12263, -97.64739 30.13196))  the Circuit of the Americas"
      ]
     },
     "execution_count": 4,
     "metadata": {},
     "output_type": "execute_result"
    }
   ],
   "source": [
    "# Create a polygon for event venue\n",
    "from shapely.geometry import Polygon\n",
    "import geopandas as gpd\n",
    "\n",
    "lat_point_list = [30.131962, 30.146337, 30.140386, 30.122629]\n",
    "lon_point_list = [-97.647388, -97.635686, -97.619652, -97.631465]\n",
    "polygon_geom = Polygon(zip(lon_point_list, lat_point_list))\n",
    "polygon = gpd.GeoDataFrame(index=[0], crs='epsg:4326', geometry=[polygon_geom])       \n",
    "polygon['name']  = 'the Circuit of the Americas'\n",
    "polygon\n",
    "# polygon.explore()"
   ]
  },
  {
   "cell_type": "code",
   "execution_count": 3,
   "id": "b0118978-1c25-4353-9e4b-ad29e3ccc82f",
   "metadata": {},
   "outputs": [],
   "source": [
    "# %%time\n",
    "# df_stops = pd.read_pickle(\"./data/cuebiq/texas_stops_20221021_20221023.pkl\")  \n",
    "# df_stops['Time'] = df_stops['stop_zoned_datetime'].astype(str).str[0:-6]\n",
    "# df_stops.drop(['stop_zoned_datetime'], axis=1, inplace=True)\n",
    "# df_stops['Time'] = pd.to_datetime(df_stops['Time'], errors='coerce')\n",
    "# print(df_stops.shape[0])\n",
    "# print(df_stops.cuebiq_id.unique().shape[0])\n",
    "# df_stops.head(2)"
   ]
  },
  {
   "cell_type": "code",
   "execution_count": 6,
   "id": "45452f17-da17-4ad6-a4ed-57cb0905645d",
   "metadata": {},
   "outputs": [],
   "source": [
    "# df_stops_need = df_stops[['cuebiq_id','lat','lng','event_date','Time','dwell_time_minutes']]\n",
    "# df_stops_need['departure_time'] = df_stops_need['Time'] + pd.to_timedelta(df_stops_need['dwell_time_minutes'], unit='m')\n",
    "# df_stops_need = df_stops_need[['cuebiq_id','lat','lng','departure_time']]\n",
    "\n",
    "# import geopandas as gpd\n",
    "\n",
    "# gdf_stops = gpd.GeoDataFrame(\n",
    "#     df_stops_need,\n",
    "#     geometry=gpd.points_from_xy(df_stops_need.lng, df_stops_need.lat),\n",
    "#     crs=\"EPSG:4326\"\n",
    "# )\n",
    "# df_stops_need.head()"
   ]
  },
  {
   "cell_type": "markdown",
   "id": "ee3f80c2-9ea0-4ce1-9643-795536a7d348",
   "metadata": {},
   "source": [
    "# Load traj data"
   ]
  },
  {
   "cell_type": "code",
   "execution_count": 5,
   "id": "a8264a44-d72e-47fa-bb26-370a222fa594",
   "metadata": {},
   "outputs": [
    {
     "name": "stdout",
     "output_type": "stream",
     "text": [
      "20\n",
      "5\n"
     ]
    }
   ],
   "source": [
    "df_traj = pd.read_pickle(\"./data/cuebiq/texas_traj_20221021_20221023.pkl\")  \n",
    "df_traj=df_traj.head(20)\n",
    "print(df_traj.shape[0])\n",
    "print(df_traj.cuebiq_id.unique().shape[0])"
   ]
  },
  {
   "cell_type": "code",
   "execution_count": 6,
   "id": "f6c81442-ea79-43e9-83c2-bcbc30f14e6a",
   "metadata": {},
   "outputs": [
    {
     "name": "stdout",
     "output_type": "stream",
     "text": [
      "20\n"
     ]
    },
    {
     "data": {
      "text/plain": [
       "count   20.00000\n",
       "mean    12.39240\n",
       "std     18.02880\n",
       "min     0.42255 \n",
       "25%     1.11876 \n",
       "50%     4.68651 \n",
       "75%     16.76561\n",
       "max     75.37142\n",
       "Name: cuebiq_trip_km, dtype: float64"
      ]
     },
     "execution_count": 6,
     "metadata": {},
     "output_type": "execute_result"
    }
   ],
   "source": [
    "df_traj_need = df_traj[(df_traj['start_admin1']=='US.TX')&(df_traj['end_admin1']=='US.TX')]\n",
    "print(df_traj_need.shape[0])\n",
    "df_traj_need = df_traj_need.rename(columns={\"duration_minutes\":\"cuebiq_travel_time_min\"})\n",
    "df_traj_need['cuebiq_trip_km'] = df_traj_need.length_meters/1000\n",
    "df_traj_need['cuebiq_trip_km'].describe()"
   ]
  },
  {
   "cell_type": "code",
   "execution_count": 7,
   "id": "3831b597-2886-42b6-9fa8-003bd1936516",
   "metadata": {},
   "outputs": [],
   "source": [
    "df_traj_need['end_zoned_datetime'] = pd.to_datetime(df_traj_need['end_zoned_datetime'], utc=True)\n",
    "df_traj_need['start_zoned_datetime'] = pd.to_datetime(df_traj_need['start_zoned_datetime'], utc=True)"
   ]
  },
  {
   "cell_type": "markdown",
   "id": "bdc17cd4-2306-4c8d-99ef-e2678b898bfa",
   "metadata": {},
   "source": [
    "# Load Austin OSM network "
   ]
  },
  {
   "cell_type": "code",
   "execution_count": 8,
   "id": "27874af2-398c-4df9-9008-594aceb229e8",
   "metadata": {},
   "outputs": [],
   "source": [
    "# Convert to GeoDataFrames (assuming you have 'x' and 'y' columns for coordinates)\n",
    "nodes_df = pd.read_csv('./output/osm_nodes.csv')\n",
    "edges_df = pd.read_csv('./output/osm_edges.csv')\n",
    "\n",
    "nodes_df['geometry'] = gpd.GeoSeries.from_wkt(nodes_df['geometry'])\n",
    "edges_df['geometry'] = gpd.GeoSeries.from_wkt(edges_df['geometry'])\n",
    "\n",
    "nodes_gdf = gpd.GeoDataFrame(nodes_df, crs=\"EPSG:3857\", geometry='geometry')\n",
    "edges_gdf = gpd.GeoDataFrame(edges_df, crs=\"EPSG:3857\", geometry='geometry')\n",
    "\n",
    "nodes_gdf = nodes_gdf.set_index('osmid')\n",
    "edges_gdf.set_index(['u', 'v','key'], inplace=True)\n",
    "\n",
    "G = ox.graph_from_gdfs(nodes_gdf, edges_gdf)\n",
    "\n",
    "# same thing again, but this time pass in a few default speed values (km/hour)\n",
    "# to fill in edges with missing `maxspeed` from OSM\n",
    "hwy_speeds = {\"residential\": 35, \"secondary\": 50, \"tertiary\": 60}\n",
    "G = ox.routing.add_edge_speeds(G, hwy_speeds=hwy_speeds)\n",
    "G = ox.routing.add_edge_travel_times(G)"
   ]
  },
  {
   "cell_type": "code",
   "execution_count": 9,
   "id": "56aa7158-fcea-48c9-b60c-84593edcc3a4",
   "metadata": {},
   "outputs": [],
   "source": [
    "# # see mean speed/time values by road type\n",
    "# edges = ox.convert.graph_to_gdfs(G, nodes=False)\n",
    "# edges[\"highway\"] = edges[\"highway\"].astype(str)\n",
    "# edges.groupby(\"highway\")[[\"length\", \"speed_kph\", \"travel_time\"]].mean().round(1)"
   ]
  },
  {
   "cell_type": "code",
   "execution_count": 10,
   "id": "19557101-1535-473f-8a5d-a71d7bc40957",
   "metadata": {},
   "outputs": [],
   "source": [
    "df_traj_need['trajectory_wkt'] = gpd.GeoSeries.from_wkt(df_traj_need['trajectory_wkt'])"
   ]
  },
  {
   "cell_type": "code",
   "execution_count": 11,
   "id": "75c783b4-34be-4346-b662-faa613709e7e",
   "metadata": {},
   "outputs": [],
   "source": [
    "gdf_traj_need = gpd.GeoDataFrame(df_traj_need,crs=\"EPSG:4326\", geometry='trajectory_wkt')\n",
    "gdf_traj_need[\"points_list\"] = gdf_traj_need[\"trajectory_wkt\"].apply(lambda line: list(line.coords))"
   ]
  },
  {
   "cell_type": "code",
   "execution_count": 12,
   "id": "60559a2d-99f4-4425-a54f-7e47cd58ef30",
   "metadata": {},
   "outputs": [],
   "source": [
    "def shortest_path_distance(G, point1_x, point1_y, point2_x, point2_y):\n",
    "    try:\n",
    "        # Find nearest OSM nodes\n",
    "        orig_node = ox.distance.nearest_nodes(G, X=point1_x, Y=point1_y)\n",
    "        dest_node = ox.distance.nearest_nodes(G, X=point2_x, Y=point2_y)\n",
    "        \n",
    "        # Compute shortest path distance (weight = 'length' gives distance in meters)\n",
    "        routes = ox.routing.shortest_path(G, orig_node, dest_node, weight=\"travel_time\",cpus=1)\n",
    "        # if len(routes) <= 1: return 0,0\n",
    "        # else:\n",
    "        trip_dist_total, trip_duration_total = 0,0\n",
    "        for r in routes:\n",
    "            if r == None or len(r) <= 1:\n",
    "                trip_dist_total+=0\n",
    "                trip_duration_total+=0\n",
    "            else: \n",
    "                df_one_shortest_path = ox.routing.route_to_gdf(G, r, weight='travel_time')\n",
    "                v_trip_distance = df_one_shortest_path[\"length\"].sum()/1000\n",
    "                v_trip_duration = df_one_shortest_path[\"travel_time\"].sum()/60\n",
    "                trip_dist_total += v_trip_distance\n",
    "                trip_duration_total += v_trip_duration\n",
    "        # print(trip_dist_total)\n",
    "        return trip_dist_total, trip_duration_total\n",
    "    except:\n",
    "        print('error')\n",
    "        return 0,0\n",
    "\n",
    "def compute_shortest_distances(row, G):\n",
    "    \"\"\" Compute total shortest path distances and travel times for a sampled subset of points in a LineString. \"\"\"\n",
    "    points = row[\"points_list\"]\n",
    "    # if row.name % 20 == 0:  # Print progress every 100 rows\n",
    "        # print(datetime.datetime.now(),f\"Processing row {row.name}...\")\n",
    "\n",
    "    if len(points) < 2:\n",
    "        return 0, 0  # Not enough points to compute distances\n",
    "\n",
    "    step = max(1, len(points) // 20)  # Step size to skip points\n",
    "    origin_list_x, origin_list_y,desti_list_x,desti_list_y = [],[],[],[]\n",
    "    for i in range(0, len(points) - step, step):  # Skip points based on step size\n",
    "        origin_list_x.append(points[i][0])\n",
    "        origin_list_y.append(points[i][1])\n",
    "        desti_list_x.append(points[i + step][0])\n",
    "        desti_list_y.append(points[i + step][1])\n",
    "        \n",
    "    dist_total, travel_time_total = shortest_path_distance(G, origin_list_x, origin_list_y, desti_list_x, desti_list_y)\n",
    "    return dist_total, travel_time_total \n",
    "\n",
    "# test = gdf_traj_need_car.iloc[[2]]\n",
    "# test[[\"osm_new_dist\", \"osm_new_travel_times\"]] = test.apply(lambda row: compute_shortest_distances(row, G), axis=1).apply(pd.Series)\n",
    "# test[['cuebiq_id','number_of_points','start_zoned_datetime','end_zoned_datetime','cuebiq_trip_km', 'osm_new_dist','cuebiq_travel_time_min','osm_new_travel_times']]"
   ]
  },
  {
   "cell_type": "code",
   "execution_count": 44,
   "id": "d612c0fc-1f70-43bc-9fa4-ac795a93331d",
   "metadata": {},
   "outputs": [],
   "source": [
    "# def shortest_path_distance2(G, point1, point2):\n",
    "#     try:\n",
    "#         # Find nearest OSM nodes\n",
    "#         orig_node = ox.distance.nearest_nodes(G, X=point1[0], Y=point1[1])\n",
    "#         dest_node = ox.distance.nearest_nodes(G, X=point2[0], Y=point2[1])\n",
    "        \n",
    "#         # Compute shortest path distance (weight = 'length' gives distance in meters)\n",
    "#         route = ox.routing.shortest_path(G, orig_node, dest_node, weight=\"travel_time\",cpus=1)\n",
    "#         if len(route) <= 1: return 0,0\n",
    "#         else:\n",
    "#             df_one_shortest_path = ox.routing.route_to_gdf(G, route, weight='travel_time')\n",
    "#             v_trip_distance = df_one_shortest_path[\"length\"].sum()/1000\n",
    "#             v_trip_duration = df_one_shortest_path[\"travel_time\"].sum()/60\n",
    "#             return v_trip_distance,v_trip_duration\n",
    "#     except:\n",
    "#         return 0,0\n",
    "\n",
    "# def compute_shortest_distances2(row, G):\n",
    "#     \"\"\" Compute total shortest path distances and travel times for a sampled subset of points in a LineString. \"\"\"\n",
    "#     points = row[\"points_list\"]\n",
    "#     distances, times = 0, 0\n",
    "#     if row.name % 20 == 0:  # Print progress every 100 rows\n",
    "#         print(datetime.datetime.now(),f\"Processing row {row.name}...\")\n",
    "\n",
    "#     if len(points) < 2:\n",
    "#         return 0, 0  # Not enough points to compute distances\n",
    "\n",
    "#     step = max(1, len(points) // 20)  # Step size to skip points\n",
    "#     for i in range(0, len(points) - step, step):  # Skip points based on step size\n",
    "#         dist, t = shortest_path_distance2(G, points[i], points[i + step])\n",
    "        \n",
    "#         if dist is not None:\n",
    "#             distances += dist\n",
    "#         if t is not None:\n",
    "#             times += t\n",
    "    \n",
    "#     return distances, times       \n",
    "\n",
    "# test2 = gdf_traj_need_car.head(15)\n",
    "# test2[[\"osm_new_dist\", \"osm_new_travel_times\"]] = test2.apply(lambda row: compute_shortest_distances2(row, G), axis=1).apply(pd.Series)   \n",
    "# test2[['cuebiq_id','number_of_points','start_zoned_datetime','end_zoned_datetime','cuebiq_trip_km', 'osm_new_dist','cuebiq_travel_time_min','osm_new_travel_times']]"
   ]
  },
  {
   "cell_type": "code",
   "execution_count": 13,
   "id": "e2d640e8-26a0-497c-843b-8b171ae08d7c",
   "metadata": {},
   "outputs": [
    {
     "name": "stdout",
     "output_type": "stream",
     "text": [
      "2\n"
     ]
    }
   ],
   "source": [
    "# These are likely to be car trips\n",
    "# test = gdf_traj_need.head(5)\n",
    "# test[[\"osm_new_dist\", \"osm_new_travel_times\"]] = test.apply(lambda row: compute_shortest_distances(row, G), axis=1).apply(pd.Series)\n",
    "gdf_traj_need['speed'] = gdf_traj_need['cuebiq_trip_km']/gdf_traj_need['cuebiq_travel_time_min']\n",
    "gdf_traj_need_car = gdf_traj_need[gdf_traj_need['speed']>0.401]\n",
    "gdf_traj_need_car  = gdf_traj_need_car[gdf_traj_need_car['number_of_points']>2]\n",
    "print(gdf_traj_need_car.shape[0])\n",
    "# gdf_traj_need_car.head(1)"
   ]
  },
  {
   "cell_type": "code",
   "execution_count": 14,
   "id": "0eec2cd0-e81e-41b6-9d8d-db2293fef730",
   "metadata": {},
   "outputs": [
    {
     "data": {
      "text/html": [
       "<div>\n",
       "<style scoped>\n",
       "    .dataframe tbody tr th:only-of-type {\n",
       "        vertical-align: middle;\n",
       "    }\n",
       "\n",
       "    .dataframe tbody tr th {\n",
       "        vertical-align: top;\n",
       "    }\n",
       "\n",
       "    .dataframe thead th {\n",
       "        text-align: right;\n",
       "    }\n",
       "</style>\n",
       "<table border=\"1\" class=\"dataframe\">\n",
       "  <thead>\n",
       "    <tr style=\"text-align: right;\">\n",
       "      <th></th>\n",
       "      <th>cuebiq_id</th>\n",
       "      <th>device_type_code</th>\n",
       "      <th>os_name</th>\n",
       "      <th>start_zoned_datetime</th>\n",
       "      <th>start_geohash</th>\n",
       "      <th>start_lat</th>\n",
       "      <th>start_lng</th>\n",
       "      <th>start_country</th>\n",
       "      <th>start_admin1</th>\n",
       "      <th>start_admin2</th>\n",
       "      <th>start_block_group_id</th>\n",
       "      <th>end_zoned_datetime</th>\n",
       "      <th>end_geohash</th>\n",
       "      <th>end_lat</th>\n",
       "      <th>end_lng</th>\n",
       "      <th>end_country</th>\n",
       "      <th>end_admin1</th>\n",
       "      <th>end_admin2</th>\n",
       "      <th>end_block_group_id</th>\n",
       "      <th>number_of_points</th>\n",
       "      <th>cuebiq_travel_time_min</th>\n",
       "      <th>speed_kinematic_ms_min</th>\n",
       "      <th>speed_kinematic_ms_avg</th>\n",
       "      <th>speed_kinematic_ms_max</th>\n",
       "      <th>speed_gps_ms_min</th>\n",
       "      <th>speed_gps_ms_avg</th>\n",
       "      <th>speed_gps_ms_max</th>\n",
       "      <th>max_time_gap_seconds</th>\n",
       "      <th>length_meters</th>\n",
       "      <th>trajectory_wkt</th>\n",
       "      <th>provider_id</th>\n",
       "      <th>event_date</th>\n",
       "      <th>cuebiq_trip_km</th>\n",
       "      <th>points_list</th>\n",
       "      <th>speed</th>\n",
       "      <th>osm_new_dist</th>\n",
       "      <th>osm_new_travel_times</th>\n",
       "    </tr>\n",
       "  </thead>\n",
       "  <tbody>\n",
       "    <tr>\n",
       "      <th>7</th>\n",
       "      <td>5801554458</td>\n",
       "      <td>GAID</td>\n",
       "      <td>ANDROID</td>\n",
       "      <td>2022-10-23 15:41:25+00:00</td>\n",
       "      <td>9v6t95kd9</td>\n",
       "      <td>30.51636</td>\n",
       "      <td>-97.68418</td>\n",
       "      <td>US</td>\n",
       "      <td>US.TX</td>\n",
       "      <td>US.TX.491</td>\n",
       "      <td>US.TX.491.021503.1</td>\n",
       "      <td>2022-10-23 15:52:45+00:00</td>\n",
       "      <td>9v6t3kt0k</td>\n",
       "      <td>30.47888</td>\n",
       "      <td>-97.67236</td>\n",
       "      <td>US</td>\n",
       "      <td>US.TX</td>\n",
       "      <td>US.TX.453</td>\n",
       "      <td>US.TX.453.001857.2</td>\n",
       "      <td>10</td>\n",
       "      <td>11.33333</td>\n",
       "      <td>0.50974</td>\n",
       "      <td>8.93171</td>\n",
       "      <td>18.45390</td>\n",
       "      <td>0.00000</td>\n",
       "      <td>7.78875</td>\n",
       "      <td>18.36000</td>\n",
       "      <td>233</td>\n",
       "      <td>4810.49834</td>\n",
       "      <td>LINESTRING (-97.68418 30.51636, -97.68306 30.5168, -97.6822 30.51625, -97.67865 30.50814, -97.6759 30.49678, -97.67516 30.49037, -97.6773 30.48875, -97.67472 30.48111, -97.6749 30.47923, -97.67236 30.47888)</td>\n",
       "      <td>190199</td>\n",
       "      <td>20221023</td>\n",
       "      <td>4.81050</td>\n",
       "      <td>[(-97.68418, 30.51636), (-97.68306, 30.5168), (-97.6822, 30.51625), (-97.67865, 30.50814), (-97.6759, 30.49678), (-97.67516, 30.49037), (-97.6773, 30.48875), (-97.67472, 30.48111), (-97.6749, 30.47923), (-97.67236, 30.47888)]</td>\n",
       "      <td>0.42446</td>\n",
       "      <td>10.34160</td>\n",
       "      <td>10.57394</td>\n",
       "    </tr>\n",
       "    <tr>\n",
       "      <th>10</th>\n",
       "      <td>5801554458</td>\n",
       "      <td>GAID</td>\n",
       "      <td>ANDROID</td>\n",
       "      <td>2022-10-23 21:23:05+00:00</td>\n",
       "      <td>9v6kg1z0n</td>\n",
       "      <td>30.37585</td>\n",
       "      <td>-97.94421</td>\n",
       "      <td>US</td>\n",
       "      <td>US.TX</td>\n",
       "      <td>US.TX.453</td>\n",
       "      <td>US.TX.453.001742.2</td>\n",
       "      <td>2022-10-23 22:01:02+00:00</td>\n",
       "      <td>9v6mqecj3</td>\n",
       "      <td>30.47564</td>\n",
       "      <td>-97.79886</td>\n",
       "      <td>US</td>\n",
       "      <td>US.TX</td>\n",
       "      <td>US.TX.491</td>\n",
       "      <td>US.TX.491.020311.1</td>\n",
       "      <td>55</td>\n",
       "      <td>37.95000</td>\n",
       "      <td>0.02330</td>\n",
       "      <td>22.02530</td>\n",
       "      <td>30.90641</td>\n",
       "      <td>0.00000</td>\n",
       "      <td>22.21245</td>\n",
       "      <td>30.95000</td>\n",
       "      <td>755</td>\n",
       "      <td>21670.78860</td>\n",
       "      <td>LINESTRING (-97.94421 30.37585, -97.94609 30.37688, -97.9464 30.3771, -97.94196 30.38771, -97.93529 30.39312, -97.92412 30.39694, -97.90996 30.3916, -97.90841 30.38927, -97.90809 30.38882, -97.90771 30.38841, -97.90728 30.38805, -97.90679 30.38774, -97.90626 30.3875, -97.9057 30.38732, -97.90511 30.3872, -97.9045 30.38714, -97.90389 30.38716, -97.90327 30.38723, -97.90266 30.38729, -97.90204 30.38735, -97.90141 30.38742, -97.90077 30.38748, -97.90013 30.38755, -97.8995 30.38761, -97.89888 30.38764, -97.89828 30.38763, -97.8977 30.38756, -97.89712 30.38748, -97.89656 30.38742, -97.89599 30.3874, -97.89542 30.38743, -97.89485 30.38751, -97.89428 30.38764, -97.89368 30.38778, -97.89308 30.38794, -97.8925 30.38817, -97.89145 30.3888, -97.88276 30.38979, -97.86716 30.39473, -97.85478 30.40215, -97.85345 30.40473, -97.84786 30.41578, -97.84388 30.42526, -97.84233 30.42978, -97.83305 30.4436, -97.82597 30.45527, -97.82595 30.45527, -97.81623 30.46209, -97.80494 30.46569, -97.80416 30.46594, -97.79756 30.46796, -97.79691 30.46982, -97.79652 30.47434, -97.79706 30.47562, -97.79886 30.47564)</td>\n",
       "      <td>190199</td>\n",
       "      <td>20221023</td>\n",
       "      <td>21.67079</td>\n",
       "      <td>[(-97.94421, 30.37585), (-97.94609, 30.37688), (-97.9464, 30.3771), (-97.94196, 30.38771), (-97.93529, 30.39312), (-97.92412, 30.39694), (-97.90996, 30.3916), (-97.90841, 30.38927), (-97.90809, 30.38882), (-97.90771, 30.38841), (-97.90728, 30.38805), (-97.90679, 30.38774), (-97.90626, 30.3875), (-97.9057, 30.38732), (-97.90511, 30.3872), (-97.9045, 30.38714), (-97.90389, 30.38716), (-97.90327, 30.38723), (-97.90266, 30.38729), (-97.90204, 30.38735), (-97.90141, 30.38742), (-97.90077, 30.38748), (-97.90013, 30.38755), (-97.8995, 30.38761), (-97.89888, 30.38764), (-97.89828, 30.38763), (-97.8977, 30.38756), (-97.89712, 30.38748), (-97.89656, 30.38742), (-97.89599, 30.3874), (-97.89542, 30.38743), (-97.89485, 30.38751), (-97.89428, 30.38764), (-97.89368, 30.38778), (-97.89308, 30.38794), (-97.8925, 30.38817), (-97.89145, 30.3888), (-97.88276, 30.38979), (-97.86716, 30.39473), (-97.85478, 30.40215), (-97.85345, 30.40473), (-97.84786, 30.41578), (-97.84388, 30.42526), (-97.84233, 30.42978), (-97.83305, 30.4436), (-97.82597, 30.45527), (-97.82595, 30.45527), (-97.81623, 30.46209), (-97.80494, 30.46569), (-97.80416, 30.46594), (-97.79756, 30.46796), (-97.79691, 30.46982), (-97.79652, 30.47434), (-97.79706, 30.47562), (-97.79886, 30.47564)]</td>\n",
       "      <td>0.57104</td>\n",
       "      <td>26.04693</td>\n",
       "      <td>22.17187</td>\n",
       "    </tr>\n",
       "  </tbody>\n",
       "</table>\n",
       "</div>"
      ],
      "text/plain": [
       "     cuebiq_id device_type_code  os_name      start_zoned_datetime start_geohash  start_lat  start_lng start_country start_admin1 start_admin2 start_block_group_id        end_zoned_datetime end_geohash  end_lat   end_lng end_country end_admin1 end_admin2  end_block_group_id  number_of_points  cuebiq_travel_time_min  speed_kinematic_ms_min  speed_kinematic_ms_avg  speed_kinematic_ms_max  speed_gps_ms_min  speed_gps_ms_avg  speed_gps_ms_max  max_time_gap_seconds  length_meters  \\\n",
       "7   5801554458  GAID             ANDROID 2022-10-23 15:41:25+00:00  9v6t95kd9    30.51636   -97.68418   US            US.TX        US.TX.491    US.TX.491.021503.1  2022-10-23 15:52:45+00:00  9v6t3kt0k  30.47888 -97.67236  US          US.TX      US.TX.453  US.TX.453.001857.2  10               11.33333                0.50974                 8.93171                 18.45390                0.00000           7.78875           18.36000           233                  4810.49834       \n",
       "10  5801554458  GAID             ANDROID 2022-10-23 21:23:05+00:00  9v6kg1z0n    30.37585   -97.94421   US            US.TX        US.TX.453    US.TX.453.001742.2  2022-10-23 22:01:02+00:00  9v6mqecj3  30.47564 -97.79886  US          US.TX      US.TX.491  US.TX.491.020311.1  55               37.95000                0.02330                 22.02530                30.90641                0.00000           22.21245          30.95000           755                  21670.78860      \n",
       "\n",
       "                                                                                                                                                                                                                                                                                                                                                                                                                                                                                                                                                                                                                                                                                                                                                                                                                                                                                                                                                                                                                                                                                                                                trajectory_wkt  \\\n",
       "7   LINESTRING (-97.68418 30.51636, -97.68306 30.5168, -97.6822 30.51625, -97.67865 30.50814, -97.6759 30.49678, -97.67516 30.49037, -97.6773 30.48875, -97.67472 30.48111, -97.6749 30.47923, -97.67236 30.47888)                                                                                                                                                                                                                                                                                                                                                                                                                                                                                                                                                                                                                                                                                                                                                                                                                                                                                                                               \n",
       "10  LINESTRING (-97.94421 30.37585, -97.94609 30.37688, -97.9464 30.3771, -97.94196 30.38771, -97.93529 30.39312, -97.92412 30.39694, -97.90996 30.3916, -97.90841 30.38927, -97.90809 30.38882, -97.90771 30.38841, -97.90728 30.38805, -97.90679 30.38774, -97.90626 30.3875, -97.9057 30.38732, -97.90511 30.3872, -97.9045 30.38714, -97.90389 30.38716, -97.90327 30.38723, -97.90266 30.38729, -97.90204 30.38735, -97.90141 30.38742, -97.90077 30.38748, -97.90013 30.38755, -97.8995 30.38761, -97.89888 30.38764, -97.89828 30.38763, -97.8977 30.38756, -97.89712 30.38748, -97.89656 30.38742, -97.89599 30.3874, -97.89542 30.38743, -97.89485 30.38751, -97.89428 30.38764, -97.89368 30.38778, -97.89308 30.38794, -97.8925 30.38817, -97.89145 30.3888, -97.88276 30.38979, -97.86716 30.39473, -97.85478 30.40215, -97.85345 30.40473, -97.84786 30.41578, -97.84388 30.42526, -97.84233 30.42978, -97.83305 30.4436, -97.82597 30.45527, -97.82595 30.45527, -97.81623 30.46209, -97.80494 30.46569, -97.80416 30.46594, -97.79756 30.46796, -97.79691 30.46982, -97.79652 30.47434, -97.79706 30.47562, -97.79886 30.47564)   \n",
       "\n",
       "   provider_id  event_date  cuebiq_trip_km  \\\n",
       "7   190199      20221023   4.81050           \n",
       "10  190199      20221023   21.67079          \n",
       "\n",
       "                                                                                                                                                                                                                                                                                                                                                                                                                                                                                                                                                                                                                                                                                                                                                                                                                                                                                                                                                                                                                                                                                                                                                                                                                                                                                             points_list  \\\n",
       "7   [(-97.68418, 30.51636), (-97.68306, 30.5168), (-97.6822, 30.51625), (-97.67865, 30.50814), (-97.6759, 30.49678), (-97.67516, 30.49037), (-97.6773, 30.48875), (-97.67472, 30.48111), (-97.6749, 30.47923), (-97.67236, 30.47888)]                                                                                                                                                                                                                                                                                                                                                                                                                                                                                                                                                                                                                                                                                                                                                                                                                                                                                                                                                                                                                                                                      \n",
       "10  [(-97.94421, 30.37585), (-97.94609, 30.37688), (-97.9464, 30.3771), (-97.94196, 30.38771), (-97.93529, 30.39312), (-97.92412, 30.39694), (-97.90996, 30.3916), (-97.90841, 30.38927), (-97.90809, 30.38882), (-97.90771, 30.38841), (-97.90728, 30.38805), (-97.90679, 30.38774), (-97.90626, 30.3875), (-97.9057, 30.38732), (-97.90511, 30.3872), (-97.9045, 30.38714), (-97.90389, 30.38716), (-97.90327, 30.38723), (-97.90266, 30.38729), (-97.90204, 30.38735), (-97.90141, 30.38742), (-97.90077, 30.38748), (-97.90013, 30.38755), (-97.8995, 30.38761), (-97.89888, 30.38764), (-97.89828, 30.38763), (-97.8977, 30.38756), (-97.89712, 30.38748), (-97.89656, 30.38742), (-97.89599, 30.3874), (-97.89542, 30.38743), (-97.89485, 30.38751), (-97.89428, 30.38764), (-97.89368, 30.38778), (-97.89308, 30.38794), (-97.8925, 30.38817), (-97.89145, 30.3888), (-97.88276, 30.38979), (-97.86716, 30.39473), (-97.85478, 30.40215), (-97.85345, 30.40473), (-97.84786, 30.41578), (-97.84388, 30.42526), (-97.84233, 30.42978), (-97.83305, 30.4436), (-97.82597, 30.45527), (-97.82595, 30.45527), (-97.81623, 30.46209), (-97.80494, 30.46569), (-97.80416, 30.46594), (-97.79756, 30.46796), (-97.79691, 30.46982), (-97.79652, 30.47434), (-97.79706, 30.47562), (-97.79886, 30.47564)]   \n",
       "\n",
       "     speed  osm_new_dist  osm_new_travel_times  \n",
       "7  0.42446 10.34160      10.57394               \n",
       "10 0.57104 26.04693      22.17187               "
      ]
     },
     "execution_count": 14,
     "metadata": {},
     "output_type": "execute_result"
    }
   ],
   "source": [
    "gdf_traj_need_car[[\"osm_new_dist\", \"osm_new_travel_times\"]] = gdf_traj_need_car.apply(lambda row: compute_shortest_distances(row, G), axis=1).apply(pd.Series)\n",
    "gdf_traj_need_car"
   ]
  },
  {
   "cell_type": "code",
   "execution_count": 15,
   "id": "5504edb6-d3c6-4cc1-8238-44cd3eb6a3d9",
   "metadata": {},
   "outputs": [
    {
     "data": {
      "text/plain": [
       "Index(['cuebiq_id', 'device_type_code', 'os_name', 'start_zoned_datetime', 'start_geohash', 'start_lat', 'start_lng', 'start_country', 'start_admin1', 'start_admin2', 'start_block_group_id', 'end_zoned_datetime', 'end_geohash', 'end_lat', 'end_lng', 'end_country', 'end_admin1', 'end_admin2', 'end_block_group_id', 'number_of_points', 'cuebiq_travel_time_min', 'speed_kinematic_ms_min', 'speed_kinematic_ms_avg', 'speed_kinematic_ms_max', 'speed_gps_ms_min', 'speed_gps_ms_avg', 'speed_gps_ms_max', 'max_time_gap_seconds', 'length_meters', 'trajectory_wkt', 'provider_id', 'event_date', 'cuebiq_trip_km', 'points_list', 'speed', 'osm_new_dist', 'osm_new_travel_times'], dtype='object')"
      ]
     },
     "execution_count": 15,
     "metadata": {},
     "output_type": "execute_result"
    }
   ],
   "source": [
    "gdf_traj_need_car.columns"
   ]
  },
  {
   "cell_type": "code",
   "execution_count": null,
   "id": "037e5594-502b-49a7-abad-c99337700a49",
   "metadata": {},
   "outputs": [],
   "source": [
    "import os \n",
    "\n",
    "def process_in_batches(gdf, G, batch_size=100):\n",
    "    num_batches = len(gdf) // batch_size + 1\n",
    "    # output_df = pd.DataFrame()  # Store intermediate results\n",
    "    \n",
    "    for batch_idx in range(num_batches):\n",
    "        start_idx = batch_idx * batch_size\n",
    "        end_idx = min((batch_idx + 1) * batch_size, len(gdf))\n",
    "        batch = gdf.iloc[start_idx:end_idx]\n",
    "        \n",
    "        print(datetime.datetime.now(),f\"Processing batch {batch_idx + 1}/{num_batches}...\")\n",
    "        \n",
    "        # Compute the shortest distances and travel times for the batch\n",
    "        batch[[\"osm_new_dist\", \"osm_new_travel_times\"]] = batch.apply(lambda row: compute_shortest_distances(row, G), axis=1).apply(pd.Series)\n",
    "        \n",
    "        # Assign column names\n",
    "        # results.columns = [\"osm_new_dist\", \"osm_new_travel_times\"]\n",
    "        \n",
    "        # Add the results to the output DataFrame\n",
    "        # output_df = pd.concat([output_df, results], axis=0)\n",
    "        \n",
    "        # Append intermediate results to a CSV file (append mode)\n",
    "        batch.to_csv(\"intermediate_results.csv\", index=False, mode='w', header=not os.path.exists(\"intermediate_results.csv\"))\n",
    "        \n",
    "        # Optional: Clear the output DataFrame after saving if memory is a concern\n",
    "        # output_df = pd.DataFrame()\n",
    "\n",
    "    print(\"Batch processing completed!\")\n",
    "\n",
    "# Assuming you have a GeoDataFrame 'test' and a network graph 'G'\n",
    "# test = gdf_traj_need_car.head(10)\n",
    "# process_in_batches(test, G, batch_size=100)"
   ]
  },
  {
   "cell_type": "code",
   "execution_count": null,
   "id": "63fb301d-236b-423a-996a-0de682cadbc3",
   "metadata": {},
   "outputs": [],
   "source": []
  },
  {
   "cell_type": "code",
   "execution_count": null,
   "id": "fb68d2bf-e48f-4b75-b3a2-72f23446e62a",
   "metadata": {},
   "outputs": [
    {
     "name": "stdout",
     "output_type": "stream",
     "text": [
      "2025-01-31 22:45:43.611988 Processing batch 1/176...\n",
      "2025-01-31 22:47:10.654201 Processing batch 2/176...\n"
     ]
    }
   ],
   "source": [
    "process_in_batches(gdf_traj_need_car, G, batch_size=100)"
   ]
  },
  {
   "cell_type": "code",
   "execution_count": null,
   "id": "bb4ecf4b-37b6-4d46-85cb-4e754e1ebbfd",
   "metadata": {},
   "outputs": [],
   "source": []
  },
  {
   "cell_type": "code",
   "execution_count": null,
   "id": "51045a95-d864-4806-a6e0-05dedb3dd17a",
   "metadata": {},
   "outputs": [],
   "source": []
  },
  {
   "cell_type": "code",
   "execution_count": 458,
   "id": "d02ea934-8168-4c32-a863-30fe96bfd151",
   "metadata": {},
   "outputs": [
    {
     "data": {
      "text/html": [
       "<div>\n",
       "<style scoped>\n",
       "    .dataframe tbody tr th:only-of-type {\n",
       "        vertical-align: middle;\n",
       "    }\n",
       "\n",
       "    .dataframe tbody tr th {\n",
       "        vertical-align: top;\n",
       "    }\n",
       "\n",
       "    .dataframe thead th {\n",
       "        text-align: right;\n",
       "    }\n",
       "</style>\n",
       "<table border=\"1\" class=\"dataframe\">\n",
       "  <thead>\n",
       "    <tr style=\"text-align: right;\">\n",
       "      <th></th>\n",
       "      <th>cuebiq_id</th>\n",
       "      <th>start_zoned_datetime</th>\n",
       "      <th>end_zoned_datetime</th>\n",
       "      <th>cuebiq_trip_km</th>\n",
       "      <th>osm_trip_km</th>\n",
       "      <th>osm_new_dist</th>\n",
       "      <th>cuebiq_travel_time_min</th>\n",
       "      <th>osm_travel_time_min</th>\n",
       "      <th>osm_new_travel_times</th>\n",
       "    </tr>\n",
       "  </thead>\n",
       "  <tbody>\n",
       "    <tr>\n",
       "      <th>0</th>\n",
       "      <td>5810819473</td>\n",
       "      <td>2022-10-23 21:31:49+00:00</td>\n",
       "      <td>2022-10-23 22:39:27+00:00</td>\n",
       "      <td>0.42255</td>\n",
       "      <td>0.32775</td>\n",
       "      <td>0.32775</td>\n",
       "      <td>67.63333</td>\n",
       "      <td>0.39330</td>\n",
       "      <td>0.39330</td>\n",
       "    </tr>\n",
       "    <tr>\n",
       "      <th>1</th>\n",
       "      <td>5810819473</td>\n",
       "      <td>2022-10-23 22:47:33+00:00</td>\n",
       "      <td>2022-10-23 23:11:03+00:00</td>\n",
       "      <td>15.86527</td>\n",
       "      <td>19.70032</td>\n",
       "      <td>19.70032</td>\n",
       "      <td>23.50000</td>\n",
       "      <td>13.98677</td>\n",
       "      <td>13.98677</td>\n",
       "    </tr>\n",
       "    <tr>\n",
       "      <th>2</th>\n",
       "      <td>5810819473</td>\n",
       "      <td>2022-10-23 23:20:47+00:00</td>\n",
       "      <td>2022-10-24 00:47:01+00:00</td>\n",
       "      <td>75.37142</td>\n",
       "      <td>34.59721</td>\n",
       "      <td>34.59721</td>\n",
       "      <td>86.23333</td>\n",
       "      <td>31.01360</td>\n",
       "      <td>31.01360</td>\n",
       "    </tr>\n",
       "    <tr>\n",
       "      <th>3</th>\n",
       "      <td>5810819473</td>\n",
       "      <td>2022-10-24 02:29:18+00:00</td>\n",
       "      <td>2022-10-24 02:59:01+00:00</td>\n",
       "      <td>19.46664</td>\n",
       "      <td>0.00000</td>\n",
       "      <td>0.00000</td>\n",
       "      <td>29.71667</td>\n",
       "      <td>0.00000</td>\n",
       "      <td>0.00000</td>\n",
       "    </tr>\n",
       "    <tr>\n",
       "      <th>4</th>\n",
       "      <td>5810819473</td>\n",
       "      <td>2022-10-24 03:01:10+00:00</td>\n",
       "      <td>2022-10-24 03:09:25+00:00</td>\n",
       "      <td>1.30295</td>\n",
       "      <td>0.00000</td>\n",
       "      <td>0.00000</td>\n",
       "      <td>8.25000</td>\n",
       "      <td>0.00000</td>\n",
       "      <td>0.00000</td>\n",
       "    </tr>\n",
       "  </tbody>\n",
       "</table>\n",
       "</div>"
      ],
      "text/plain": [
       "    cuebiq_id      start_zoned_datetime        end_zoned_datetime  cuebiq_trip_km  osm_trip_km  osm_new_dist  cuebiq_travel_time_min  osm_travel_time_min  osm_new_travel_times\n",
       "0  5810819473 2022-10-23 21:31:49+00:00 2022-10-23 22:39:27+00:00 0.42255         0.32775      0.32775       67.63333                0.39330              0.39330              \n",
       "1  5810819473 2022-10-23 22:47:33+00:00 2022-10-23 23:11:03+00:00 15.86527        19.70032     19.70032      23.50000                13.98677             13.98677             \n",
       "2  5810819473 2022-10-23 23:20:47+00:00 2022-10-24 00:47:01+00:00 75.37142        34.59721     34.59721      86.23333                31.01360             31.01360             \n",
       "3  5810819473 2022-10-24 02:29:18+00:00 2022-10-24 02:59:01+00:00 19.46664        0.00000      0.00000       29.71667                0.00000              0.00000              \n",
       "4  5810819473 2022-10-24 03:01:10+00:00 2022-10-24 03:09:25+00:00 1.30295         0.00000      0.00000       8.25000                 0.00000              0.00000              "
      ]
     },
     "execution_count": 458,
     "metadata": {},
     "output_type": "execute_result"
    }
   ],
   "source": [
    "# test[['cuebiq_id','number_of_points','start_zoned_datetime','end_zoned_datetime','cuebiq_trip_km', 'osm_new_dist','cuebiq_travel_time_min','osm_new_travel_times']]"
   ]
  },
  {
   "cell_type": "code",
   "execution_count": null,
   "id": "1f1ce851-3874-4a7f-832b-18aea09ef5ae",
   "metadata": {},
   "outputs": [],
   "source": [
    "def process_df(df):\n",
    "    df = df[(df['osm_new_dist']!=0)&(df['osm_new_travel_times']!=0)]\n",
    "    print(df.shape[0])\n",
    "    df['diff_dist'] = df['cuebiq_trip_km'] - df['osm_new_dist']\n",
    "    df['diff_time'] = df['cuebiq_travel_time_min'] - df['osm_new_travel_times']\n",
    "    # df = df[(df['diff_dist']<10)&(df['diff_dist']>-10)]\n",
    "    print(df.shape[0])\n",
    "    return df"
   ]
  },
  {
   "cell_type": "code",
   "execution_count": null,
   "id": "db10acac-d497-4ef4-8928-275db774ac61",
   "metadata": {},
   "outputs": [],
   "source": [
    "test = process_df(test)"
   ]
  },
  {
   "cell_type": "code",
   "execution_count": 448,
   "id": "4a47dab7-d3cb-46f1-bd5c-6210670568eb",
   "metadata": {},
   "outputs": [],
   "source": []
  },
  {
   "cell_type": "code",
   "execution_count": null,
   "id": "d08201a5-e1e6-42ee-b18a-0b37eeadf605",
   "metadata": {},
   "outputs": [],
   "source": [
    "# %%time\n",
    "# gdf_onetrj = gdf_traj_need[(gdf_traj_need['cuebiq_id']==4915738899)&(df_traj['number_of_points']==108)]\n",
    "# gdf_onetrj[[\"osm_new_dist\", \"osm_new_travel_times\"]] = gdf_onetrj.apply(lambda row: compute_shortest_distances(row, G), axis=1).apply(pd.Series)\n",
    "# gdf_onetrj[['cuebiq_trip_km', 'osm_trip_km','osm_new_dist','cuebiq_travel_time_min','osm_travel_time_min','osm_new_travel_times']]"
   ]
  },
  {
   "cell_type": "code",
   "execution_count": null,
   "id": "e36664d8-20ca-4970-9a0e-768f9517cb4e",
   "metadata": {},
   "outputs": [],
   "source": [
    "# df_traj_need2 = df_traj_need[['cuebiq_id', 'event_date','hour','number_of_points','cuebiq_trip_km', 'cuebiq_travel_time_min', 'osm_trip_km', 'osm_travel_time_min']]\n",
    "# df_traj_need2.to_csv('./output/texas_traj_20221021_20221023_with_OSMtrip.csv',index=False)"
   ]
  },
  {
   "cell_type": "code",
   "execution_count": null,
   "id": "d08ff59e-afb6-496b-bf36-47c23671d8b3",
   "metadata": {},
   "outputs": [],
   "source": [
    "# Create the scatter plot\n",
    "plt.figure(figsize=(8, 6))\n",
    "plt.scatter(test['cuebiq_trip_km'], test['diff_time'], color='b', alpha=0.5)\n",
    "\n",
    "# Add labels and title\n",
    "plt.xlabel('Trip distance (km)')\n",
    "plt.ylabel('Delay (min)')\n",
    "plt.title(f'n={df_traj_need_with_diff.shape[0]} trips')\n",
    "\n",
    "# Show the plot\n",
    "# plt.grid(True)\n",
    "plt.show()"
   ]
  },
  {
   "cell_type": "code",
   "execution_count": null,
   "id": "cd64335a-b752-4d16-bce8-367349ecbf6f",
   "metadata": {},
   "outputs": [],
   "source": []
  },
  {
   "cell_type": "markdown",
   "id": "90a43b1f-927a-4c96-804d-9213c0138286",
   "metadata": {},
   "source": [
    "# Traffic analysis "
   ]
  },
  {
   "cell_type": "code",
   "execution_count": null,
   "id": "fbf42cc7-c390-413b-beed-01841fea9851",
   "metadata": {},
   "outputs": [],
   "source": []
  },
  {
   "cell_type": "code",
   "execution_count": 269,
   "id": "1627c47c-0038-485a-a2ef-05a4ef050b22",
   "metadata": {},
   "outputs": [
    {
     "name": "stdout",
     "output_type": "stream",
     "text": [
      "32212\n",
      "CPU times: user 1.28 s, sys: 32.2 ms, total: 1.32 s\n",
      "Wall time: 1.28 s\n"
     ]
    }
   ],
   "source": [
    "%%time\n",
    "from shapely.geometry import Point\n",
    "\n",
    "geometry = [Point(lng, lat) for lat, lng in zip(df_traj_need['start_lat'], df_traj_need['start_lng'])]\n",
    "gdf_start_points = gpd.GeoDataFrame(df_traj_need, geometry=geometry)\n",
    "gdf_start_points['overlap_start'] = gdf_start_points.geometry.within(polygon.geometry[0])\n",
    "gdf_start_points = gdf_start_points[gdf_start_points['overlap_start']==True]\n",
    "print(gdf_start_points.shape[0])"
   ]
  },
  {
   "cell_type": "code",
   "execution_count": 270,
   "id": "e27efb87-7f78-4f19-b3fb-da6331a47b98",
   "metadata": {},
   "outputs": [
    {
     "name": "stdout",
     "output_type": "stream",
     "text": [
      "32664\n"
     ]
    }
   ],
   "source": [
    "geometry2 = [Point(lng, lat) for lat, lng in zip(df_traj_need['end_lat'], df_traj_need['end_lng'])]\n",
    "gdf_end_points = gpd.GeoDataFrame(df_traj_need, geometry=geometry2)\n",
    "gdf_end_points['overlap_end'] = gdf_end_points.geometry.within(polygon.geometry[0])\n",
    "gdf_end_points = gdf_end_points[gdf_end_points['overlap_end']==True]\n",
    "print(gdf_end_points.shape[0])"
   ]
  },
  {
   "cell_type": "code",
   "execution_count": 272,
   "id": "b82b4f37-33ce-44e4-9342-1cc13a984163",
   "metadata": {},
   "outputs": [],
   "source": [
    "gdf_end_points_need = gdf_end_points[['cuebiq_id', 'event_date','hour','cuebiq_trip_km', 'cuebiq_travel_time_min', 'osm_trip_km', 'osm_travel_time_min']]\n",
    "gdf_start_points_need = gdf_start_points[['cuebiq_id', 'event_date','hour','cuebiq_trip_km', 'cuebiq_travel_time_min', 'osm_trip_km', 'osm_travel_time_min']]"
   ]
  },
  {
   "cell_type": "code",
   "execution_count": 273,
   "id": "5012a630-21f5-47b7-9c0e-1952b1f8d11c",
   "metadata": {},
   "outputs": [],
   "source": [
    "def process_df(df):\n",
    "    df = df[(df['osm_trip_km']!=0)&(df['osm_travel_time_min']!=0)]\n",
    "    print(df.shape[0])\n",
    "    df['diff_dist'] = df['cuebiq_trip_km'] - df['osm_trip_km']\n",
    "    df['diff_time'] = df['cuebiq_travel_time_min'] - df['osm_travel_time_min']\n",
    "    # df = df[(df['diff_dist']<10)&(df['diff_dist']>-10)]\n",
    "    print(df.shape[0])\n",
    "    return df"
   ]
  },
  {
   "cell_type": "code",
   "execution_count": 274,
   "id": "3920908d-a0e6-47a9-9a5c-99c172b0e499",
   "metadata": {},
   "outputs": [
    {
     "name": "stdout",
     "output_type": "stream",
     "text": [
      "21356\n",
      "21356\n",
      "20886\n",
      "20886\n"
     ]
    }
   ],
   "source": [
    "gdf_end_points_need = process_df(gdf_end_points_need)\n",
    "gdf_start_points_need = process_df(gdf_start_points_need)"
   ]
  },
  {
   "cell_type": "code",
   "execution_count": 276,
   "id": "a347ba06-a301-4046-a866-9af038b9d9be",
   "metadata": {},
   "outputs": [
    {
     "data": {
      "text/plain": [
       "count   20886.00000\n",
       "mean    106.65352  \n",
       "std     110.85455  \n",
       "min     -25.60843  \n",
       "25%     33.00867   \n",
       "50%     70.49187   \n",
       "75%     139.19946  \n",
       "max     856.21174  \n",
       "Name: diff_time, dtype: float64"
      ]
     },
     "execution_count": 276,
     "metadata": {},
     "output_type": "execute_result"
    }
   ],
   "source": [
    "gdf_start_points_need.diff_time.describe()"
   ]
  },
  {
   "cell_type": "code",
   "execution_count": 277,
   "id": "c43100e2-535c-4239-b0e6-60ec9dfbbb91",
   "metadata": {},
   "outputs": [
    {
     "data": {
      "text/plain": [
       "count   21356.00000\n",
       "mean    91.39416   \n",
       "std     99.62720   \n",
       "min     -29.64426  \n",
       "25%     26.44928   \n",
       "50%     59.52713   \n",
       "75%     119.50316  \n",
       "max     1176.15238 \n",
       "Name: diff_time, dtype: float64"
      ]
     },
     "execution_count": 277,
     "metadata": {},
     "output_type": "execute_result"
    }
   ],
   "source": [
    "gdf_end_points_need.diff_time.describe()"
   ]
  },
  {
   "cell_type": "code",
   "execution_count": 275,
   "id": "875ca493-2eef-465f-9bd4-cb424ebf3512",
   "metadata": {},
   "outputs": [
    {
     "data": {
      "image/png": "[encoded data removed]",
      "text/plain": [
       "<Figure size 1200x600 with 1 Axes>"
      ]
     },
     "metadata": {},
     "output_type": "display_data"
    }
   ],
   "source": [
    "import seaborn as sns\n",
    "import matplotlib.pyplot as plt\n",
    "\n",
    "# Violin plot for the distribution of diff_time for each hour\n",
    "plt.figure(figsize=(12, 6))\n",
    "date  = 20221021\n",
    "sns.violinplot(x='hour', y='diff_time', data=gdf_start_points_need[gdf_start_points_need['event_date']==date])\n",
    "\n",
    "# Labels and title\n",
    "plt.xlabel('Hour')\n",
    "plt.ylabel('Diff Time')\n",
    "plt.title(f'Distribution of Diff Time by Hour on {str(date)}')\n",
    "\n",
    "# Display plot\n",
    "plt.xticks(range(0, 24))  # Ensure all hours are visible\n",
    "plt.grid(True)\n",
    "plt.show()"
   ]
  },
  {
   "cell_type": "code",
   "execution_count": null,
   "id": "c0712e24-fb50-4ac4-8b0f-b69c6322157b",
   "metadata": {},
   "outputs": [],
   "source": []
  },
  {
   "cell_type": "code",
   "execution_count": null,
   "id": "e3b1dbdf-67da-446c-9c2d-d643fd74e15b",
   "metadata": {},
   "outputs": [],
   "source": []
  },
  {
   "cell_type": "code",
   "execution_count": 250,
   "id": "541c0650-babf-42de-866c-cf109011956e",
   "metadata": {},
   "outputs": [
    {
     "name": "stdout",
     "output_type": "stream",
     "text": [
      "72047\n",
      "58946\n"
     ]
    }
   ],
   "source": [
    "df_traj_need3 = df_traj_need2[(df_traj_need2['osm_trip_km']!=0)&(df_traj_need2['osm_travel_time_min']!=0)]\n",
    "print(df_traj_need3.shape[0])\n",
    "df_traj_need3['diff_dist'] = df_traj_need3['cuebiq_trip_km'] - df_traj_need3['osm_trip_km']\n",
    "df_traj_need3['diff_time'] = df_traj_need3['cuebiq_travel_time_min'] - df_traj_need3['osm_travel_time_min']\n",
    "\n",
    "df_traj_need3 = df_traj_need3[(df_traj_need3['diff_dist']<10)&(df_traj_need3['diff_dist']>-10)]\n",
    "print(df_traj_need3.shape[0])"
   ]
  },
  {
   "cell_type": "code",
   "execution_count": 241,
   "id": "fd93c4fe-c660-4864-8d10-d61c3e43a8ec",
   "metadata": {},
   "outputs": [
    {
     "data": {
      "text/plain": [
       "count   58946.00000\n",
       "mean    -0.71899   \n",
       "std     3.35280    \n",
       "min     -9.99775   \n",
       "25%     -2.06356   \n",
       "50%     -0.39780   \n",
       "75%     0.38427    \n",
       "max     9.99893    \n",
       "Name: diff_dist, dtype: float64"
      ]
     },
     "execution_count": 241,
     "metadata": {},
     "output_type": "execute_result"
    }
   ],
   "source": [
    "df_traj_need3['diff_dist'].describe()"
   ]
  },
  {
   "cell_type": "code",
   "execution_count": 242,
   "id": "aab3771f-ddf2-4988-ba24-882162bc1147",
   "metadata": {},
   "outputs": [
    {
     "data": {
      "text/plain": [
       "count   58946.00000\n",
       "mean    63.84311   \n",
       "std     88.95961   \n",
       "min     -23.57801  \n",
       "25%     12.49837   \n",
       "50%     32.33916   \n",
       "75%     76.95037   \n",
       "max     1176.15238 \n",
       "Name: diff_time, dtype: float64"
      ]
     },
     "execution_count": 242,
     "metadata": {},
     "output_type": "execute_result"
    }
   ],
   "source": [
    "df_traj_need3['diff_time'].describe()"
   ]
  },
  {
   "cell_type": "code",
   "execution_count": 251,
   "id": "a333feab-2d1f-4df5-8d4c-48c3d4c06cc2",
   "metadata": {},
   "outputs": [
    {
     "data": {
      "text/plain": [
       "array([20221023, 20221022, 20221021])"
      ]
     },
     "execution_count": 251,
     "metadata": {},
     "output_type": "execute_result"
    }
   ],
   "source": [
    "df_traj_need3['event_date'].unique()"
   ]
  },
  {
   "cell_type": "code",
   "execution_count": 254,
   "id": "4b1dc06e-3b5d-4763-9ce1-7d4ffbefa720",
   "metadata": {},
   "outputs": [
    {
     "data": {
      "image/png": "[encoded data removed]",
      "text/plain": [
       "<Figure size 1200x600 with 1 Axes>"
      ]
     },
     "metadata": {},
     "output_type": "display_data"
    }
   ],
   "source": [
    "import seaborn as sns\n",
    "import matplotlib.pyplot as plt\n",
    "\n",
    "# Violin plot for the distribution of diff_time for each hour\n",
    "plt.figure(figsize=(12, 6))\n",
    "date  = 20221021\n",
    "sns.violinplot(x='hour', y='diff_time', data=df_traj_need3[df_traj_need3['event_date']==date])\n",
    "\n",
    "# Labels and title\n",
    "plt.xlabel('Hour')\n",
    "plt.ylabel('Diff Time')\n",
    "plt.title(f'Distribution of Diff Time by Hour on {str(date)}')\n",
    "\n",
    "# Display plot\n",
    "plt.xticks(range(0, 24))  # Ensure all hours are visible\n",
    "plt.grid(True)\n",
    "plt.show()"
   ]
  },
  {
   "cell_type": "code",
   "execution_count": 73,
   "id": "fa068e4a-4e57-4186-83f5-631aa96c3ae3",
   "metadata": {},
   "outputs": [],
   "source": [
    "# df_traj_needcol = df_traj_need[['cuebiq_id', 'length_km', 'duration_minutes' ,'trip_distance_km']]\n",
    "# df_traj_needcol['diff'] = df_traj_needcol['length_km'] - df_traj_needcol['trip_distance_km']\n",
    "# df_traj_needcol = df_traj_needcol[(df_traj_needcol['diff']<100)&(df_traj_needcol['diff']>-100)]"
   ]
  },
  {
   "cell_type": "code",
   "execution_count": 257,
   "id": "85ac8ade-e90e-46f8-82e1-3d638df64a62",
   "metadata": {},
   "outputs": [
    {
     "name": "stdout",
     "output_type": "stream",
     "text": [
      "count   58946.00000\n",
      "mean    72.69547   \n",
      "std     91.04409   \n",
      "min     0.33333    \n",
      "25%     19.76667   \n",
      "50%     42.14167   \n",
      "75%     87.93333   \n",
      "max     1195.31667 \n",
      "Name: cuebiq_travel_time_min, dtype: float64\n",
      "count   58946.00000\n",
      "mean    8.85236    \n",
      "std     8.75765    \n",
      "min     0.00686    \n",
      "25%     2.15372    \n",
      "50%     4.73977    \n",
      "75%     15.44668   \n",
      "max     86.02074   \n",
      "Name: osm_travel_time_min, dtype: float64\n"
     ]
    },
    {
     "data": {
      "image/png": "[encoded data removed]",
      "text/plain": [
       "<Figure size 800x600 with 1 Axes>"
      ]
     },
     "metadata": {},
     "output_type": "display_data"
    }
   ],
   "source": [
    "import matplotlib.pyplot as plt\n",
    "\n",
    "print(df_traj_need3['cuebiq_travel_time_min'].describe())\n",
    "print(df_traj_need3['osm_travel_time_min'].describe())\n",
    "# Plot histograms on the same axis\n",
    "plt.figure(figsize=(8, 6))\n",
    "plt.hist(df_traj_need3['cuebiq_travel_time_min'], bins=60, alpha=0.5, label='Cuebiq travel time', color='red', edgecolor='black')\n",
    "plt.hist(df_traj_need3['osm_travel_time_min'], bins=5, alpha=0.5, label='Free flow travel time', color='blue', edgecolor='black')\n",
    "# Labels and title\n",
    "plt.xlabel('Travel time (min)')\n",
    "plt.ylabel('Frequency')\n",
    "# plt.title('Overlayed Histograms of Trip Distance and Length')\n",
    "plt.legend()\n",
    "\n",
    "# Show plot\n",
    "plt.show()"
   ]
  },
  {
   "cell_type": "code",
   "execution_count": null,
   "id": "45fbcb92-b87a-4553-a3c8-ee347a84aca7",
   "metadata": {},
   "outputs": [],
   "source": []
  },
  {
   "cell_type": "code",
   "execution_count": null,
   "id": "edaca360-e375-4cfe-b9d6-9f05126325d0",
   "metadata": {},
   "outputs": [],
   "source": []
  },
  {
   "cell_type": "code",
   "execution_count": null,
   "id": "a192700a-f55a-4759-9efd-b9b7bd2130aa",
   "metadata": {},
   "outputs": [],
   "source": []
  },
  {
   "cell_type": "code",
   "execution_count": null,
   "id": "7ca53251-00ee-48b6-a44c-b69109e740e2",
   "metadata": {},
   "outputs": [],
   "source": []
  },
  {
   "cell_type": "code",
   "execution_count": null,
   "id": "163bdc68-3603-4d28-93cd-07f761ff5616",
   "metadata": {},
   "outputs": [],
   "source": []
  },
  {
   "cell_type": "code",
   "execution_count": null,
   "id": "d5d6252d-2c30-42e5-b694-f04698615639",
   "metadata": {},
   "outputs": [],
   "source": []
  },
  {
   "cell_type": "code",
   "execution_count": null,
   "id": "9c632ff7-ebfe-4021-bfa7-e34b0c8ff37d",
   "metadata": {},
   "outputs": [],
   "source": []
  }
 ],
 "metadata": {
  "kernelspec": {
   "display_name": "Python (pytorch_env)",
   "language": "python",
   "name": "pytorch_env"
  },
  "language_info": {
   "codemirror_mode": {
    "name": "ipython",
    "version": 3
   },
   "file_extension": ".py",
   "mimetype": "text/x-python",
   "name": "python",
   "nbconvert_exporter": "python",
   "pygments_lexer": "ipython3",
   "version": "3.10.16"
  }
 },
 "nbformat": 4,
 "nbformat_minor": 5
}
