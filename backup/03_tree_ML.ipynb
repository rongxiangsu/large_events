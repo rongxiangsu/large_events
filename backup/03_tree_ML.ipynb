{
 "cells": [
  {
   "cell_type": "code",
   "execution_count": 1,
   "metadata": {},
   "outputs": [],
   "source": [
    "import datetime\n",
    "import matplotlib.pyplot as plt\n",
    "from matplotlib import pyplot\n",
    "import pandas as pd\n",
    "import sklearn\n",
    "from sklearn.datasets import load_diabetes\n",
    "from sklearn.inspection import PartialDependenceDisplay\n",
    "from sklearn.neural_network import MLPRegressor\n",
    "from sklearn.pipeline import make_pipeline\n",
    "from sklearn.preprocessing import StandardScaler\n",
    "from sklearn.tree import DecisionTreeRegressor\n",
    "import numpy as np\n",
    "\n",
    "pd.set_option(\"display.max_colwidth\", 0)\n",
    "pd.set_option(\"display.max_rows\", 500)\n",
    "pd.set_option(\"display.max_columns\", 500)\n",
    "pd.set_option(\"display.width\", 1000)\n",
    "import warnings\n",
    "warnings.filterwarnings(\"ignore\")\n",
    "pd.options.display.float_format = '{:.5f}'.format"
   ]
  },
  {
   "cell_type": "code",
   "execution_count": 2,
   "metadata": {},
   "outputs": [],
   "source": [
    "# import sys\n",
    "# import logging\n",
    "# import datetime\n",
    "\n",
    "# nblog = open(\"./output/catboost_pdp_shap_\"+str(datetime.datetime.now())+\".log\", \"a+\")\n",
    "# sys.stdout.echo = nblog\n",
    "# sys.stderr.echo = nblog\n",
    "\n",
    "# get_ipython().log.handlers[0].stream = nblog\n",
    "# get_ipython().log.setLevel(logging.INFO)\n",
    "\n",
    "# %autosave 5"
   ]
  },
  {
   "cell_type": "code",
   "execution_count": 4,
   "metadata": {},
   "outputs": [
    {
     "name": "stdout",
     "output_type": "stream",
     "text": [
      "['2022-10-21' '2022-10-22' '2022-10-23']\n",
      "unique road segments (samples): 4450\n",
      "total observations:  1917950\n",
      "CPU times: user 4.78 s, sys: 392 ms, total: 5.17 s\n",
      "Wall time: 5.24 s\n"
     ]
    }
   ],
   "source": [
    "%%time\n",
    "\n",
    "df_traffic = pd.read_csv('./output/austin_2022_GP_10min_interval_delaydifference_with_features_forML.csv')\n",
    "df_traffic['minutes_since_midnight'] = df_traffic['hour_min'].apply(lambda x: int(x[:2]) * 60 + int(x[3:]))\n",
    "\n",
    "print(df_traffic.date.unique())\n",
    "print('unique road segments (samples):',df_traffic.tmc_code.unique().shape[0])\n",
    "print('total observations: ',df_traffic.shape[0])\n",
    "df_traffic.head(2)"
   ]
  },
  {
   "cell_type": "code",
   "execution_count": 5,
   "metadata": {},
   "outputs": [
    {
     "name": "stdout",
     "output_type": "stream",
     "text": [
      "1197050\n"
     ]
    }
   ],
   "source": [
    "# because the event usually begins in the morning after 10, people arrive typically around that time, so we want to only focus on after 930\n",
    "df_traffic = df_traffic[df_traffic['minutes_since_midnight']>=540]\n",
    "print(df_traffic.shape[0])"
   ]
  },
  {
   "cell_type": "code",
   "execution_count": 6,
   "metadata": {},
   "outputs": [
    {
     "data": {
      "text/plain": [
       "Index(['tmc_code', 'hour_min', 'delay_baseline', 'delay_focus', 'delay_difference', 'date', 'intersection', 'start_latitude', 'start_longitude', 'end_latitude', 'end_longitude', 'miles', 'airbnb_count', 'distance_to_Shuttle_Waterloo_Park', 'distance_to_Shuttle_Barton_Creek_Square', 'distance_to_Shuttle_Expo_Center', 'distance_to_Uber_DelValle_HighSchool', 'distance_to_venue', 'minutes_since_midnight'], dtype='object')"
      ]
     },
     "execution_count": 6,
     "metadata": {},
     "output_type": "execute_result"
    }
   ],
   "source": [
    "df_traffic.columns"
   ]
  },
  {
   "cell_type": "code",
   "execution_count": 19,
   "metadata": {},
   "outputs": [
    {
     "name": "stdout",
     "output_type": "stream",
     "text": [
      "Total sample size: 1197050\n",
      "Total training set size: 837935\n",
      "Total test set size: 359115\n"
     ]
    }
   ],
   "source": [
    "import xgboost as xgb\n",
    "from sklearn.model_selection import train_test_split\n",
    "from sklearn.metrics import mean_squared_error\n",
    "\n",
    "# Prepare input features and labels for the model\n",
    "X = df_traffic[['minutes_since_midnight',  'start_latitude', 'start_longitude', 'miles', \n",
    "                          'airbnb_count', 'distance_to_Shuttle_Waterloo_Park', 'distance_to_Shuttle_Barton_Creek_Square', \n",
    "                          'distance_to_Shuttle_Expo_Center', 'distance_to_Uber_DelValle_HighSchool', 'distance_to_venue']].copy()\n",
    "y = df_traffic['delay_difference'].values\n",
    "\n",
    "# Split data into training and test sets\n",
    "X_train, X_test, y_train, y_test = train_test_split(X, y, test_size=0.3, random_state=42)\n",
    "\n",
    "print('Total sample size:', X.shape[0])\n",
    "print('Total training set size:', X_train.shape[0])\n",
    "print('Total test set size:', X_test.shape[0])"
   ]
  },
  {
   "cell_type": "code",
   "execution_count": 23,
   "metadata": {},
   "outputs": [
    {
     "data": {
      "text/html": [
       "<div>\n",
       "<style scoped>\n",
       "    .dataframe tbody tr th:only-of-type {\n",
       "        vertical-align: middle;\n",
       "    }\n",
       "\n",
       "    .dataframe tbody tr th {\n",
       "        vertical-align: top;\n",
       "    }\n",
       "\n",
       "    .dataframe thead th {\n",
       "        text-align: right;\n",
       "    }\n",
       "</style>\n",
       "<table border=\"1\" class=\"dataframe\">\n",
       "  <thead>\n",
       "    <tr style=\"text-align: right;\">\n",
       "      <th></th>\n",
       "      <th>minutes_since_midnight</th>\n",
       "      <th>start_latitude</th>\n",
       "      <th>start_longitude</th>\n",
       "      <th>miles</th>\n",
       "      <th>airbnb_count</th>\n",
       "      <th>distance_to_Shuttle_Waterloo_Park</th>\n",
       "      <th>distance_to_Shuttle_Barton_Creek_Square</th>\n",
       "      <th>distance_to_Shuttle_Expo_Center</th>\n",
       "      <th>distance_to_Uber_DelValle_HighSchool</th>\n",
       "      <th>distance_to_venue</th>\n",
       "    </tr>\n",
       "  </thead>\n",
       "  <tbody>\n",
       "    <tr>\n",
       "      <th>minutes_since_midnight</th>\n",
       "      <td>1.00000</td>\n",
       "      <td>0.00000</td>\n",
       "      <td>0.00000</td>\n",
       "      <td>0.00000</td>\n",
       "      <td>0.00000</td>\n",
       "      <td>0.00000</td>\n",
       "      <td>-0.00000</td>\n",
       "      <td>-0.00000</td>\n",
       "      <td>0.00000</td>\n",
       "      <td>-0.00000</td>\n",
       "    </tr>\n",
       "    <tr>\n",
       "      <th>start_latitude</th>\n",
       "      <td>0.00000</td>\n",
       "      <td>16.66550</td>\n",
       "      <td>-0.25938</td>\n",
       "      <td>0.81057</td>\n",
       "      <td>0.23729</td>\n",
       "      <td>2.53443</td>\n",
       "      <td>-0.58231</td>\n",
       "      <td>0.53332</td>\n",
       "      <td>32.09939</td>\n",
       "      <td>-47.84499</td>\n",
       "    </tr>\n",
       "    <tr>\n",
       "      <th>start_longitude</th>\n",
       "      <td>0.00000</td>\n",
       "      <td>-0.25938</td>\n",
       "      <td>5.33612</td>\n",
       "      <td>0.29394</td>\n",
       "      <td>-0.38134</td>\n",
       "      <td>-0.90740</td>\n",
       "      <td>-5.82432</td>\n",
       "      <td>-0.41746</td>\n",
       "      <td>18.09198</td>\n",
       "      <td>-13.01078</td>\n",
       "    </tr>\n",
       "    <tr>\n",
       "      <th>miles</th>\n",
       "      <td>0.00000</td>\n",
       "      <td>0.81057</td>\n",
       "      <td>0.29394</td>\n",
       "      <td>1.25955</td>\n",
       "      <td>-0.14218</td>\n",
       "      <td>-1.03468</td>\n",
       "      <td>-0.02651</td>\n",
       "      <td>-0.00539</td>\n",
       "      <td>2.77891</td>\n",
       "      <td>-2.86867</td>\n",
       "    </tr>\n",
       "    <tr>\n",
       "      <th>airbnb_count</th>\n",
       "      <td>0.00000</td>\n",
       "      <td>0.23729</td>\n",
       "      <td>-0.38134</td>\n",
       "      <td>-0.14218</td>\n",
       "      <td>1.70781</td>\n",
       "      <td>5.98059</td>\n",
       "      <td>-3.08213</td>\n",
       "      <td>-2.44925</td>\n",
       "      <td>1.00674</td>\n",
       "      <td>-1.28450</td>\n",
       "    </tr>\n",
       "    <tr>\n",
       "      <th>distance_to_Shuttle_Waterloo_Park</th>\n",
       "      <td>0.00000</td>\n",
       "      <td>2.53443</td>\n",
       "      <td>-0.90740</td>\n",
       "      <td>-1.03468</td>\n",
       "      <td>5.98059</td>\n",
       "      <td>74.45623</td>\n",
       "      <td>-50.27565</td>\n",
       "      <td>-22.59948</td>\n",
       "      <td>-18.79238</td>\n",
       "      <td>13.87097</td>\n",
       "    </tr>\n",
       "    <tr>\n",
       "      <th>distance_to_Shuttle_Barton_Creek_Square</th>\n",
       "      <td>-0.00000</td>\n",
       "      <td>-0.58231</td>\n",
       "      <td>-5.82432</td>\n",
       "      <td>-0.02651</td>\n",
       "      <td>-3.08213</td>\n",
       "      <td>-50.27565</td>\n",
       "      <td>46.38830</td>\n",
       "      <td>10.13752</td>\n",
       "      <td>15.60473</td>\n",
       "      <td>-18.15437</td>\n",
       "    </tr>\n",
       "    <tr>\n",
       "      <th>distance_to_Shuttle_Expo_Center</th>\n",
       "      <td>-0.00000</td>\n",
       "      <td>0.53332</td>\n",
       "      <td>-0.41746</td>\n",
       "      <td>-0.00539</td>\n",
       "      <td>-2.44925</td>\n",
       "      <td>-22.59948</td>\n",
       "      <td>10.13752</td>\n",
       "      <td>30.04414</td>\n",
       "      <td>-80.51961</td>\n",
       "      <td>68.04435</td>\n",
       "    </tr>\n",
       "    <tr>\n",
       "      <th>distance_to_Uber_DelValle_HighSchool</th>\n",
       "      <td>0.00000</td>\n",
       "      <td>32.09939</td>\n",
       "      <td>18.09198</td>\n",
       "      <td>2.77891</td>\n",
       "      <td>1.00674</td>\n",
       "      <td>-18.79238</td>\n",
       "      <td>15.60473</td>\n",
       "      <td>-80.51961</td>\n",
       "      <td>490.46505</td>\n",
       "      <td>-456.83537</td>\n",
       "    </tr>\n",
       "    <tr>\n",
       "      <th>distance_to_venue</th>\n",
       "      <td>-0.00000</td>\n",
       "      <td>-47.84499</td>\n",
       "      <td>-13.01078</td>\n",
       "      <td>-2.86867</td>\n",
       "      <td>-1.28450</td>\n",
       "      <td>13.87097</td>\n",
       "      <td>-18.15437</td>\n",
       "      <td>68.04435</td>\n",
       "      <td>-456.83537</td>\n",
       "      <td>451.65480</td>\n",
       "    </tr>\n",
       "  </tbody>\n",
       "</table>\n",
       "</div>"
      ],
      "text/plain": [
       "                                         minutes_since_midnight  start_latitude  start_longitude    miles  airbnb_count  distance_to_Shuttle_Waterloo_Park  distance_to_Shuttle_Barton_Creek_Square  distance_to_Shuttle_Expo_Center  distance_to_Uber_DelValle_HighSchool  distance_to_venue\n",
       "minutes_since_midnight                                  1.00000         0.00000          0.00000  0.00000       0.00000                            0.00000                                 -0.00000                         -0.00000                               0.00000           -0.00000\n",
       "start_latitude                                          0.00000        16.66550         -0.25938  0.81057       0.23729                            2.53443                                 -0.58231                          0.53332                              32.09939          -47.84499\n",
       "start_longitude                                         0.00000        -0.25938          5.33612  0.29394      -0.38134                           -0.90740                                 -5.82432                         -0.41746                              18.09198          -13.01078\n",
       "miles                                                   0.00000         0.81057          0.29394  1.25955      -0.14218                           -1.03468                                 -0.02651                         -0.00539                               2.77891           -2.86867\n",
       "airbnb_count                                            0.00000         0.23729         -0.38134 -0.14218       1.70781                            5.98059                                 -3.08213                         -2.44925                               1.00674           -1.28450\n",
       "distance_to_Shuttle_Waterloo_Park                       0.00000         2.53443         -0.90740 -1.03468       5.98059                           74.45623                                -50.27565                        -22.59948                             -18.79238           13.87097\n",
       "distance_to_Shuttle_Barton_Creek_Square                -0.00000        -0.58231         -5.82432 -0.02651      -3.08213                          -50.27565                                 46.38830                         10.13752                              15.60473          -18.15437\n",
       "distance_to_Shuttle_Expo_Center                        -0.00000         0.53332         -0.41746 -0.00539      -2.44925                          -22.59948                                 10.13752                         30.04414                             -80.51961           68.04435\n",
       "distance_to_Uber_DelValle_HighSchool                    0.00000        32.09939         18.09198  2.77891       1.00674                          -18.79238                                 15.60473                        -80.51961                             490.46505         -456.83537\n",
       "distance_to_venue                                      -0.00000       -47.84499        -13.01078 -2.86867      -1.28450                           13.87097                                -18.15437                         68.04435                            -456.83537          451.65480"
      ]
     },
     "metadata": {},
     "output_type": "display_data"
    },
    {
     "name": "stdout",
     "output_type": "stream",
     "text": [
      "CPU times: user 593 ms, sys: 128 ms, total: 721 ms\n",
      "Wall time: 556 ms\n"
     ]
    }
   ],
   "source": [
    "%%time\n",
    "# check VIF\n",
    "\n",
    "df_cor = X.corr()\n",
    "display(pd.DataFrame(np.linalg.inv(X.corr().values), index = df_cor.index, columns=df_cor.columns))"
   ]
  },
  {
   "cell_type": "markdown",
   "metadata": {},
   "source": [
    "# autogluon"
   ]
  },
  {
   "cell_type": "code",
   "execution_count": null,
   "metadata": {},
   "outputs": [
    {
     "name": "stderr",
     "output_type": "stream",
     "text": [
      "No path specified. Models will be saved in: \"AutogluonModels/ag-20241113_155843/\"\n",
      "Warning: Training may take a very long time because `time_limit` was not specified and `train_data` is large (837935 samples, 136.58 MB).\n",
      "\tConsider setting `time_limit` to ensure training finishes within an expected duration or experiment with a small portion of `train_data` to identify an ideal `presets` and `hyperparameters` configuration.\n",
      "Beginning AutoGluon training ...\n",
      "AutoGluon will save models to \"AutogluonModels/ag-20241113_155843/\"\n",
      "AutoGluon Version:  0.6.2\n",
      "Python Version:     3.7.1\n",
      "Operating System:   Linux\n",
      "Platform Machine:   x86_64\n",
      "Platform Version:   #167~18.04.1-Ubuntu SMP Wed May 24 00:51:42 UTC 2023\n",
      "Train Data Rows:    837935\n",
      "Train Data Columns: 11\n",
      "Label Column: delay_difference\n",
      "Preprocessing data ...\n",
      "Using Feature Generators to preprocess the data ...\n",
      "Fitting AutoMLPipelineFeatureGenerator...\n",
      "\tAvailable Memory:                    50730.77 MB\n",
      "\tTrain Data (Original)  Memory Usage: 123.18 MB (0.2% of available memory)\n",
      "\tInferring data type of each feature based on column values. Set feature_metadata_in to manually specify special dtypes of the features.\n",
      "\tStage 1 Generators:\n",
      "\t\tFitting AsTypeFeatureGenerator...\n",
      "\tStage 2 Generators:\n",
      "\t\tFitting FillNaFeatureGenerator...\n",
      "\tStage 3 Generators:\n",
      "\t\tFitting IdentityFeatureGenerator...\n",
      "\t\tFitting DatetimeFeatureGenerator...\n",
      "\tStage 4 Generators:\n",
      "\t\tFitting DropUniqueFeatureGenerator...\n",
      "\tTypes of features in original data (raw dtype, special dtypes):\n",
      "\t\t('float', [])                      : 8 | ['start_latitude', 'start_longitude', 'miles', 'distance_to_Shuttle_Waterloo_Park', 'distance_to_Shuttle_Barton_Creek_Square', ...]\n",
      "\t\t('int', [])                        : 2 | ['minutes_since_midnight', 'airbnb_count']\n",
      "\t\t('object', ['datetime_as_object']) : 1 | ['date']\n",
      "\tTypes of features in processed data (raw dtype, special dtypes):\n",
      "\t\t('float', [])                : 8 | ['start_latitude', 'start_longitude', 'miles', 'distance_to_Shuttle_Waterloo_Park', 'distance_to_Shuttle_Barton_Creek_Square', ...]\n",
      "\t\t('int', [])                  : 2 | ['minutes_since_midnight', 'airbnb_count']\n",
      "\t\t('int', ['datetime_as_int']) : 3 | ['date', 'date.day', 'date.dayofweek']\n",
      "\t1.9s = Fit runtime\n",
      "\t11 features in original data used to generate 13 features in processed data.\n",
      "\tTrain Data (Processed) Memory Usage: 87.15 MB (0.2% of available memory)\n",
      "Data preprocessing and feature engineering runtime = 2.01s ...\n",
      "AutoGluon will gauge predictive performance using evaluation metric: 'root_mean_squared_error'\n",
      "\tThis metric's sign has been flipped to adhere to being higher_is_better. The metric score can be multiplied by -1 to get the metric value.\n",
      "\tTo change this, specify the eval_metric parameter of Predictor()\n",
      "Automatically generating train/validation split with holdout_frac=0.01, Train Rows: 829555, Val Rows: 8380\n",
      "Fitting 11 L1 models ...\n",
      "Fitting model: KNeighborsUnif ...\n",
      "\t-13.258\t = Validation score   (-root_mean_squared_error)\n",
      "\t2.61s\t = Training   runtime\n",
      "\t0.31s\t = Validation runtime\n",
      "Fitting model: KNeighborsDist ...\n",
      "\t-15.3226\t = Validation score   (-root_mean_squared_error)\n",
      "\t2.69s\t = Training   runtime\n",
      "\t0.21s\t = Validation runtime\n",
      "Fitting model: LightGBMXT ...\n"
     ]
    },
    {
     "name": "stdout",
     "output_type": "stream",
     "text": [
      "[1000]\tvalid_set's rmse: 16.9784\n",
      "[2000]\tvalid_set's rmse: 16.6083\n",
      "[3000]\tvalid_set's rmse: 16.4002\n",
      "[4000]\tvalid_set's rmse: 16.2711\n",
      "[5000]\tvalid_set's rmse: 16.1805\n",
      "[6000]\tvalid_set's rmse: 16.1118\n",
      "[7000]\tvalid_set's rmse: 16.066\n",
      "[8000]\tvalid_set's rmse: 16.0117\n",
      "[9000]\tvalid_set's rmse: 15.9741\n",
      "[10000]\tvalid_set's rmse: 15.9271\n"
     ]
    },
    {
     "name": "stderr",
     "output_type": "stream",
     "text": [
      "\t-15.9264\t = Validation score   (-root_mean_squared_error)\n",
      "\t115.01s\t = Training   runtime\n",
      "\t0.85s\t = Validation runtime\n",
      "Fitting model: LightGBM ...\n"
     ]
    },
    {
     "name": "stdout",
     "output_type": "stream",
     "text": [
      "[1000]\tvalid_set's rmse: 13.961\n",
      "[2000]\tvalid_set's rmse: 13.6242\n",
      "[3000]\tvalid_set's rmse: 13.3804\n",
      "[4000]\tvalid_set's rmse: 13.3419\n",
      "[5000]\tvalid_set's rmse: 13.2379\n",
      "[6000]\tvalid_set's rmse: 13.1914\n",
      "[7000]\tvalid_set's rmse: 13.1202\n",
      "[8000]\tvalid_set's rmse: 13.1044\n",
      "[9000]\tvalid_set's rmse: 13.0514\n",
      "[10000]\tvalid_set's rmse: 13.0163\n"
     ]
    },
    {
     "name": "stderr",
     "output_type": "stream",
     "text": [
      "\t-13.0162\t = Validation score   (-root_mean_squared_error)\n",
      "\t53.06s\t = Training   runtime\n",
      "\t0.78s\t = Validation runtime\n",
      "Fitting model: RandomForestMSE ...\n",
      "\t-10.9971\t = Validation score   (-root_mean_squared_error)\n",
      "\t168.04s\t = Training   runtime\n",
      "\t0.21s\t = Validation runtime\n",
      "Fitting model: CatBoost ...\n",
      "\t-14.0824\t = Validation score   (-root_mean_squared_error)\n",
      "\t259.37s\t = Training   runtime\n",
      "\t0.03s\t = Validation runtime\n",
      "Fitting model: ExtraTreesMSE ...\n",
      "\t-11.6505\t = Validation score   (-root_mean_squared_error)\n",
      "\t54.91s\t = Training   runtime\n",
      "\t0.13s\t = Validation runtime\n",
      "Fitting model: NeuralNetFastAI ...\n",
      "No improvement since epoch 2: early stopping\n",
      "\t-18.0202\t = Validation score   (-root_mean_squared_error)\n",
      "\t296.55s\t = Training   runtime\n",
      "\t0.19s\t = Validation runtime\n",
      "Fitting model: XGBoost ...\n",
      "\t-12.7443\t = Validation score   (-root_mean_squared_error)\n",
      "\t134.83s\t = Training   runtime\n",
      "\t0.7s\t = Validation runtime\n",
      "Fitting model: NeuralNetTorch ...\n"
     ]
    }
   ],
   "source": [
    "%%time\n",
    "\n",
    "from autogluon.tabular import TabularDataset, TabularPredictor\n",
    "\n",
    "train_data = X_train.copy()\n",
    "train_data['delay_difference'] = y_train\n",
    "test_data = X_test.copy()\n",
    "test_data['delay_difference'] = y_test\n",
    "\n",
    "predictor = TabularPredictor(label='delay_difference', problem_type='regression').fit(train_data=train_data)"
   ]
  },
  {
   "cell_type": "code",
   "execution_count": 16,
   "metadata": {},
   "outputs": [
    {
     "name": "stdout",
     "output_type": "stream",
     "text": [
      "2024-11-13 15:14:00.413517 ************** Running predictor.leaderboard **************\n",
      "                  model  score_test  score_val  pred_time_test  pred_time_val   fit_time  pred_time_test_marginal  pred_time_val_marginal  fit_time_marginal  stack_level  can_infer  fit_order\n",
      "0         ExtraTreesMSE   -11.66775  -11.65050         3.77813        0.12646   54.91256                  3.77813                 0.12646           54.91256            1       True          7\n",
      "1   WeightedEnsemble_L2   -11.89815  -10.98360        19.74013        0.65261  225.84913                  0.02163                 0.00042            0.28581            2       True         12\n",
      "2       RandomForestMSE   -11.97616  -10.99712         3.96479        0.21448  168.04052                  3.96479                 0.21448          168.04052            1       True          5\n",
      "3         LightGBMLarge   -12.59284  -11.80432        25.13703        0.62119   82.24266                 25.13703                 0.62119           82.24266            1       True         11\n",
      "4               XGBoost   -13.36940  -12.74431        24.38047        0.70363  134.83221                 24.38047                 0.70363          134.83221            1       True          9\n",
      "5              LightGBM   -13.46171  -13.01618        28.43066        0.78169   53.05859                 28.43066                 0.78169           53.05859            1       True          4\n",
      "6        KNeighborsUnif   -13.60794  -13.25799        11.97558        0.31124    2.61023                 11.97558                 0.31124            2.61023            1       True          1\n",
      "7              CatBoost   -14.25201  -14.08236         0.35952        0.02939  259.37367                  0.35952                 0.02939          259.37367            1       True          6\n",
      "8        KNeighborsDist   -15.69396  -15.32262         9.00809        0.21367    2.68594                  9.00809                 0.21367            2.68594            1       True          2\n",
      "9            LightGBMXT   -16.79988  -15.92637        37.32344        0.85152  115.01286                 37.32344                 0.85152          115.01286            1       True          3\n",
      "10       NeuralNetTorch   -17.82471  -17.10819         0.93914        0.02755 1920.45859                  0.93914                 0.02755         1920.45859            1       True         10\n",
      "11      NeuralNetFastAI   -19.44552  -18.02019         2.23659        0.19067  296.55167                  2.23659                 0.19067          296.55167            1       True          8\n",
      "2024-11-13 15:16:28.255567 ************** Done predictor.leaderboard **************\n"
     ]
    }
   ],
   "source": [
    "print(datetime.datetime.now(),'************** Running predictor.leaderboard **************')\n",
    "fittedmodels_eval = predictor.leaderboard(test_data, silent=True)\n",
    "print(fittedmodels_eval)\n",
    "print(datetime.datetime.now(),'************** Done predictor.leaderboard **************')"
   ]
  },
  {
   "cell_type": "markdown",
   "metadata": {},
   "source": [
    "# Hyperparameter tuning using optuna"
   ]
  },
  {
   "cell_type": "code",
   "execution_count": null,
   "metadata": {},
   "outputs": [],
   "source": [
    "# %%time\n",
    "# # %pip install optuna\n",
    "# ## this step took 10 hours to finish\n",
    "\n",
    "# import optuna\n",
    "# from sklearn.model_selection import cross_val_score, KFold\n",
    "# from sklearn.metrics import make_scorer, mean_squared_error\n",
    "\n",
    "# def objective(trial):\n",
    "#     # Define hyperparameters to optimize\n",
    "#     params = {\n",
    "#         'iterations': trial.suggest_int('iterations', 100, 1200, step=100),\n",
    "#         'max_depth': trial.suggest_int('depth', 4, 12),\n",
    "#         'learning_rate': trial.suggest_loguniform('learning_rate', 0.001, 0.3),\n",
    "#         \"colsample_bylevel\": trial.suggest_float(\"colsample_bylevel\", 0.01, 0.1),\n",
    "#         \"subsample\": trial.suggest_float(\"subsample\", 0.05, 1.0),\n",
    "#         \"min_data_in_leaf\": trial.suggest_int(\"min_data_in_leaf\", 1, 100),\n",
    "#         'loss_function': 'RMSE','eval_metric': 'RMSE'\n",
    "#     }\n",
    "\n",
    "#     # Initialize CatBoostRegressor with the suggested hyperparameters\n",
    "#     model = cb.CatBoostRegressor(cat_features=categorical_list, **params, verbose=0)\n",
    "    \n",
    "#     # Perform cross-validation\n",
    "#     kf = KFold(n_splits=5, shuffle=True, random_state=42)\n",
    "# #     kf = StratifiedKFold(n_splits=5, shuffle=True, random_state=42)\n",
    "    \n",
    "#     rmse_scorer = make_scorer(mean_squared_error, squared=False)\n",
    "#     scores = cross_val_score(model, X_train, y_train, cv=kf, scoring=rmse_scorer)\n",
    "\n",
    "#     return scores.mean()\n",
    "\n",
    "# # Create a study and optimize the objective function\n",
    "# study = optuna.create_study(direction='minimize')\n",
    "# study.optimize(objective, n_trials=50)"
   ]
  },
  {
   "cell_type": "markdown",
   "metadata": {},
   "source": [
    "# Training"
   ]
  },
  {
   "cell_type": "code",
   "execution_count": 30,
   "metadata": {},
   "outputs": [
    {
     "name": "stdout",
     "output_type": "stream",
     "text": [
      "Mean Squared Error: 291.4811698258217\n",
      "R-squared: 0.2899376830726337\n"
     ]
    }
   ],
   "source": [
    "# ## Define XGBoost model\n",
    "\n",
    "# # regressor = xgb.XGBRegressor(objective='reg:squarederror', \n",
    "# #                          n_estimators=100,\n",
    "# #                          eval_metric='rmse'\n",
    "# #                          )#early_stopping_rounds=100,  learning_rate=0.01, \n",
    "                         \n",
    "# # regressor.fit(X_train, y_train, \n",
    "# #           eval_set=[(X_test, y_test)],\n",
    "# #           verbose=True)\n",
    "\n",
    "# # # Make predictions\n",
    "# # y_pred = regressor.predict(X_test)\n",
    "\n",
    "# from sklearn.preprocessing import StandardScaler\n",
    "# from sklearn.neighbors import KNeighborsRegressor\n",
    "# from sklearn.metrics import mean_squared_error, r2_score\n",
    "\n",
    "# scaler = StandardScaler()\n",
    "# X_train = scaler.fit_transform(X_train)\n",
    "# X_test = scaler.transform(X_test)\n",
    "\n",
    "# # Initialize KNeighborsRegressor\n",
    "# knn = KNeighborsRegressor(n_neighbors=10) #weights='distance',\n",
    "\n",
    "# # Train the model\n",
    "# knn.fit(X_train, y_train)\n",
    "\n",
    "# # Make predictions\n",
    "# y_pred = knn.predict(X_test)\n",
    "\n",
    "# # Evaluate the model\n",
    "# print(\"Mean Squared Error:\", mean_squared_error(y_test, y_pred))\n",
    "# print(\"R-squared:\", r2_score(y_test, y_pred))"
   ]
  },
  {
   "cell_type": "markdown",
   "metadata": {},
   "source": [
    "# Model evaluation"
   ]
  },
  {
   "cell_type": "code",
   "execution_count": 94,
   "metadata": {},
   "outputs": [
    {
     "name": "stdout",
     "output_type": "stream",
     "text": [
      "Mean Squared Error: 317.77472197052606\n",
      "R^2 score: 0.2259\n"
     ]
    }
   ],
   "source": [
    "# # Calculate and print the mean squared error\n",
    "# mse = mean_squared_error(y_test, y_pred)\n",
    "# print(f'Mean Squared Error: {mse}')\n",
    "\n",
    "# # Compute R^2 score\n",
    "# r2 = r2_score(y_test, y_pred)\n",
    "# print(f'R^2 score: {r2:.4f}')"
   ]
  },
  {
   "cell_type": "markdown",
   "metadata": {},
   "source": [
    "# SHAP"
   ]
  },
  {
   "cell_type": "code",
   "execution_count": null,
   "metadata": {},
   "outputs": [],
   "source": []
  },
  {
   "cell_type": "code",
   "execution_count": null,
   "metadata": {},
   "outputs": [],
   "source": []
  },
  {
   "cell_type": "code",
   "execution_count": null,
   "metadata": {},
   "outputs": [],
   "source": []
  }
 ],
 "metadata": {
  "kernelspec": {
   "display_name": "Python 3",
   "language": "python",
   "name": "python3"
  },
  "language_info": {
   "codemirror_mode": {
    "name": "ipython",
    "version": 3
   },
   "file_extension": ".py",
   "mimetype": "text/x-python",
   "name": "python",
   "nbconvert_exporter": "python",
   "pygments_lexer": "ipython3",
   "version": "3.7.1"
  }
 },
 "nbformat": 4,
 "nbformat_minor": 2
}
