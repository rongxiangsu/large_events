{
 "cells": [
  {
   "cell_type": "code",
   "execution_count": 126,
   "id": "93222aa7-4689-4e6f-84ff-f7b0c407b193",
   "metadata": {},
   "outputs": [],
   "source": [
    "import pandas as pd\n",
    "pd.set_option('display.max_colwidth', 0)\n",
    "pd.set_option('display.max_rows', 200)\n",
    "pd.set_option('display.max_columns', 500)\n",
    "pd.set_option('display.width', 1000)\n",
    "import warnings\n",
    "warnings.filterwarnings('ignore')\n",
    "pd.options.display.float_format = '{:.5f}'.format\n",
    "\n",
    "import matplotlib.pyplot as plt\n",
    "import geopandas as gpd\n",
    "\n",
    "import osmnx as ox"
   ]
  },
  {
   "cell_type": "code",
   "execution_count": 2,
   "id": "b0118978-1c25-4353-9e4b-ad29e3ccc82f",
   "metadata": {},
   "outputs": [
    {
     "name": "stdout",
     "output_type": "stream",
     "text": [
      "864615\n",
      "110446\n",
      "CPU times: user 13.3 s, sys: 715 ms, total: 14 s\n",
      "Wall time: 14.7 s\n"
     ]
    }
   ],
   "source": [
    "# %%time\n",
    "# df_stops = pd.read_pickle(\"./data/cuebiq/texas_stops_20221021_20221023.pkl\")  \n",
    "# df_stops['Time'] = df_stops['stop_zoned_datetime'].astype(str).str[0:-6]\n",
    "# df_stops.drop(['stop_zoned_datetime'], axis=1, inplace=True)\n",
    "# df_stops['Time'] = pd.to_datetime(df_stops['Time'], errors='coerce')\n",
    "# print(df_stops.shape[0])\n",
    "# print(df_stops.cuebiq_id.unique().shape[0])"
   ]
  },
  {
   "cell_type": "code",
   "execution_count": 124,
   "id": "eeaee65b-ecff-4ebb-9da5-742b22263d6d",
   "metadata": {},
   "outputs": [
    {
     "data": {
      "text/html": [
       "<div>\n",
       "<style scoped>\n",
       "    .dataframe tbody tr th:only-of-type {\n",
       "        vertical-align: middle;\n",
       "    }\n",
       "\n",
       "    .dataframe tbody tr th {\n",
       "        vertical-align: top;\n",
       "    }\n",
       "\n",
       "    .dataframe thead th {\n",
       "        text-align: right;\n",
       "    }\n",
       "</style>\n",
       "<table border=\"1\" class=\"dataframe\">\n",
       "  <thead>\n",
       "    <tr style=\"text-align: right;\">\n",
       "      <th></th>\n",
       "      <th>cuebiq_id</th>\n",
       "      <th>device_type_code</th>\n",
       "      <th>os_name</th>\n",
       "      <th>lat</th>\n",
       "      <th>lng</th>\n",
       "      <th>geohash_id</th>\n",
       "      <th>cluster_size</th>\n",
       "      <th>avg_distance_meters</th>\n",
       "      <th>avg_accuracy_meters</th>\n",
       "      <th>std_accuracy_meters</th>\n",
       "      <th>dwell_time_minutes</th>\n",
       "      <th>timezone_offset_seconds</th>\n",
       "      <th>admin1_id</th>\n",
       "      <th>admin2_id</th>\n",
       "      <th>classification_type</th>\n",
       "      <th>transformation_type</th>\n",
       "      <th>block_group_id</th>\n",
       "      <th>processing_date</th>\n",
       "      <th>country_code</th>\n",
       "      <th>provider_id</th>\n",
       "      <th>event_date</th>\n",
       "      <th>Time</th>\n",
       "    </tr>\n",
       "  </thead>\n",
       "  <tbody>\n",
       "    <tr>\n",
       "      <th>1</th>\n",
       "      <td>6109947610</td>\n",
       "      <td>IDFA</td>\n",
       "      <td>IOS</td>\n",
       "      <td>30.44453</td>\n",
       "      <td>-97.63212</td>\n",
       "      <td>9v6t4q62n</td>\n",
       "      <td>3</td>\n",
       "      <td>4.95331</td>\n",
       "      <td>27.66667</td>\n",
       "      <td>6.35085</td>\n",
       "      <td>60.41667</td>\n",
       "      <td>-18000</td>\n",
       "      <td>US.TX</td>\n",
       "      <td>US.TX.453</td>\n",
       "      <td>WHITELISTED</td>\n",
       "      <td>KEEP</td>\n",
       "      <td>US.TX.453.001841.3</td>\n",
       "      <td>20221021</td>\n",
       "      <td>US</td>\n",
       "      <td>190199</td>\n",
       "      <td>2022-10-21</td>\n",
       "      <td>2022-10-21 09:16:49</td>\n",
       "    </tr>\n",
       "    <tr>\n",
       "      <th>6</th>\n",
       "      <td>6109944775</td>\n",
       "      <td>IDFA</td>\n",
       "      <td>IOS</td>\n",
       "      <td>30.41425</td>\n",
       "      <td>-97.67201</td>\n",
       "      <td>9v6t12trv</td>\n",
       "      <td>5</td>\n",
       "      <td>6.44381</td>\n",
       "      <td>26.64200</td>\n",
       "      <td>12.18014</td>\n",
       "      <td>150.75000</td>\n",
       "      <td>-18000</td>\n",
       "      <td>US.TX</td>\n",
       "      <td>US.TX.453</td>\n",
       "      <td>WHITELISTED</td>\n",
       "      <td>KEEP</td>\n",
       "      <td>US.TX.453.001839.1</td>\n",
       "      <td>20221021</td>\n",
       "      <td>US</td>\n",
       "      <td>190199</td>\n",
       "      <td>2022-10-21</td>\n",
       "      <td>2022-10-21 07:03:39</td>\n",
       "    </tr>\n",
       "  </tbody>\n",
       "</table>\n",
       "</div>"
      ],
      "text/plain": [
       "    cuebiq_id device_type_code os_name      lat       lng geohash_id  cluster_size  avg_distance_meters avg_accuracy_meters std_accuracy_meters  dwell_time_minutes  timezone_offset_seconds admin1_id  admin2_id classification_type transformation_type      block_group_id  processing_date country_code provider_id  event_date                Time\n",
       "1  6109947610  IDFA             IOS    30.44453 -97.63212  9v6t4q62n  3            4.95331              27.66667            6.35085             60.41667            -18000                    US.TX     US.TX.453  WHITELISTED         KEEP                US.TX.453.001841.3  20221021         US           190199      2022-10-21 2022-10-21 09:16:49\n",
       "6  6109944775  IDFA             IOS    30.41425 -97.67201  9v6t12trv  5            6.44381              26.64200            12.18014            150.75000           -18000                    US.TX     US.TX.453  WHITELISTED         KEEP                US.TX.453.001839.1  20221021         US           190199      2022-10-21 2022-10-21 07:03:39"
      ]
     },
     "execution_count": 124,
     "metadata": {},
     "output_type": "execute_result"
    }
   ],
   "source": [
    "df_stops.head(2)"
   ]
  },
  {
   "cell_type": "code",
   "execution_count": 6,
   "id": "45452f17-da17-4ad6-a4ed-57cb0905645d",
   "metadata": {},
   "outputs": [],
   "source": [
    "# df_stops_need = df_stops[['cuebiq_id','lat','lng','event_date','Time','dwell_time_minutes']]\n",
    "# df_stops_need['departure_time'] = df_stops_need['Time'] + pd.to_timedelta(df_stops_need['dwell_time_minutes'], unit='m')\n",
    "# df_stops_need = df_stops_need[['cuebiq_id','lat','lng','departure_time']]\n",
    "\n",
    "# import geopandas as gpd\n",
    "\n",
    "# gdf_stops = gpd.GeoDataFrame(\n",
    "#     df_stops_need,\n",
    "#     geometry=gpd.points_from_xy(df_stops_need.lng, df_stops_need.lat),\n",
    "#     crs=\"EPSG:4326\"\n",
    "# )\n",
    "# df_stops_need.head()"
   ]
  },
  {
   "cell_type": "markdown",
   "id": "ee3f80c2-9ea0-4ce1-9643-795536a7d348",
   "metadata": {},
   "source": [
    "# Load traj data"
   ]
  },
  {
   "cell_type": "code",
   "execution_count": 12,
   "id": "a8264a44-d72e-47fa-bb26-370a222fa594",
   "metadata": {},
   "outputs": [
    {
     "name": "stdout",
     "output_type": "stream",
     "text": [
      "100424\n",
      "7512\n"
     ]
    }
   ],
   "source": [
    "df_traj = pd.read_pickle(\"./data/cuebiq/texas_traj_20221021_20221023.pkl\")  \n",
    "print(df_traj.shape[0])\n",
    "print(df_traj.cuebiq_id.unique().shape[0])"
   ]
  },
  {
   "cell_type": "code",
   "execution_count": 125,
   "id": "f6c81442-ea79-43e9-83c2-bcbc30f14e6a",
   "metadata": {},
   "outputs": [
    {
     "name": "stdout",
     "output_type": "stream",
     "text": [
      "97667\n"
     ]
    },
    {
     "data": {
      "text/plain": [
       "count   97667.00000\n",
       "mean    21.85148   \n",
       "std     78.55275   \n",
       "min     0.04014    \n",
       "25%     0.93240    \n",
       "50%     4.27115    \n",
       "75%     22.74442   \n",
       "max     7373.06359 \n",
       "Name: cuebiq_trip_km, dtype: float64"
      ]
     },
     "execution_count": 125,
     "metadata": {},
     "output_type": "execute_result"
    }
   ],
   "source": [
    "df_traj_need = df_traj[(df_traj['start_admin1']=='US.TX')&(df_traj['end_admin1']=='US.TX')]\n",
    "print(df_traj_need.shape[0])\n",
    "\n",
    "df_traj_need['cuebiq_trip_km'] = df_traj_need.length_meters/1000\n",
    "df_traj_need['cuebiq_trip_km'].describe()"
   ]
  },
  {
   "cell_type": "code",
   "execution_count": null,
   "id": "9e688734-4254-44a9-9a63-5aadc14d5ca2",
   "metadata": {},
   "outputs": [],
   "source": [
    "# %%time\n",
    "# import pandana\n",
    "# !pandana network does not support weighting network by travel time and speed\n",
    "# # load existing network data\n",
    "# nodes = pd.read_csv('./output/nodes.csv', index_col=0)\n",
    "# print(nodes.shape[0])\n",
    "# edges = pd.read_csv('./output/edges.csv', index_col=[0,1])\n",
    "# network = pandana.Network(nodes['x'], nodes['y'], \n",
    "#                           edges['from'], edges['to'], edges[['distance']])"
   ]
  },
  {
   "cell_type": "code",
   "execution_count": null,
   "id": "0586b61a-21be-4f65-b75b-5355a14ecf88",
   "metadata": {},
   "outputs": [],
   "source": [
    "# %%time\n",
    "\n",
    "# G = ox.graph_from_bbox(bbox=(30.584984, 30.039047, -97.389445, -97.996048), network_type='drive') \n",
    "\n",
    "# # Add edge travel time (assumes speed limit if not available)\n",
    "# G = ox.speed.add_edge_speeds(G)  # Adds estimated speeds (km/h)\n",
    "# G = ox.speed.add_edge_travel_times(G)  # Adds travel time (seconds)"
   ]
  },
  {
   "cell_type": "code",
   "execution_count": null,
   "id": "ec615585-5b2c-4892-9ef6-b86a8cd1ebeb",
   "metadata": {},
   "outputs": [],
   "source": [
    "# graphml_path = \"./output/road_network.graphml\"  # GraphML format\n",
    "# gpkg_path = \"./output/road_network.gpkg\"  # GeoPackage format\n",
    "\n",
    "# # Save the graph in GraphML format (recommended for reloading in OSMnx)\n",
    "# ox.save_graphml(G, filepath=graphml_path)\n",
    "\n",
    "# # Save as GeoPackage (useful for GIS applications)\n",
    "# ox.save_graph_geopackage(G, filepath=gpkg_path)\n",
    "\n",
    "# print(\"Graph saved successfully!\")"
   ]
  },
  {
   "cell_type": "markdown",
   "id": "bdc17cd4-2306-4c8d-99ef-e2678b898bfa",
   "metadata": {},
   "source": [
    "# Load Austin OSM network "
   ]
  },
  {
   "cell_type": "code",
   "execution_count": 133,
   "id": "27874af2-398c-4df9-9008-594aceb229e8",
   "metadata": {},
   "outputs": [],
   "source": [
    "# Convert to GeoDataFrames (assuming you have 'x' and 'y' columns for coordinates)\n",
    "nodes_df = pd.read_csv('./output/osm_nodes.csv')\n",
    "edges_df = pd.read_csv('./output/osm_edges.csv')\n",
    "\n",
    "nodes_df['geometry'] = gpd.GeoSeries.from_wkt(nodes_df['geometry'])\n",
    "edges_df['geometry'] = gpd.GeoSeries.from_wkt(edges_df['geometry'])\n",
    "\n",
    "nodes_gdf = gpd.GeoDataFrame(nodes_df, crs=\"EPSG:3857\", geometry='geometry')\n",
    "edges_gdf = gpd.GeoDataFrame(edges_df, crs=\"EPSG:3857\", geometry='geometry')\n",
    "\n",
    "nodes_gdf = nodes_gdf.set_index('osmid')\n",
    "edges_gdf.set_index(['u', 'v','key'], inplace=True)\n",
    "\n",
    "G = ox.graph_from_gdfs(nodes_gdf, edges_gdf)"
   ]
  },
  {
   "cell_type": "code",
   "execution_count": 128,
   "id": "beaabd3b-d38d-4b8a-8f4d-f5c14be07f00",
   "metadata": {},
   "outputs": [
    {
     "name": "stdout",
     "output_type": "stream",
     "text": [
      "CPU times: user 3.53 s, sys: 51 ms, total: 3.58 s\n",
      "Wall time: 3.6 s\n"
     ]
    }
   ],
   "source": [
    "# %%time\n",
    "# # impute speed on all edges missing data\n",
    "# G = ox.routing.add_edge_speeds(G)\n",
    "# # calculate travel time (seconds) for all edges\n",
    "# G = ox.routing.add_edge_travel_times(G)"
   ]
  },
  {
   "cell_type": "code",
   "execution_count": 131,
   "id": "03bb3524-36fa-44a1-bdaa-7cc52709231c",
   "metadata": {},
   "outputs": [],
   "source": [
    "# # see mean speed/time values by road type\n",
    "# edges = ox.convert.graph_to_gdfs(G, nodes=False)\n",
    "# edges[\"highway\"] = edges[\"highway\"].astype(str)\n",
    "# edges.groupby(\"highway\")[[\"length\", \"speed_kph\", \"travel_time\"]].mean().round(1)"
   ]
  },
  {
   "cell_type": "code",
   "execution_count": 134,
   "id": "18523d5f-07c5-46ce-8300-b386c9fe20cc",
   "metadata": {},
   "outputs": [],
   "source": [
    "# same thing again, but this time pass in a few default speed values (km/hour)\n",
    "# to fill in edges with missing `maxspeed` from OSM\n",
    "hwy_speeds = {\"residential\": 35, \"secondary\": 50, \"tertiary\": 60}\n",
    "G = ox.routing.add_edge_speeds(G, hwy_speeds=hwy_speeds)\n",
    "G = ox.routing.add_edge_travel_times(G)"
   ]
  },
  {
   "cell_type": "code",
   "execution_count": 135,
   "id": "bf8f6dc8-8b40-42c9-903a-9b461b181a43",
   "metadata": {},
   "outputs": [
    {
     "name": "stdout",
     "output_type": "stream",
     "text": [
      "CPU times: user 423 ms, sys: 0 ns, total: 423 ms\n",
      "Wall time: 420 ms\n"
     ]
    }
   ],
   "source": [
    "%%time\n",
    "# Get nearest nodes in the road network\n",
    "orig_node = ox.distance.nearest_nodes(G, df_traj_need.start_lng, df_traj_need.start_lat)\n",
    "dest_node = ox.distance.nearest_nodes(G, df_traj_need.end_lng, df_traj_need.end_lat)"
   ]
  },
  {
   "cell_type": "code",
   "execution_count": null,
   "id": "bb600795-5d3f-4dc7-88ed-f345c12f5746",
   "metadata": {},
   "outputs": [],
   "source": [
    "%%time\n",
    "# Compute shortest travel time (in seconds)\n",
    "travel_time_sec = ox.routing.shortest_path(G, orig_node, dest_node, weight=\"travel_time\")\n",
    "travel_time_min = travel_time_sec / 60  # Convert to minutes"
   ]
  },
  {
   "cell_type": "code",
   "execution_count": 29,
   "id": "759fce7d-892e-4285-9b22-5ba4c09c6609",
   "metadata": {},
   "outputs": [],
   "source": [
    "# df_test = df_traj_need[df_traj_need['length_km']>1000]\n",
    "# 'start_lat','start_lng'\n",
    "# 'end_lat','end_lng'"
   ]
  },
  {
   "cell_type": "code",
   "execution_count": 59,
   "id": "c9a63efc-b98d-4935-b837-0ea1dba5ea91",
   "metadata": {},
   "outputs": [],
   "source": [
    "# first, identify the nearest node (of pandana network) to each lon lat coordinate of road segments\n",
    "road_start_nodes = network.get_node_ids(df_traj_need.start_lng, df_traj_need.start_lat).values\n",
    "road_end_nodes = network.get_node_ids(df_traj_need.end_lng, df_traj_need.end_lat).values"
   ]
  },
  {
   "cell_type": "code",
   "execution_count": 62,
   "id": "fd93c4fe-c660-4864-8d10-d61c3e43a8ec",
   "metadata": {},
   "outputs": [
    {
     "data": {
      "text/plain": [
       "97667"
      ]
     },
     "execution_count": 62,
     "metadata": {},
     "output_type": "execute_result"
    }
   ],
   "source": [
    "len(road_end_nodes)"
   ]
  },
  {
   "cell_type": "code",
   "execution_count": 60,
   "id": "aab3771f-ddf2-4988-ba24-882162bc1147",
   "metadata": {},
   "outputs": [
    {
     "name": "stdout",
     "output_type": "stream",
     "text": [
      "CPU times: user 2.22 s, sys: 0 ns, total: 2.22 s\n",
      "Wall time: 123 ms\n"
     ]
    }
   ],
   "source": [
    "%%time\n",
    "distances_list = network.shortest_path_lengths(road_start_nodes, road_end_nodes)\n",
    "df_traj_need['trip_distance_km'] = distances_list\n",
    "df_traj_need['trip_distance_km'] = df_traj_need['trip_distance_km']/1000\n",
    "# pd.Series(distances_list) / 1000 # covert to km"
   ]
  },
  {
   "cell_type": "code",
   "execution_count": 73,
   "id": "fa068e4a-4e57-4186-83f5-631aa96c3ae3",
   "metadata": {},
   "outputs": [],
   "source": [
    "df_traj_needcol = df_traj_need[['cuebiq_id', 'length_km', 'duration_minutes' ,'trip_distance_km']]\n",
    "df_traj_needcol['diff'] = df_traj_needcol['length_km'] - df_traj_needcol['trip_distance_km']\n",
    "df_traj_needcol = df_traj_needcol[(df_traj_needcol['diff']<100)&(df_traj_needcol['diff']>-100)]"
   ]
  },
  {
   "cell_type": "code",
   "execution_count": 83,
   "id": "85ac8ade-e90e-46f8-82e1-3d638df64a62",
   "metadata": {},
   "outputs": [
    {
     "data": {
      "image/png": "[encoded data removed]",
      "text/plain": [
       "<Figure size 800x600 with 1 Axes>"
      ]
     },
     "metadata": {},
     "output_type": "display_data"
    }
   ],
   "source": [
    "import matplotlib.pyplot as plt\n",
    "\n",
    "# Plot histograms on the same axis\n",
    "plt.figure(figsize=(8, 6))\n",
    "plt.hist(df_traj_needcol['length_km'], bins=60, alpha=0.5, label='Trip Distance (km)', color='red', edgecolor='black')\n",
    "plt.hist(df_traj_needcol['trip_distance_km'], bins=30, alpha=0.5, label='Shortest Trip Distance (km)', color='blue', edgecolor='black')\n",
    "# Labels and title\n",
    "plt.xlabel('Distance (km)')\n",
    "plt.ylabel('Frequency')\n",
    "# plt.title('Overlayed Histograms of Trip Distance and Length')\n",
    "plt.legend()\n",
    "\n",
    "# Show plot\n",
    "plt.show()"
   ]
  },
  {
   "cell_type": "code",
   "execution_count": null,
   "id": "45fbcb92-b87a-4553-a3c8-ee347a84aca7",
   "metadata": {},
   "outputs": [],
   "source": []
  },
  {
   "cell_type": "code",
   "execution_count": 75,
   "id": "edaca360-e375-4cfe-b9d6-9f05126325d0",
   "metadata": {},
   "outputs": [
    {
     "data": {
      "text/plain": [
       "count   91196.00000\n",
       "mean    3.45776    \n",
       "std     11.87264   \n",
       "min     -47.53605  \n",
       "25%     -0.58766   \n",
       "50%     0.22711    \n",
       "75%     2.42737    \n",
       "max     99.92079   \n",
       "Name: diff, dtype: float64"
      ]
     },
     "execution_count": 75,
     "metadata": {},
     "output_type": "execute_result"
    }
   ],
   "source": [
    "df_traj_needcol['diff'].describe()"
   ]
  },
  {
   "cell_type": "code",
   "execution_count": null,
   "id": "a192700a-f55a-4759-9efd-b9b7bd2130aa",
   "metadata": {},
   "outputs": [],
   "source": []
  },
  {
   "cell_type": "code",
   "execution_count": null,
   "id": "7ca53251-00ee-48b6-a44c-b69109e740e2",
   "metadata": {},
   "outputs": [],
   "source": []
  },
  {
   "cell_type": "code",
   "execution_count": null,
   "id": "163bdc68-3603-4d28-93cd-07f761ff5616",
   "metadata": {},
   "outputs": [],
   "source": []
  },
  {
   "cell_type": "code",
   "execution_count": null,
   "id": "d5d6252d-2c30-42e5-b694-f04698615639",
   "metadata": {},
   "outputs": [],
   "source": []
  },
  {
   "cell_type": "code",
   "execution_count": null,
   "id": "9c632ff7-ebfe-4021-bfa7-e34b0c8ff37d",
   "metadata": {},
   "outputs": [],
   "source": []
  }
 ],
 "metadata": {
  "kernelspec": {
   "display_name": "Python (pytorch_env)",
   "language": "python",
   "name": "pytorch_env"
  },
  "language_info": {
   "codemirror_mode": {
    "name": "ipython",
    "version": 3
   },
   "file_extension": ".py",
   "mimetype": "text/x-python",
   "name": "python",
   "nbconvert_exporter": "python",
   "pygments_lexer": "ipython3",
   "version": "3.10.16"
  }
 },
 "nbformat": 4,
 "nbformat_minor": 5
}
