{
 "cells": [
  {
   "cell_type": "code",
   "execution_count": 1,
   "metadata": {},
   "outputs": [],
   "source": [
    "import datetime\n",
    "import matplotlib.pyplot as plt\n",
    "from matplotlib import pyplot\n",
    "import pandas as pd\n",
    "import sklearn\n",
    "from sklearn.inspection import PartialDependenceDisplay\n",
    "# from sklearn.neural_network import MLPRegressor\n",
    "from sklearn.pipeline import make_pipeline\n",
    "from sklearn.preprocessing import StandardScaler\n",
    "# from sklearn.tree import DecisionTreeRegressor\n",
    "import numpy as np\n",
    "\n",
    "pd.set_option(\"display.max_colwidth\", 0)\n",
    "pd.set_option(\"display.max_rows\", 500)\n",
    "pd.set_option(\"display.max_columns\", 500)\n",
    "pd.set_option(\"display.width\", 1000)\n",
    "import warnings\n",
    "warnings.filterwarnings(\"ignore\")\n",
    "pd.options.display.float_format = '{:.5f}'.format"
   ]
  },
  {
   "cell_type": "code",
   "execution_count": 2,
   "metadata": {},
   "outputs": [
    {
     "data": {
      "application/javascript": [
       "IPython.notebook.set_autosave_interval(5000)"
      ]
     },
     "metadata": {},
     "output_type": "display_data"
    },
    {
     "name": "stdout",
     "output_type": "stream",
     "text": [
      "Autosaving every 5 seconds\n"
     ]
    }
   ],
   "source": [
    "import sys\n",
    "import logging\n",
    "import datetime\n",
    "\n",
    "nblog = open(\"./output/tree_pdp_shap_\"+str(datetime.datetime.now())+\".log\", \"a+\")\n",
    "sys.stdout.echo = nblog\n",
    "sys.stderr.echo = nblog\n",
    "\n",
    "get_ipython().log.handlers[0].stream = nblog\n",
    "get_ipython().log.setLevel(logging.INFO)\n",
    "\n",
    "%autosave 5"
   ]
  },
  {
   "cell_type": "code",
   "execution_count": 3,
   "metadata": {},
   "outputs": [
    {
     "name": "stdout",
     "output_type": "stream",
     "text": [
      "['2022-10-21' '2022-10-22' '2022-10-23']\n",
      "unique road segments (samples): 4450\n",
      "total observations:  1917950\n",
      "CPU times: user 4.87 s, sys: 571 ms, total: 5.44 s\n",
      "Wall time: 6.15 s\n"
     ]
    },
    {
     "data": {
      "text/html": [
       "<div>\n",
       "<style scoped>\n",
       "    .dataframe tbody tr th:only-of-type {\n",
       "        vertical-align: middle;\n",
       "    }\n",
       "\n",
       "    .dataframe tbody tr th {\n",
       "        vertical-align: top;\n",
       "    }\n",
       "\n",
       "    .dataframe thead th {\n",
       "        text-align: right;\n",
       "    }\n",
       "</style>\n",
       "<table border=\"1\" class=\"dataframe\">\n",
       "  <thead>\n",
       "    <tr style=\"text-align: right;\">\n",
       "      <th></th>\n",
       "      <th>tmc_code</th>\n",
       "      <th>hour_min</th>\n",
       "      <th>delay_baseline</th>\n",
       "      <th>delay_focus</th>\n",
       "      <th>delay_difference</th>\n",
       "      <th>date</th>\n",
       "      <th>intersection</th>\n",
       "      <th>start_latitude</th>\n",
       "      <th>start_longitude</th>\n",
       "      <th>end_latitude</th>\n",
       "      <th>end_longitude</th>\n",
       "      <th>miles</th>\n",
       "      <th>airbnb_count</th>\n",
       "      <th>distance_to_Shuttle_Waterloo_Park</th>\n",
       "      <th>distance_to_Shuttle_Barton_Creek_Square</th>\n",
       "      <th>distance_to_Shuttle_Expo_Center</th>\n",
       "      <th>distance_to_Uber_DelValle_HighSchool</th>\n",
       "      <th>distance_to_venue</th>\n",
       "      <th>minutes_since_midnight</th>\n",
       "    </tr>\n",
       "  </thead>\n",
       "  <tbody>\n",
       "    <tr>\n",
       "      <th>0</th>\n",
       "      <td>112+04758</td>\n",
       "      <td>00:00</td>\n",
       "      <td>-0.93268</td>\n",
       "      <td>-0.93268</td>\n",
       "      <td>0.00000</td>\n",
       "      <td>2022-10-21</td>\n",
       "      <td>51ST ST/CAMERON RD/EXIT 237</td>\n",
       "      <td>30.30330</td>\n",
       "      <td>-97.71418</td>\n",
       "      <td>30.30530</td>\n",
       "      <td>-97.71289</td>\n",
       "      <td>0.15814</td>\n",
       "      <td>87</td>\n",
       "      <td>4685.01085</td>\n",
       "      <td>11838.72611</td>\n",
       "      <td>10171.97090</td>\n",
       "      <td>19603.37763</td>\n",
       "      <td>23552.59734</td>\n",
       "      <td>0</td>\n",
       "    </tr>\n",
       "    <tr>\n",
       "      <th>1</th>\n",
       "      <td>112+04758</td>\n",
       "      <td>00:10</td>\n",
       "      <td>-0.93268</td>\n",
       "      <td>-0.93268</td>\n",
       "      <td>0.00000</td>\n",
       "      <td>2022-10-21</td>\n",
       "      <td>51ST ST/CAMERON RD/EXIT 237</td>\n",
       "      <td>30.30330</td>\n",
       "      <td>-97.71418</td>\n",
       "      <td>30.30530</td>\n",
       "      <td>-97.71289</td>\n",
       "      <td>0.15814</td>\n",
       "      <td>87</td>\n",
       "      <td>4685.01085</td>\n",
       "      <td>11838.72611</td>\n",
       "      <td>10171.97090</td>\n",
       "      <td>19603.37763</td>\n",
       "      <td>23552.59734</td>\n",
       "      <td>10</td>\n",
       "    </tr>\n",
       "  </tbody>\n",
       "</table>\n",
       "</div>"
      ],
      "text/plain": [
       "    tmc_code hour_min  delay_baseline  delay_focus  delay_difference        date                 intersection  start_latitude  start_longitude  end_latitude  end_longitude   miles  airbnb_count  distance_to_Shuttle_Waterloo_Park  distance_to_Shuttle_Barton_Creek_Square  distance_to_Shuttle_Expo_Center  distance_to_Uber_DelValle_HighSchool  distance_to_venue  minutes_since_midnight\n",
       "0  112+04758  00:00   -0.93268        -0.93268     0.00000            2022-10-21  51ST ST/CAMERON RD/EXIT 237 30.30330        -97.71418        30.30530      -97.71289      0.15814  87           4685.01085                         11838.72611                              10171.97090                      19603.37763                           23552.59734         0                     \n",
       "1  112+04758  00:10   -0.93268        -0.93268     0.00000            2022-10-21  51ST ST/CAMERON RD/EXIT 237 30.30330        -97.71418        30.30530      -97.71289      0.15814  87           4685.01085                         11838.72611                              10171.97090                      19603.37763                           23552.59734         10                    "
      ]
     },
     "execution_count": 3,
     "metadata": {},
     "output_type": "execute_result"
    }
   ],
   "source": [
    "%%time\n",
    "\n",
    "df_traffic = pd.read_csv('./output/austin_2022_GP_10min_interval_delaydifference_with_features_forML.csv')\n",
    "df_traffic['minutes_since_midnight'] = df_traffic['hour_min'].apply(lambda x: int(x[:2]) * 60 + int(x[3:]))\n",
    "\n",
    "print(df_traffic.date.unique())\n",
    "print('unique road segments (samples):',df_traffic.tmc_code.unique().shape[0])\n",
    "print('total observations: ',df_traffic.shape[0])\n",
    "df_traffic.head(2)"
   ]
  },
  {
   "cell_type": "code",
   "execution_count": 4,
   "metadata": {},
   "outputs": [
    {
     "name": "stdout",
     "output_type": "stream",
     "text": [
      "1197050\n"
     ]
    }
   ],
   "source": [
    "# because the event usually begins in the morning after 10, people arrive typically around that time, so we want to only focus on after 930\n",
    "df_traffic = df_traffic[df_traffic['minutes_since_midnight']>=540]\n",
    "print(df_traffic.shape[0])\n",
    "df_traffic = pd.get_dummies(df_traffic, columns=['date'], prefix='date')"
   ]
  },
  {
   "cell_type": "code",
   "execution_count": 5,
   "metadata": {},
   "outputs": [
    {
     "data": {
      "text/plain": [
       "Index(['tmc_code', 'hour_min', 'delay_baseline', 'delay_focus', 'delay_difference', 'intersection', 'start_latitude', 'start_longitude', 'end_latitude', 'end_longitude', 'miles', 'airbnb_count', 'distance_to_Shuttle_Waterloo_Park', 'distance_to_Shuttle_Barton_Creek_Square', 'distance_to_Shuttle_Expo_Center', 'distance_to_Uber_DelValle_HighSchool', 'distance_to_venue', 'minutes_since_midnight', 'date_2022-10-21', 'date_2022-10-22', 'date_2022-10-23'], dtype='object')"
      ]
     },
     "execution_count": 5,
     "metadata": {},
     "output_type": "execute_result"
    }
   ],
   "source": [
    "df_traffic.columns"
   ]
  },
  {
   "cell_type": "code",
   "execution_count": 6,
   "metadata": {},
   "outputs": [],
   "source": [
    "# df_traffic_oneday = df_traffic[df_traffic['date']=='2022-10-22']"
   ]
  },
  {
   "cell_type": "code",
   "execution_count": 7,
   "metadata": {},
   "outputs": [
    {
     "name": "stdout",
     "output_type": "stream",
     "text": [
      "Total sample size: 1197050\n",
      "Total training set size: 837935\n",
      "Total test set size: 359115\n"
     ]
    }
   ],
   "source": [
    "from sklearn.model_selection import train_test_split\n",
    "from sklearn.metrics import mean_squared_error\n",
    "\n",
    "# Prepare input features and labels for the model\n",
    "X = df_traffic[['minutes_since_midnight',  'start_latitude', 'start_longitude', 'miles',\n",
    "                'date_2022-10-21', 'date_2022-10-22', 'date_2022-10-23',\n",
    "                'airbnb_count', 'distance_to_Shuttle_Waterloo_Park', 'distance_to_Shuttle_Barton_Creek_Square', \n",
    "                'distance_to_Shuttle_Expo_Center', 'distance_to_Uber_DelValle_HighSchool', 'distance_to_venue']].copy()\n",
    "y = df_traffic['delay_difference'].values\n",
    "\n",
    "# Split data into training and test sets\n",
    "X_train, X_test, y_train, y_test = train_test_split(X, y, test_size=0.3, random_state=42)\n",
    "\n",
    "print('Total sample size:', X.shape[0])\n",
    "print('Total training set size:', X_train.shape[0])\n",
    "print('Total test set size:', X_test.shape[0])"
   ]
  },
  {
   "cell_type": "code",
   "execution_count": 8,
   "metadata": {},
   "outputs": [
    {
     "name": "stdout",
     "output_type": "stream",
     "text": [
      "CPU times: user 795 ms, sys: 48.6 ms, total: 843 ms\n",
      "Wall time: 869 ms\n"
     ]
    },
    {
     "data": {
      "text/html": [
       "<div>\n",
       "<style scoped>\n",
       "    .dataframe tbody tr th:only-of-type {\n",
       "        vertical-align: middle;\n",
       "    }\n",
       "\n",
       "    .dataframe tbody tr th {\n",
       "        vertical-align: top;\n",
       "    }\n",
       "\n",
       "    .dataframe thead th {\n",
       "        text-align: right;\n",
       "    }\n",
       "</style>\n",
       "<table border=\"1\" class=\"dataframe\">\n",
       "  <thead>\n",
       "    <tr style=\"text-align: right;\">\n",
       "      <th></th>\n",
       "      <th>minutes_since_midnight</th>\n",
       "      <th>start_latitude</th>\n",
       "      <th>start_longitude</th>\n",
       "      <th>miles</th>\n",
       "      <th>date_2022-10-21</th>\n",
       "      <th>date_2022-10-22</th>\n",
       "      <th>date_2022-10-23</th>\n",
       "      <th>airbnb_count</th>\n",
       "      <th>distance_to_Shuttle_Waterloo_Park</th>\n",
       "      <th>distance_to_Shuttle_Barton_Creek_Square</th>\n",
       "      <th>distance_to_Shuttle_Expo_Center</th>\n",
       "      <th>distance_to_Uber_DelValle_HighSchool</th>\n",
       "      <th>distance_to_venue</th>\n",
       "    </tr>\n",
       "  </thead>\n",
       "  <tbody>\n",
       "    <tr>\n",
       "      <th>minutes_since_midnight</th>\n",
       "      <td>1.00002</td>\n",
       "      <td>0.00000</td>\n",
       "      <td>0.00000</td>\n",
       "      <td>0.00000</td>\n",
       "      <td>-0.00707</td>\n",
       "      <td>-0.00706</td>\n",
       "      <td>-0.01203</td>\n",
       "      <td>0.00000</td>\n",
       "      <td>0.00000</td>\n",
       "      <td>-0.00000</td>\n",
       "      <td>-0.00000</td>\n",
       "      <td>0.00000</td>\n",
       "      <td>-0.00000</td>\n",
       "    </tr>\n",
       "    <tr>\n",
       "      <th>start_latitude</th>\n",
       "      <td>0.00000</td>\n",
       "      <td>16.66550</td>\n",
       "      <td>-0.25938</td>\n",
       "      <td>0.81057</td>\n",
       "      <td>-0.08225</td>\n",
       "      <td>-0.08225</td>\n",
       "      <td>-0.08202</td>\n",
       "      <td>0.23729</td>\n",
       "      <td>2.53443</td>\n",
       "      <td>-0.58231</td>\n",
       "      <td>0.53332</td>\n",
       "      <td>32.09939</td>\n",
       "      <td>-47.84499</td>\n",
       "    </tr>\n",
       "    <tr>\n",
       "      <th>start_longitude</th>\n",
       "      <td>0.00000</td>\n",
       "      <td>-0.25938</td>\n",
       "      <td>5.33612</td>\n",
       "      <td>0.29394</td>\n",
       "      <td>0.02715</td>\n",
       "      <td>0.02715</td>\n",
       "      <td>0.02708</td>\n",
       "      <td>-0.38134</td>\n",
       "      <td>-0.90740</td>\n",
       "      <td>-5.82432</td>\n",
       "      <td>-0.41746</td>\n",
       "      <td>18.09198</td>\n",
       "      <td>-13.01078</td>\n",
       "    </tr>\n",
       "    <tr>\n",
       "      <th>miles</th>\n",
       "      <td>0.00000</td>\n",
       "      <td>0.81057</td>\n",
       "      <td>0.29394</td>\n",
       "      <td>1.25955</td>\n",
       "      <td>0.10168</td>\n",
       "      <td>0.10168</td>\n",
       "      <td>0.10139</td>\n",
       "      <td>-0.14218</td>\n",
       "      <td>-1.03468</td>\n",
       "      <td>-0.02651</td>\n",
       "      <td>-0.00539</td>\n",
       "      <td>2.77891</td>\n",
       "      <td>-2.86867</td>\n",
       "    </tr>\n",
       "    <tr>\n",
       "      <th>date_2022-10-21</th>\n",
       "      <td>-0.00706</td>\n",
       "      <td>-0.08225</td>\n",
       "      <td>0.02715</td>\n",
       "      <td>0.10168</td>\n",
       "      <td>-22866999849187.30078</td>\n",
       "      <td>-22866999849188.27734</td>\n",
       "      <td>-22803036087951.56250</td>\n",
       "      <td>0.04071</td>\n",
       "      <td>-0.00819</td>\n",
       "      <td>-0.04723</td>\n",
       "      <td>0.05936</td>\n",
       "      <td>-0.24511</td>\n",
       "      <td>0.30592</td>\n",
       "    </tr>\n",
       "    <tr>\n",
       "      <th>date_2022-10-22</th>\n",
       "      <td>-0.00706</td>\n",
       "      <td>-0.08225</td>\n",
       "      <td>0.02715</td>\n",
       "      <td>0.10168</td>\n",
       "      <td>-22866999849188.27734</td>\n",
       "      <td>-22866999849187.92578</td>\n",
       "      <td>-22803036087951.87500</td>\n",
       "      <td>0.04071</td>\n",
       "      <td>-0.00819</td>\n",
       "      <td>-0.04723</td>\n",
       "      <td>0.05936</td>\n",
       "      <td>-0.24511</td>\n",
       "      <td>0.30592</td>\n",
       "    </tr>\n",
       "    <tr>\n",
       "      <th>date_2022-10-23</th>\n",
       "      <td>-0.01202</td>\n",
       "      <td>-0.08202</td>\n",
       "      <td>0.02708</td>\n",
       "      <td>0.10139</td>\n",
       "      <td>-22803036087951.56250</td>\n",
       "      <td>-22803036087951.87500</td>\n",
       "      <td>-22739251246676.81641</td>\n",
       "      <td>0.04060</td>\n",
       "      <td>-0.00816</td>\n",
       "      <td>-0.04710</td>\n",
       "      <td>0.05920</td>\n",
       "      <td>-0.24442</td>\n",
       "      <td>0.30507</td>\n",
       "    </tr>\n",
       "    <tr>\n",
       "      <th>airbnb_count</th>\n",
       "      <td>0.00000</td>\n",
       "      <td>0.23729</td>\n",
       "      <td>-0.38134</td>\n",
       "      <td>-0.14218</td>\n",
       "      <td>0.04071</td>\n",
       "      <td>0.04071</td>\n",
       "      <td>0.04060</td>\n",
       "      <td>1.70781</td>\n",
       "      <td>5.98059</td>\n",
       "      <td>-3.08213</td>\n",
       "      <td>-2.44925</td>\n",
       "      <td>1.00674</td>\n",
       "      <td>-1.28450</td>\n",
       "    </tr>\n",
       "    <tr>\n",
       "      <th>distance_to_Shuttle_Waterloo_Park</th>\n",
       "      <td>0.00000</td>\n",
       "      <td>2.53443</td>\n",
       "      <td>-0.90740</td>\n",
       "      <td>-1.03468</td>\n",
       "      <td>-0.00819</td>\n",
       "      <td>-0.00819</td>\n",
       "      <td>-0.00816</td>\n",
       "      <td>5.98059</td>\n",
       "      <td>74.45623</td>\n",
       "      <td>-50.27565</td>\n",
       "      <td>-22.59948</td>\n",
       "      <td>-18.79238</td>\n",
       "      <td>13.87097</td>\n",
       "    </tr>\n",
       "    <tr>\n",
       "      <th>distance_to_Shuttle_Barton_Creek_Square</th>\n",
       "      <td>-0.00000</td>\n",
       "      <td>-0.58231</td>\n",
       "      <td>-5.82432</td>\n",
       "      <td>-0.02651</td>\n",
       "      <td>-0.04723</td>\n",
       "      <td>-0.04723</td>\n",
       "      <td>-0.04710</td>\n",
       "      <td>-3.08213</td>\n",
       "      <td>-50.27565</td>\n",
       "      <td>46.38830</td>\n",
       "      <td>10.13752</td>\n",
       "      <td>15.60473</td>\n",
       "      <td>-18.15437</td>\n",
       "    </tr>\n",
       "    <tr>\n",
       "      <th>distance_to_Shuttle_Expo_Center</th>\n",
       "      <td>-0.00000</td>\n",
       "      <td>0.53332</td>\n",
       "      <td>-0.41746</td>\n",
       "      <td>-0.00539</td>\n",
       "      <td>0.05936</td>\n",
       "      <td>0.05936</td>\n",
       "      <td>0.05920</td>\n",
       "      <td>-2.44925</td>\n",
       "      <td>-22.59948</td>\n",
       "      <td>10.13752</td>\n",
       "      <td>30.04414</td>\n",
       "      <td>-80.51961</td>\n",
       "      <td>68.04435</td>\n",
       "    </tr>\n",
       "    <tr>\n",
       "      <th>distance_to_Uber_DelValle_HighSchool</th>\n",
       "      <td>0.00000</td>\n",
       "      <td>32.09939</td>\n",
       "      <td>18.09198</td>\n",
       "      <td>2.77891</td>\n",
       "      <td>-0.24511</td>\n",
       "      <td>-0.24511</td>\n",
       "      <td>-0.24442</td>\n",
       "      <td>1.00674</td>\n",
       "      <td>-18.79238</td>\n",
       "      <td>15.60473</td>\n",
       "      <td>-80.51961</td>\n",
       "      <td>490.46505</td>\n",
       "      <td>-456.83537</td>\n",
       "    </tr>\n",
       "    <tr>\n",
       "      <th>distance_to_venue</th>\n",
       "      <td>-0.00000</td>\n",
       "      <td>-47.84499</td>\n",
       "      <td>-13.01078</td>\n",
       "      <td>-2.86867</td>\n",
       "      <td>0.30592</td>\n",
       "      <td>0.30592</td>\n",
       "      <td>0.30507</td>\n",
       "      <td>-1.28450</td>\n",
       "      <td>13.87097</td>\n",
       "      <td>-18.15437</td>\n",
       "      <td>68.04435</td>\n",
       "      <td>-456.83537</td>\n",
       "      <td>451.65480</td>\n",
       "    </tr>\n",
       "  </tbody>\n",
       "</table>\n",
       "</div>"
      ],
      "text/plain": [
       "                                         minutes_since_midnight  start_latitude  start_longitude    miles       date_2022-10-21       date_2022-10-22       date_2022-10-23  airbnb_count  distance_to_Shuttle_Waterloo_Park  distance_to_Shuttle_Barton_Creek_Square  distance_to_Shuttle_Expo_Center  distance_to_Uber_DelValle_HighSchool  distance_to_venue\n",
       "minutes_since_midnight                  1.00002                 0.00000         0.00000          0.00000  -0.00707              -0.00706              -0.01203              0.00000       0.00000                            -0.00000                                 -0.00000                         0.00000                               -0.00000          \n",
       "start_latitude                          0.00000                 16.66550        -0.25938         0.81057  -0.08225              -0.08225              -0.08202              0.23729       2.53443                            -0.58231                                 0.53332                          32.09939                              -47.84499         \n",
       "start_longitude                         0.00000                 -0.25938        5.33612          0.29394  0.02715               0.02715               0.02708               -0.38134      -0.90740                           -5.82432                                 -0.41746                         18.09198                              -13.01078         \n",
       "miles                                   0.00000                 0.81057         0.29394          1.25955  0.10168               0.10168               0.10139               -0.14218      -1.03468                           -0.02651                                 -0.00539                         2.77891                               -2.86867          \n",
       "date_2022-10-21                         -0.00706                -0.08225        0.02715          0.10168  -22866999849187.30078 -22866999849188.27734 -22803036087951.56250 0.04071       -0.00819                           -0.04723                                 0.05936                          -0.24511                              0.30592           \n",
       "date_2022-10-22                         -0.00706                -0.08225        0.02715          0.10168  -22866999849188.27734 -22866999849187.92578 -22803036087951.87500 0.04071       -0.00819                           -0.04723                                 0.05936                          -0.24511                              0.30592           \n",
       "date_2022-10-23                         -0.01202                -0.08202        0.02708          0.10139  -22803036087951.56250 -22803036087951.87500 -22739251246676.81641 0.04060       -0.00816                           -0.04710                                 0.05920                          -0.24442                              0.30507           \n",
       "airbnb_count                            0.00000                 0.23729         -0.38134         -0.14218 0.04071               0.04071               0.04060               1.70781       5.98059                            -3.08213                                 -2.44925                         1.00674                               -1.28450          \n",
       "distance_to_Shuttle_Waterloo_Park       0.00000                 2.53443         -0.90740         -1.03468 -0.00819              -0.00819              -0.00816              5.98059       74.45623                           -50.27565                                -22.59948                        -18.79238                             13.87097          \n",
       "distance_to_Shuttle_Barton_Creek_Square -0.00000                -0.58231        -5.82432         -0.02651 -0.04723              -0.04723              -0.04710              -3.08213      -50.27565                          46.38830                                 10.13752                         15.60473                              -18.15437         \n",
       "distance_to_Shuttle_Expo_Center         -0.00000                0.53332         -0.41746         -0.00539 0.05936               0.05936               0.05920               -2.44925      -22.59948                          10.13752                                 30.04414                         -80.51961                             68.04435          \n",
       "distance_to_Uber_DelValle_HighSchool    0.00000                 32.09939        18.09198         2.77891  -0.24511              -0.24511              -0.24442              1.00674       -18.79238                          15.60473                                 -80.51961                        490.46505                             -456.83537        \n",
       "distance_to_venue                       -0.00000                -47.84499       -13.01078        -2.86867 0.30592               0.30592               0.30507               -1.28450      13.87097                           -18.15437                                68.04435                         -456.83537                            451.65480         "
      ]
     },
     "execution_count": 8,
     "metadata": {},
     "output_type": "execute_result"
    }
   ],
   "source": [
    "%%time\n",
    "# check VIF\n",
    "df_cor = X.corr()\n",
    "pd.DataFrame(np.linalg.inv(X.corr().values), index = df_cor.index, columns=df_cor.columns)"
   ]
  },
  {
   "cell_type": "markdown",
   "metadata": {},
   "source": [
    "# Hyperparameter tuning using optuna"
   ]
  },
  {
   "cell_type": "code",
   "execution_count": null,
   "metadata": {},
   "outputs": [],
   "source": [
    "# %%time\n",
    "# # %pip install optuna\n",
    "# ## this step took 10 hours to finish\n",
    "\n",
    "# import optuna\n",
    "# from sklearn.model_selection import cross_val_score, KFold\n",
    "# from sklearn.metrics import make_scorer, mean_squared_error\n",
    "\n",
    "# def objective(trial):\n",
    "#     # Define hyperparameters to optimize\n",
    "#     params = {\n",
    "#         'iterations': trial.suggest_int('iterations', 100, 1200, step=100),\n",
    "#         'max_depth': trial.suggest_int('depth', 4, 12),\n",
    "#         'learning_rate': trial.suggest_loguniform('learning_rate', 0.001, 0.3),\n",
    "#         \"colsample_bylevel\": trial.suggest_float(\"colsample_bylevel\", 0.01, 0.1),\n",
    "#         \"subsample\": trial.suggest_float(\"subsample\", 0.05, 1.0),\n",
    "#         \"min_data_in_leaf\": trial.suggest_int(\"min_data_in_leaf\", 1, 100),\n",
    "#         'loss_function': 'RMSE','eval_metric': 'RMSE'\n",
    "#     }\n",
    "\n",
    "#     # Initialize CatBoostRegressor with the suggested hyperparameters\n",
    "#     model = cb.CatBoostRegressor(cat_features=categorical_list, **params, verbose=0)\n",
    "    \n",
    "#     # Perform cross-validation\n",
    "#     kf = KFold(n_splits=5, shuffle=True, random_state=42)\n",
    "# #     kf = StratifiedKFold(n_splits=5, shuffle=True, random_state=42)\n",
    "    \n",
    "#     rmse_scorer = make_scorer(mean_squared_error, squared=False)\n",
    "#     scores = cross_val_score(model, X_train, y_train, cv=kf, scoring=rmse_scorer)\n",
    "\n",
    "#     return scores.mean()\n",
    "\n",
    "# # Create a study and optimize the objective function\n",
    "# study = optuna.create_study(direction='minimize')\n",
    "# study.optimize(objective, n_trials=50)"
   ]
  },
  {
   "cell_type": "markdown",
   "metadata": {},
   "source": [
    "# Training"
   ]
  },
  {
   "cell_type": "code",
   "execution_count": 13,
   "metadata": {},
   "outputs": [
    {
     "name": "stdout",
     "output_type": "stream",
     "text": [
      "2024-11-18 16:17:09.267995 *************** Start running Tree ***************\n",
      "Model saved as  ./output/ExtraTreesRegressorl_2024-11-18 16:18:44.338740.pkl\n",
      "CPU times: user 1min 34s, sys: 397 ms, total: 1min 34s\n",
      "Wall time: 1min 35s\n"
     ]
    }
   ],
   "source": [
    "%%time\n",
    "# Wall time: 11min 5s\n",
    "from sklearn.ensemble import ExtraTreesRegressor\n",
    "\n",
    "print(datetime.datetime.now(),'*************** Start running Tree ***************')\n",
    "\n",
    "regressor = ExtraTreesRegressor(n_estimators=100, max_depth=10, random_state=42)  #specifying max_depth=10 reduced r-square significantly from 0.7x to 0.3x\n",
    "regressor.fit(X_train, y_train)\n",
    "\n",
    "output_path = './output/ExtraTreesRegressorl_' + str(datetime.datetime.now()) + '.pkl'\n",
    "\n",
    "import pickle\n",
    "\n",
    "with open(output_path, 'wb') as file:\n",
    "    pickle.dump(regressor, file)\n",
    "print(\"Model saved as \",output_path) #Wall time: 1min"
   ]
  },
  {
   "cell_type": "code",
   "execution_count": 14,
   "metadata": {},
   "outputs": [
    {
     "data": {
      "text/plain": [
       "{'bootstrap': False,\n",
       " 'ccp_alpha': 0.0,\n",
       " 'criterion': 'squared_error',\n",
       " 'max_depth': 10,\n",
       " 'max_features': 1.0,\n",
       " 'max_leaf_nodes': None,\n",
       " 'max_samples': None,\n",
       " 'min_impurity_decrease': 0.0,\n",
       " 'min_samples_leaf': 1,\n",
       " 'min_samples_split': 2,\n",
       " 'min_weight_fraction_leaf': 0.0,\n",
       " 'n_estimators': 100,\n",
       " 'n_jobs': None,\n",
       " 'oob_score': False,\n",
       " 'random_state': 42,\n",
       " 'verbose': 0,\n",
       " 'warm_start': False}"
      ]
     },
     "execution_count": 14,
     "metadata": {},
     "output_type": "execute_result"
    }
   ],
   "source": [
    "regressor.get_params()"
   ]
  },
  {
   "cell_type": "markdown",
   "metadata": {},
   "source": [
    "# Model evaluation"
   ]
  },
  {
   "cell_type": "code",
   "execution_count": 10,
   "metadata": {},
   "outputs": [
    {
     "name": "stdout",
     "output_type": "stream",
     "text": [
      "Model loaded successfully!\n"
     ]
    }
   ],
   "source": [
    "%%time \n",
    "# Load the model back\n",
    "import pickle\n",
    "\n",
    "output_path = './output/ExtraTreesRegressorl_2024-11-18 15:16:57.855590.pkl'\n",
    "\n",
    "with open(output_path, 'rb') as file:\n",
    "    regressor = pickle.load(file)\n",
    "print(\"Model loaded successfully!\")"
   ]
  },
  {
   "cell_type": "code",
   "execution_count": 15,
   "metadata": {},
   "outputs": [
    {
     "name": "stdout",
     "output_type": "stream",
     "text": [
      "2024-11-18 16:18:46.043477 Best Model RMSE: 16.420\n",
      "2024-11-18 16:18:46.046006 Best Model R-squared: 0.343\n",
      "CPU times: user 1.57 s, sys: 0 ns, total: 1.57 s\n",
      "Wall time: 1.56 s\n"
     ]
    }
   ],
   "source": [
    "%%time\n",
    "\n",
    "import numpy as np\n",
    "from sklearn.metrics import mean_squared_log_error\n",
    "from sklearn.metrics import mean_squared_error, r2_score\n",
    "\n",
    "y_pred = regressor.predict(X_test)\n",
    "\n",
    "mse = mean_squared_error(y_test, y_pred)\n",
    "rmse = np.sqrt(mse)\n",
    "print(datetime.datetime.now(),'Best Model RMSE: %.3f' % rmse)\n",
    "\n",
    "r2 = r2_score(y_test, y_pred)\n",
    "print(datetime.datetime.now(),'Best Model R-squared: %.3f' % r2)"
   ]
  },
  {
   "cell_type": "markdown",
   "metadata": {},
   "source": [
    "# SHAP"
   ]
  },
  {
   "cell_type": "code",
   "execution_count": null,
   "metadata": {},
   "outputs": [
    {
     "name": "stdout",
     "output_type": "stream",
     "text": [
      "2024-11-18 15:59:04.272589 *************** Start running SHAP ***************\n"
     ]
    }
   ],
   "source": [
    "%%time\n",
    "#  ~1min\n",
    "import shap\n",
    "\n",
    "print(datetime.datetime.now(),'*************** Start running SHAP ***************')\n",
    "explainer = shap.TreeExplainer(regressor, approximate=True)"
   ]
  },
  {
   "cell_type": "code",
   "execution_count": null,
   "metadata": {},
   "outputs": [],
   "source": [
    "%%time\n",
    "\n",
    "X_subset = X_test[:100] \n",
    "shap_values = explainer(X_subset)"
   ]
  },
  {
   "cell_type": "code",
   "execution_count": null,
   "metadata": {},
   "outputs": [],
   "source": [
    "%%time\n",
    "print(datetime.datetime.now(),'*************** Start running SHAP importance ***************')\n",
    "plt.rcParams.update({'font.size': 16})\n",
    "fig, ax = plt.subplots(1,1)  #,figsize=(6,9)\n",
    "shap_importance = shap_values.abs.mean(0).values\n",
    "sorted_idx = shap_importance.argsort()\n",
    "plt.barh(range(len(sorted_idx)), shap_importance[sorted_idx], align='center',color=\"#4c72b0\") #'turquoise'\n",
    "plt.yticks(range(len(sorted_idx)), np.array(X.columns)[sorted_idx])\n",
    "plt.xlabel('SHAP Importance')\n",
    "# plt.savefig('./output/feature_importance_shap.pdf', bbox_inches='tight')"
   ]
  },
  {
   "cell_type": "code",
   "execution_count": null,
   "metadata": {},
   "outputs": [],
   "source": []
  },
  {
   "cell_type": "code",
   "execution_count": null,
   "metadata": {},
   "outputs": [],
   "source": []
  },
  {
   "cell_type": "code",
   "execution_count": null,
   "metadata": {},
   "outputs": [],
   "source": []
  },
  {
   "cell_type": "code",
   "execution_count": null,
   "metadata": {},
   "outputs": [],
   "source": []
  },
  {
   "cell_type": "code",
   "execution_count": null,
   "metadata": {},
   "outputs": [],
   "source": []
  }
 ],
 "metadata": {
  "kernelspec": {
   "display_name": "python3.8",
   "language": "python",
   "name": "python3.8"
  },
  "language_info": {
   "codemirror_mode": {
    "name": "ipython",
    "version": 3
   },
   "file_extension": ".py",
   "mimetype": "text/x-python",
   "name": "python",
   "nbconvert_exporter": "python",
   "pygments_lexer": "ipython3",
   "version": "3.8.5"
  }
 },
 "nbformat": 4,
 "nbformat_minor": 2
}
