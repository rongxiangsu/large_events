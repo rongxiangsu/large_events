{
 "cells": [
  {
   "cell_type": "code",
   "execution_count": 3,
   "metadata": {},
   "outputs": [],
   "source": [
    "import pandas as pd\n",
    "pd.set_option('display.max_colwidth', 0)\n",
    "pd.set_option('display.max_rows', 200)\n",
    "pd.set_option('display.max_columns', 500)\n",
    "pd.set_option('display.width', 1000)\n",
    "import warnings\n",
    "warnings.filterwarnings('ignore')\n",
    "pd.options.display.float_format = '{:.5f}'.format\n",
    "import matplotlib.pyplot as plt\n",
    "import geopandas as gpd"
   ]
  },
  {
   "cell_type": "markdown",
   "metadata": {},
   "source": [
    "# Create venue (polygon) and shuttle (points) geometry"
   ]
  },
  {
   "cell_type": "code",
   "execution_count": 4,
   "metadata": {},
   "outputs": [
    {
     "name": "stdout",
     "output_type": "stream",
     "text": [
      "CPU times: user 7.15 ms, sys: 0 ns, total: 7.15 ms\n",
      "Wall time: 6.8 ms\n"
     ]
    },
    {
     "data": {
      "text/html": [
       "<div>\n",
       "<style scoped>\n",
       "    .dataframe tbody tr th:only-of-type {\n",
       "        vertical-align: middle;\n",
       "    }\n",
       "\n",
       "    .dataframe tbody tr th {\n",
       "        vertical-align: top;\n",
       "    }\n",
       "\n",
       "    .dataframe thead th {\n",
       "        text-align: right;\n",
       "    }\n",
       "</style>\n",
       "<table border=\"1\" class=\"dataframe\">\n",
       "  <thead>\n",
       "    <tr style=\"text-align: right;\">\n",
       "      <th></th>\n",
       "      <th>geometry</th>\n",
       "      <th>name</th>\n",
       "    </tr>\n",
       "  </thead>\n",
       "  <tbody>\n",
       "    <tr>\n",
       "      <th>0</th>\n",
       "      <td>POLYGON ((-97.64739 30.13196, -97.63569 30.14634, -97.61965 30.14039, -97.63146 30.12263, -97.64739 30.13196))</td>\n",
       "      <td>the Circuit of the Americas</td>\n",
       "    </tr>\n",
       "  </tbody>\n",
       "</table>\n",
       "</div>"
      ],
      "text/plain": [
       "                                                                                                         geometry                         name\n",
       "0  POLYGON ((-97.64739 30.13196, -97.63569 30.14634, -97.61965 30.14039, -97.63146 30.12263, -97.64739 30.13196))  the Circuit of the Americas"
      ]
     },
     "execution_count": 4,
     "metadata": {},
     "output_type": "execute_result"
    }
   ],
   "source": [
    "%%time\n",
    "\n",
    "# Create a polygon for event venue\n",
    "from shapely.geometry import Polygon\n",
    "\n",
    "lat_point_list = [30.131962, 30.146337, 30.140386, 30.122629]\n",
    "lon_point_list = [-97.647388, -97.635686, -97.619652, -97.631465]\n",
    "polygon_geom = Polygon(zip(lon_point_list, lat_point_list))\n",
    "gdf_venue = gpd.GeoDataFrame(index=[0], crs='epsg:4326', geometry=[polygon_geom])       \n",
    "gdf_venue['name']  = 'the Circuit of the Americas'\n",
    "# gdf_venue = gdf_venue.to_crs(\"EPSG:3857\") \n",
    "gdf_venue"
   ]
  },
  {
   "cell_type": "code",
   "execution_count": 5,
   "metadata": {},
   "outputs": [
    {
     "data": {
      "text/html": [
       "<div>\n",
       "<style scoped>\n",
       "    .dataframe tbody tr th:only-of-type {\n",
       "        vertical-align: middle;\n",
       "    }\n",
       "\n",
       "    .dataframe tbody tr th {\n",
       "        vertical-align: top;\n",
       "    }\n",
       "\n",
       "    .dataframe thead th {\n",
       "        text-align: right;\n",
       "    }\n",
       "</style>\n",
       "<table border=\"1\" class=\"dataframe\">\n",
       "  <thead>\n",
       "    <tr style=\"text-align: right;\">\n",
       "      <th></th>\n",
       "      <th>Shuttle_Location</th>\n",
       "      <th>geometry</th>\n",
       "    </tr>\n",
       "  </thead>\n",
       "  <tbody>\n",
       "    <tr>\n",
       "      <th>0</th>\n",
       "      <td>Shuttle_Waterloo_Park</td>\n",
       "      <td>POINT (-97.73628 30.27373)</td>\n",
       "    </tr>\n",
       "    <tr>\n",
       "      <th>1</th>\n",
       "      <td>Shuttle_Barton_Creek_Square</td>\n",
       "      <td>POINT (-97.80505 30.25751)</td>\n",
       "    </tr>\n",
       "    <tr>\n",
       "      <th>2</th>\n",
       "      <td>Shuttle_Expo_Center</td>\n",
       "      <td>POINT (-97.62254 30.29706)</td>\n",
       "    </tr>\n",
       "  </tbody>\n",
       "</table>\n",
       "</div>"
      ],
      "text/plain": [
       "              Shuttle_Location                    geometry\n",
       "0  Shuttle_Waterloo_Park        POINT (-97.73628 30.27373)\n",
       "1  Shuttle_Barton_Creek_Square  POINT (-97.80505 30.25751)\n",
       "2  Shuttle_Expo_Center          POINT (-97.62254 30.29706)"
      ]
     },
     "execution_count": 5,
     "metadata": {},
     "output_type": "execute_result"
    }
   ],
   "source": [
    "import shapely.geometry as geom\n",
    "\n",
    "# Create Shapely point geometries\n",
    "point_waterloo_park = geom.Point(-97.736285, 30.273726) # (longitude, latitude)\n",
    "point_barton_creek_square = geom.Point(-97.805046, 30.257509)\n",
    "point_expo_center = geom.Point(-97.622544, 30.297062)\n",
    "# point_ridehailing = geom.Point(-97.614135, 30.178718)\n",
    "\n",
    "point_shuttle_list = [point_waterloo_park,point_barton_creek_square,point_expo_center] #,point_ridehailing\n",
    "gdf_shuttle = gpd.GeoDataFrame({'Shuttle_Location': ['Shuttle_Waterloo_Park', 'Shuttle_Barton_Creek_Square', 'Shuttle_Expo_Center'], #, 'Uber_DelValle_HighSchool'\n",
    "                        'geometry': point_shuttle_list},\n",
    "                        crs=\"EPSG:4326\")\n",
    "# gdf_shuttle = gdf_shuttle.to_crs(\"EPSG:3857\") \n",
    "gdf_shuttle"
   ]
  },
  {
   "cell_type": "markdown",
   "metadata": {},
   "source": [
    "# Load INRIX Road network data"
   ]
  },
  {
   "cell_type": "code",
   "execution_count": 6,
   "metadata": {},
   "outputs": [
    {
     "name": "stdout",
     "output_type": "stream",
     "text": [
      "total number of road segments: 4460\n"
     ]
    },
    {
     "data": {
      "text/html": [
       "<div>\n",
       "<style scoped>\n",
       "    .dataframe tbody tr th:only-of-type {\n",
       "        vertical-align: middle;\n",
       "    }\n",
       "\n",
       "    .dataframe tbody tr th {\n",
       "        vertical-align: top;\n",
       "    }\n",
       "\n",
       "    .dataframe thead th {\n",
       "        text-align: right;\n",
       "    }\n",
       "</style>\n",
       "<table border=\"1\" class=\"dataframe\">\n",
       "  <thead>\n",
       "    <tr style=\"text-align: right;\">\n",
       "      <th></th>\n",
       "      <th>tmc_code</th>\n",
       "      <th>intersection</th>\n",
       "      <th>start_latitude</th>\n",
       "      <th>start_longitude</th>\n",
       "      <th>end_latitude</th>\n",
       "      <th>end_longitude</th>\n",
       "      <th>miles</th>\n",
       "    </tr>\n",
       "  </thead>\n",
       "  <tbody>\n",
       "    <tr>\n",
       "      <th>0</th>\n",
       "      <td>112P13033</td>\n",
       "      <td>W MARTIN LUTHER KING JR BLVD</td>\n",
       "      <td>30.28172</td>\n",
       "      <td>-97.74193</td>\n",
       "      <td>30.28232</td>\n",
       "      <td>-97.74207</td>\n",
       "      <td>0.04249</td>\n",
       "    </tr>\n",
       "    <tr>\n",
       "      <th>1</th>\n",
       "      <td>112+08908</td>\n",
       "      <td>FM-20</td>\n",
       "      <td>30.11066</td>\n",
       "      <td>-97.41049</td>\n",
       "      <td>30.11082</td>\n",
       "      <td>-97.37323</td>\n",
       "      <td>2.22783</td>\n",
       "    </tr>\n",
       "    <tr>\n",
       "      <th>2</th>\n",
       "      <td>112+16538</td>\n",
       "      <td>GATTIS SCHOOL RD</td>\n",
       "      <td>30.49057</td>\n",
       "      <td>-97.67514</td>\n",
       "      <td>30.49351</td>\n",
       "      <td>-97.67573</td>\n",
       "      <td>0.20831</td>\n",
       "    </tr>\n",
       "  </tbody>\n",
       "</table>\n",
       "</div>"
      ],
      "text/plain": [
       "    tmc_code                  intersection  start_latitude  start_longitude  end_latitude  end_longitude   miles\n",
       "0  112P13033  W MARTIN LUTHER KING JR BLVD 30.28172        -97.74193        30.28232      -97.74207      0.04249\n",
       "1  112+08908  FM-20                        30.11066        -97.41049        30.11082      -97.37323      2.22783\n",
       "2  112+16538  GATTIS SCHOOL RD             30.49057        -97.67514        30.49351      -97.67573      0.20831"
      ]
     },
     "execution_count": 6,
     "metadata": {},
     "output_type": "execute_result"
    }
   ],
   "source": [
    "df_road = pd.read_csv(\"data/TMC_Identification.csv\", sep=',', header=0)\n",
    "df_road = df_road[['tmc_code','intersection','start_latitude','start_longitude','end_latitude','end_longitude','miles']]\n",
    "print('total number of road segments:',df_road.shape[0])\n",
    "df_road.head(3)"
   ]
  },
  {
   "cell_type": "code",
   "execution_count": 7,
   "metadata": {},
   "outputs": [
    {
     "name": "stdout",
     "output_type": "stream",
     "text": [
      "CPU times: user 126 ms, sys: 4.73 ms, total: 131 ms\n",
      "Wall time: 127 ms\n"
     ]
    }
   ],
   "source": [
    "%%time\n",
    "from shapely.geometry import LineString\n",
    "from geopandas import GeoDataFrame\n",
    "\n",
    "df_road['geometry'] = df_road.apply(\n",
    "    lambda row: LineString([(row['start_longitude'], row['start_latitude']),\n",
    "                             (row['end_longitude'], row['end_latitude'])]),\n",
    "    axis=1\n",
    ")\n",
    "\n",
    "# Create a GeoDataFrame for road network\n",
    "gdf_road = GeoDataFrame(df_road, geometry='geometry',crs=\"EPSG:4326\")"
   ]
  },
  {
   "cell_type": "code",
   "execution_count": 8,
   "metadata": {},
   "outputs": [
    {
     "data": {
      "text/html": [
       "<div>\n",
       "<style scoped>\n",
       "    .dataframe tbody tr th:only-of-type {\n",
       "        vertical-align: middle;\n",
       "    }\n",
       "\n",
       "    .dataframe tbody tr th {\n",
       "        vertical-align: top;\n",
       "    }\n",
       "\n",
       "    .dataframe thead th {\n",
       "        text-align: right;\n",
       "    }\n",
       "</style>\n",
       "<table border=\"1\" class=\"dataframe\">\n",
       "  <thead>\n",
       "    <tr style=\"text-align: right;\">\n",
       "      <th></th>\n",
       "      <th>tmc_code</th>\n",
       "      <th>intersection</th>\n",
       "      <th>start_latitude</th>\n",
       "      <th>start_longitude</th>\n",
       "      <th>end_latitude</th>\n",
       "      <th>end_longitude</th>\n",
       "      <th>miles</th>\n",
       "      <th>geometry</th>\n",
       "    </tr>\n",
       "  </thead>\n",
       "  <tbody>\n",
       "    <tr>\n",
       "      <th>0</th>\n",
       "      <td>112P13033</td>\n",
       "      <td>W MARTIN LUTHER KING JR BLVD</td>\n",
       "      <td>30.28172</td>\n",
       "      <td>-97.74193</td>\n",
       "      <td>30.28232</td>\n",
       "      <td>-97.74207</td>\n",
       "      <td>0.04249</td>\n",
       "      <td>LINESTRING (-97.74193 30.28172, -97.74207 30.28232)</td>\n",
       "    </tr>\n",
       "    <tr>\n",
       "      <th>1</th>\n",
       "      <td>112+08908</td>\n",
       "      <td>FM-20</td>\n",
       "      <td>30.11066</td>\n",
       "      <td>-97.41049</td>\n",
       "      <td>30.11082</td>\n",
       "      <td>-97.37323</td>\n",
       "      <td>2.22783</td>\n",
       "      <td>LINESTRING (-97.41049 30.11066, -97.37323 30.11082)</td>\n",
       "    </tr>\n",
       "  </tbody>\n",
       "</table>\n",
       "</div>"
      ],
      "text/plain": [
       "    tmc_code                  intersection  start_latitude  start_longitude  end_latitude  end_longitude   miles                                             geometry\n",
       "0  112P13033  W MARTIN LUTHER KING JR BLVD 30.28172        -97.74193        30.28232      -97.74207      0.04249  LINESTRING (-97.74193 30.28172, -97.74207 30.28232)\n",
       "1  112+08908  FM-20                        30.11066        -97.41049        30.11082      -97.37323      2.22783  LINESTRING (-97.41049 30.11066, -97.37323 30.11082)"
      ]
     },
     "execution_count": 8,
     "metadata": {},
     "output_type": "execute_result"
    }
   ],
   "source": [
    "gdf_road.head(2)"
   ]
  },
  {
   "cell_type": "code",
   "execution_count": 9,
   "metadata": {},
   "outputs": [],
   "source": [
    "# gdf_road.explore()"
   ]
  },
  {
   "cell_type": "markdown",
   "metadata": {},
   "source": [
    "### Export egde dataframe (only need run onece)"
   ]
  },
  {
   "cell_type": "code",
   "execution_count": 15,
   "metadata": {},
   "outputs": [
    {
     "name": "stdout",
     "output_type": "stream",
     "text": [
      "Edge List with Buffer:\n",
      "CPU times: user 358 ms, sys: 1.02 ms, total: 359 ms\n",
      "Wall time: 358 ms\n"
     ]
    },
    {
     "data": {
      "text/html": [
       "<div>\n",
       "<style scoped>\n",
       "    .dataframe tbody tr th:only-of-type {\n",
       "        vertical-align: middle;\n",
       "    }\n",
       "\n",
       "    .dataframe tbody tr th {\n",
       "        vertical-align: top;\n",
       "    }\n",
       "\n",
       "    .dataframe thead th {\n",
       "        text-align: right;\n",
       "    }\n",
       "</style>\n",
       "<table border=\"1\" class=\"dataframe\">\n",
       "  <thead>\n",
       "    <tr style=\"text-align: right;\">\n",
       "      <th></th>\n",
       "      <th>source</th>\n",
       "      <th>target</th>\n",
       "    </tr>\n",
       "  </thead>\n",
       "  <tbody>\n",
       "    <tr>\n",
       "      <th>0</th>\n",
       "      <td>112P13033</td>\n",
       "      <td>112P13162</td>\n",
       "    </tr>\n",
       "    <tr>\n",
       "      <th>2059</th>\n",
       "      <td>112-13162</td>\n",
       "      <td>112P13162</td>\n",
       "    </tr>\n",
       "    <tr>\n",
       "      <th>2061</th>\n",
       "      <td>112-13161</td>\n",
       "      <td>112P13162</td>\n",
       "    </tr>\n",
       "    <tr>\n",
       "      <th>2532</th>\n",
       "      <td>112N13033</td>\n",
       "      <td>112P13162</td>\n",
       "    </tr>\n",
       "    <tr>\n",
       "      <th>2980</th>\n",
       "      <td>112N13162</td>\n",
       "      <td>112P13162</td>\n",
       "    </tr>\n",
       "    <tr>\n",
       "      <th>...</th>\n",
       "      <td>...</td>\n",
       "      <td>...</td>\n",
       "    </tr>\n",
       "    <tr>\n",
       "      <th>3876</th>\n",
       "      <td>112P17123</td>\n",
       "      <td>112P17125</td>\n",
       "    </tr>\n",
       "    <tr>\n",
       "      <th>4186</th>\n",
       "      <td>112-19750</td>\n",
       "      <td>112-19751</td>\n",
       "    </tr>\n",
       "    <tr>\n",
       "      <th>4189</th>\n",
       "      <td>112-19752</td>\n",
       "      <td>112-19751</td>\n",
       "    </tr>\n",
       "    <tr>\n",
       "      <th>4190</th>\n",
       "      <td>112-19751</td>\n",
       "      <td>112-19752</td>\n",
       "    </tr>\n",
       "    <tr>\n",
       "      <th>4192</th>\n",
       "      <td>112-19753</td>\n",
       "      <td>112-19752</td>\n",
       "    </tr>\n",
       "  </tbody>\n",
       "</table>\n",
       "<p>25790 rows × 2 columns</p>\n",
       "</div>"
      ],
      "text/plain": [
       "         source     target\n",
       "0     112P13033  112P13162\n",
       "2059  112-13162  112P13162\n",
       "2061  112-13161  112P13162\n",
       "2532  112N13033  112P13162\n",
       "2980  112N13162  112P13162\n",
       "...         ...        ...\n",
       "3876  112P17123  112P17125\n",
       "4186  112-19750  112-19751\n",
       "4189  112-19752  112-19751\n",
       "4190  112-19751  112-19752\n",
       "4192  112-19753  112-19752\n",
       "\n",
       "[25790 rows x 2 columns]"
      ]
     },
     "execution_count": 15,
     "metadata": {},
     "output_type": "execute_result"
    }
   ],
   "source": [
    "%%time\n",
    "\n",
    "gdf_roads = gdf_road.to_crs(epsg=3857)\n",
    "\n",
    "# Define a buffer distance in meters (e.g., 10 meters)\n",
    "buffer_distance = 10\n",
    "\n",
    "# Create a buffered version of the geometries\n",
    "gdf_roads['buffered_geometry'] = gdf_roads.geometry.buffer(buffer_distance)\n",
    "\n",
    "# Perform a spatial join to find intersections of buffered geometries\n",
    "buffered_connectivity = gpd.sjoin(\n",
    "    gdf_roads.set_geometry('buffered_geometry'),\n",
    "    gdf_roads,\n",
    "    how='inner',\n",
    "    predicate='intersects'\n",
    ")\n",
    "\n",
    "# Remove self-loops (a segment intersecting itself)\n",
    "buffered_connectivity = buffered_connectivity[\n",
    "    buffered_connectivity.tmc_code_left != buffered_connectivity.tmc_code_right\n",
    "]\n",
    "\n",
    "# Extract edge list\n",
    "edge_list = buffered_connectivity[['tmc_code_left', 'tmc_code_right']].rename(\n",
    "    columns={'tmc_code_left': 'source', 'tmc_code_right': 'target'}\n",
    ")\n",
    "\n",
    "print(\"Edge List with Buffer:\")\n",
    "edge_list"
   ]
  },
  {
   "cell_type": "code",
   "execution_count": 17,
   "metadata": {},
   "outputs": [],
   "source": [
    "edge_list.to_csv('./output/INRIX_network_edge_connectivity.csv',index=False)"
   ]
  },
  {
   "cell_type": "code",
   "execution_count": null,
   "metadata": {},
   "outputs": [],
   "source": []
  },
  {
   "cell_type": "code",
   "execution_count": null,
   "metadata": {},
   "outputs": [],
   "source": []
  },
  {
   "cell_type": "markdown",
   "metadata": {},
   "source": [
    "# Load OSM driving road network of Austin by bouding box\n",
    "## 1. Load OSM road network attributes using OSMnx"
   ]
  },
  {
   "cell_type": "code",
   "execution_count": 125,
   "metadata": {},
   "outputs": [
    {
     "name": "stdout",
     "output_type": "stream",
     "text": [
      "CPU times: user 56.8 s, sys: 0 ns, total: 56.8 s\n",
      "Wall time: 56.7 s\n"
     ]
    }
   ],
   "source": [
    "# %%time\n",
    "# import osmnx as ox\n",
    "\n",
    "# # pandana method does not return road attributes so use osmnx to retrieve them\n",
    "# G_osm = ox.graph_from_bbox(bbox=(30.584984, 30.039047, -97.389445, -97.996048), network_type='drive') \n",
    "\n",
    "# # Calculate and add compass bearing attributes to all graph edges.\n",
    "# G_osm = ox.bearing.add_edge_bearings(G_osm)\n",
    "\n",
    "# nodes_osm, edges_osm = ox.graph_to_gdfs(G_osm)"
   ]
  },
  {
   "cell_type": "code",
   "execution_count": 133,
   "metadata": {},
   "outputs": [
    {
     "data": {
      "text/html": [
       "<div>\n",
       "<style scoped>\n",
       "    .dataframe tbody tr th:only-of-type {\n",
       "        vertical-align: middle;\n",
       "    }\n",
       "\n",
       "    .dataframe tbody tr th {\n",
       "        vertical-align: top;\n",
       "    }\n",
       "\n",
       "    .dataframe thead th {\n",
       "        text-align: right;\n",
       "    }\n",
       "</style>\n",
       "<table border=\"1\" class=\"dataframe\">\n",
       "  <thead>\n",
       "    <tr style=\"text-align: right;\">\n",
       "      <th></th>\n",
       "      <th>y</th>\n",
       "      <th>x</th>\n",
       "      <th>street_count</th>\n",
       "      <th>highway</th>\n",
       "      <th>ref</th>\n",
       "      <th>geometry</th>\n",
       "    </tr>\n",
       "    <tr>\n",
       "      <th>osmid</th>\n",
       "      <th></th>\n",
       "      <th></th>\n",
       "      <th></th>\n",
       "      <th></th>\n",
       "      <th></th>\n",
       "      <th></th>\n",
       "    </tr>\n",
       "  </thead>\n",
       "  <tbody>\n",
       "    <tr>\n",
       "      <th>151371439</th>\n",
       "      <td>30.20374</td>\n",
       "      <td>-97.98883</td>\n",
       "      <td>3</td>\n",
       "      <td>NaN</td>\n",
       "      <td>NaN</td>\n",
       "      <td>POINT (-97.98883 30.20374)</td>\n",
       "    </tr>\n",
       "    <tr>\n",
       "      <th>151371447</th>\n",
       "      <td>30.20425</td>\n",
       "      <td>-97.98779</td>\n",
       "      <td>1</td>\n",
       "      <td>turning_circle</td>\n",
       "      <td>NaN</td>\n",
       "      <td>POINT (-97.98779 30.20425)</td>\n",
       "    </tr>\n",
       "  </tbody>\n",
       "</table>\n",
       "</div>"
      ],
      "text/plain": [
       "                 y         x  street_count         highway  ref                    geometry\n",
       "osmid                                                                                      \n",
       "151371439 30.20374 -97.98883  3             NaN             NaN  POINT (-97.98883 30.20374)\n",
       "151371447 30.20425 -97.98779  1             turning_circle  NaN  POINT (-97.98779 30.20425)"
      ]
     },
     "execution_count": 133,
     "metadata": {},
     "output_type": "execute_result"
    }
   ],
   "source": [
    "# nodes_osm.head(2) # node data seems not helpful"
   ]
  },
  {
   "cell_type": "code",
   "execution_count": 135,
   "metadata": {},
   "outputs": [
    {
     "data": {
      "text/html": [
       "<div>\n",
       "<style scoped>\n",
       "    .dataframe tbody tr th:only-of-type {\n",
       "        vertical-align: middle;\n",
       "    }\n",
       "\n",
       "    .dataframe tbody tr th {\n",
       "        vertical-align: top;\n",
       "    }\n",
       "\n",
       "    .dataframe thead th {\n",
       "        text-align: right;\n",
       "    }\n",
       "</style>\n",
       "<table border=\"1\" class=\"dataframe\">\n",
       "  <thead>\n",
       "    <tr style=\"text-align: right;\">\n",
       "      <th></th>\n",
       "      <th></th>\n",
       "      <th></th>\n",
       "      <th>osmid</th>\n",
       "      <th>name</th>\n",
       "      <th>highway</th>\n",
       "      <th>oneway</th>\n",
       "      <th>reversed</th>\n",
       "      <th>length</th>\n",
       "      <th>bearing</th>\n",
       "      <th>geometry</th>\n",
       "      <th>ref</th>\n",
       "      <th>bridge</th>\n",
       "      <th>lanes</th>\n",
       "      <th>maxspeed</th>\n",
       "      <th>access</th>\n",
       "      <th>tunnel</th>\n",
       "      <th>width</th>\n",
       "      <th>junction</th>\n",
       "    </tr>\n",
       "    <tr>\n",
       "      <th>u</th>\n",
       "      <th>v</th>\n",
       "      <th>key</th>\n",
       "      <th></th>\n",
       "      <th></th>\n",
       "      <th></th>\n",
       "      <th></th>\n",
       "      <th></th>\n",
       "      <th></th>\n",
       "      <th></th>\n",
       "      <th></th>\n",
       "      <th></th>\n",
       "      <th></th>\n",
       "      <th></th>\n",
       "      <th></th>\n",
       "      <th></th>\n",
       "      <th></th>\n",
       "      <th></th>\n",
       "      <th></th>\n",
       "    </tr>\n",
       "  </thead>\n",
       "  <tbody>\n",
       "    <tr>\n",
       "      <th rowspan=\"2\" valign=\"top\">151371439</th>\n",
       "      <th>151462706</th>\n",
       "      <th>0</th>\n",
       "      <td>15287110</td>\n",
       "      <td>Heritage Drive</td>\n",
       "      <td>residential</td>\n",
       "      <td>False</td>\n",
       "      <td>False</td>\n",
       "      <td>88.55000</td>\n",
       "      <td>341.40000</td>\n",
       "      <td>LINESTRING (-97.98883 30.20374, -97.98913 30.20449)</td>\n",
       "      <td>NaN</td>\n",
       "      <td>NaN</td>\n",
       "      <td>NaN</td>\n",
       "      <td>NaN</td>\n",
       "      <td>NaN</td>\n",
       "      <td>NaN</td>\n",
       "      <td>NaN</td>\n",
       "      <td>NaN</td>\n",
       "    </tr>\n",
       "    <tr>\n",
       "      <th>151371447</th>\n",
       "      <th>0</th>\n",
       "      <td>15277135</td>\n",
       "      <td>Hideaway Cove</td>\n",
       "      <td>residential</td>\n",
       "      <td>False</td>\n",
       "      <td>False</td>\n",
       "      <td>116.61800</td>\n",
       "      <td>60.40000</td>\n",
       "      <td>LINESTRING (-97.98883 30.20374, -97.98848 30.20385, -97.98836 30.20390, -97.98815 30.20401, -97.98793 30.20416, -97.98779 30.20425)</td>\n",
       "      <td>NaN</td>\n",
       "      <td>NaN</td>\n",
       "      <td>NaN</td>\n",
       "      <td>NaN</td>\n",
       "      <td>NaN</td>\n",
       "      <td>NaN</td>\n",
       "      <td>NaN</td>\n",
       "      <td>NaN</td>\n",
       "    </tr>\n",
       "  </tbody>\n",
       "</table>\n",
       "</div>"
      ],
      "text/plain": [
       "                            osmid            name      highway  oneway reversed    length   bearing                                                                                                                             geometry  ref bridge lanes maxspeed access tunnel width junction\n",
       "u         v         key                                                                                                                                                                                                                                                                         \n",
       "151371439 151462706 0    15287110  Heritage Drive  residential  False   False   88.55000  341.40000  LINESTRING (-97.98883 30.20374, -97.98913 30.20449)                                                                                  NaN  NaN    NaN   NaN      NaN    NaN    NaN   NaN    \n",
       "          151371447 0    15277135  Hideaway Cove   residential  False   False   116.61800 60.40000   LINESTRING (-97.98883 30.20374, -97.98848 30.20385, -97.98836 30.20390, -97.98815 30.20401, -97.98793 30.20416, -97.98779 30.20425)  NaN  NaN    NaN   NaN      NaN    NaN    NaN   NaN    "
      ]
     },
     "execution_count": 135,
     "metadata": {},
     "output_type": "execute_result"
    }
   ],
   "source": [
    "# edges_osm.head(2)"
   ]
  },
  {
   "cell_type": "code",
   "execution_count": 53,
   "metadata": {},
   "outputs": [],
   "source": [
    "# nodes_osm.to_csv('./output/osm_nodes.csv')\n",
    "# edges_osm.to_csv('./output/osm_edges.csv')"
   ]
  },
  {
   "cell_type": "code",
   "execution_count": 11,
   "metadata": {},
   "outputs": [],
   "source": [
    "edges_osm = pd.read_csv('./output/osm_edges.csv', index_col=[0,1])"
   ]
  },
  {
   "cell_type": "markdown",
   "metadata": {},
   "source": [
    "## 2. Load osm network using pandana because it is faster when computing network distance compared with OSMnx"
   ]
  },
  {
   "cell_type": "code",
   "execution_count": 40,
   "metadata": {},
   "outputs": [],
   "source": [
    "# %%time\n",
    "# ## Wall time: 1min\n",
    "from pandana.loaders import osm\n",
    "# network = osm.pdna_network_from_bbox(30.039047, -97.996048, 30.584984, -97.389445, network_type='drive') # pandana method does not return road attributes so use osmnx to retrieve them\n",
    "# network.nodes_df.to_csv('./output/nodes.csv')\n",
    "# network.edges_df.to_csv('./output/edges.csv')\n",
    "# network.edges_df.head()"
   ]
  },
  {
   "cell_type": "code",
   "execution_count": 60,
   "metadata": {},
   "outputs": [
    {
     "name": "stdout",
     "output_type": "stream",
     "text": [
      "64416\n",
      "CPU times: user 18.4 s, sys: 181 ms, total: 18.6 s\n",
      "Wall time: 2.64 s\n"
     ]
    }
   ],
   "source": [
    "%%time\n",
    "import pandana\n",
    "# load existing network data\n",
    "nodes = pd.read_csv('./output/nodes.csv', index_col=0)\n",
    "print(nodes.shape[0])\n",
    "edges = pd.read_csv('./output/edges.csv', index_col=[0,1])\n",
    "network = pandana.Network(nodes['x'], nodes['y'], \n",
    "                          edges['from'], edges['to'], edges[['distance']])"
   ]
  },
  {
   "cell_type": "markdown",
   "metadata": {},
   "source": [
    "# Feature engineering \n",
    "Dynamic features: event timing, attendance size, proximity to the event venue, proximity to shuttle services, hotel occupancy rates\n",
    "\n",
    "Static features: population density, hotel density"
   ]
  },
  {
   "cell_type": "markdown",
   "metadata": {},
   "source": [
    "## 1. Airbnb count (spatial buffers)\n",
    "Spatial join airbnb locations and road segments to get number of airbnb near roads"
   ]
  },
  {
   "cell_type": "code",
   "execution_count": 10,
   "metadata": {},
   "outputs": [
    {
     "name": "stdout",
     "output_type": "stream",
     "text": [
      "total number of airbnb: 15419\n"
     ]
    }
   ],
   "source": [
    "df_airbnb = pd.read_csv(\"data/airbnb_listings_202312.csv\", sep=',', header=0)\n",
    "print('total number of airbnb:',df_airbnb.shape[0])\n",
    "# df_airbnb.head(2)  \n",
    "\n",
    "#Converting Pandas DataFrame to GeoDataFrame\n",
    "from shapely.geometry import Point\n",
    "from geopandas import GeoDataFrame\n",
    "\n",
    "geometry = [Point(xy) for xy in zip(df_airbnb.longitude, df_airbnb.latitude)]\n",
    "gdf_airbnb = GeoDataFrame(df_airbnb, crs=\"EPSG:4326\", geometry=geometry)\n",
    "gdf_airbnb = gdf_airbnb.to_crs(\"EPSG:3857\") "
   ]
  },
  {
   "cell_type": "code",
   "execution_count": 31,
   "metadata": {},
   "outputs": [
    {
     "name": "stdout",
     "output_type": "stream",
     "text": [
      "4460\n",
      "CPU times: user 443 ms, sys: 0 ns, total: 443 ms\n",
      "Wall time: 442 ms\n"
     ]
    }
   ],
   "source": [
    "%%time\n",
    "# gdf_airbnb.head(20).explore()\n",
    "gdf_airbnb_need = gdf_airbnb[['id','geometry']]\n",
    "gdf_airbnb_need['airbnb_count'] = 1\n",
    "\n",
    "buffer_distance = 500  # Buffer distance in meters\n",
    "gdf_polyline_buffered = gdf_road.copy()\n",
    "gdf_polyline_buffered = gdf_polyline_buffered.to_crs(\"EPSG:3857\")  # because using spatial buffer, so need to use projected coordinate system\n",
    "\n",
    "# gdf_polyline_buffered = gdf_road.head(100).copy()\n",
    "gdf_polyline_buffered[\"geometry\"] = gdf_polyline_buffered.geometry.buffer(buffer_distance)\n",
    "\n",
    "# gdf_road_w_airbnb = gpd.sjoin(gdf_airbnb, gdf_road, predicate=\"intersects\")\n",
    "gdf_road_w_airbnb = gpd.sjoin(gdf_polyline_buffered, gdf_airbnb_need, predicate=\"intersects\", how=\"left\")\n",
    "print(gdf_road_w_airbnb.tmc_code.unique().shape[0])\n",
    "point_counts = gdf_road_w_airbnb.groupby(\"tmc_code\").airbnb_count.count().reset_index()\n",
    "gdf_road_merged = gdf_road.merge(point_counts, how='left')\n",
    "gdf_road_merged = gdf_road_merged.fillna(0)"
   ]
  },
  {
   "cell_type": "code",
   "execution_count": 104,
   "metadata": {},
   "outputs": [],
   "source": [
    "# gdf_road_merged.explore()"
   ]
  },
  {
   "cell_type": "markdown",
   "metadata": {},
   "source": [
    "## 2. Network distance to venue and shuttles"
   ]
  },
  {
   "cell_type": "code",
   "execution_count": 32,
   "metadata": {},
   "outputs": [],
   "source": [
    "gdf_road_merged['Shuttle_Waterloo_Park'] = gdf_shuttle[gdf_shuttle['Shuttle_Location']=='Shuttle_Waterloo_Park'].geometry.iloc[0]\n",
    "gdf_road_merged['Shuttle_Waterloo_Park'] = gpd.GeoSeries.from_wkt(gdf_road_merged['Shuttle_Waterloo_Park'].astype(str))\n",
    "\n",
    "gdf_road_merged['Shuttle_Barton_Creek_Square'] = gdf_shuttle[gdf_shuttle['Shuttle_Location']=='Shuttle_Barton_Creek_Square'].geometry.iloc[0]\n",
    "gdf_road_merged['Shuttle_Barton_Creek_Square'] = gpd.GeoSeries.from_wkt(gdf_road_merged['Shuttle_Barton_Creek_Square'].astype(str))\n",
    "\n",
    "gdf_road_merged['Shuttle_Expo_Center'] = gdf_shuttle[gdf_shuttle['Shuttle_Location']=='Shuttle_Expo_Center'].geometry.iloc[0]\n",
    "gdf_road_merged['Shuttle_Expo_Center'] = gpd.GeoSeries.from_wkt(gdf_road_merged['Shuttle_Expo_Center'].astype(str))\n",
    "\n",
    "venue_centroid = gdf_venue.iloc[0].geometry.centroid\n",
    "gdf_road_merged[\"venue_centroid\"] = gdf_road_merged.apply(lambda x: venue_centroid, axis=1)"
   ]
  },
  {
   "cell_type": "code",
   "execution_count": 33,
   "metadata": {},
   "outputs": [],
   "source": [
    "# first, identify the nearest node (of pandana network) to each lon lat coordinate of road segments\n",
    "road_start_nodes = network.get_node_ids(gdf_road_merged.start_longitude, gdf_road_merged.start_latitude).values\n",
    "road_end_nodes = network.get_node_ids(gdf_road_merged.end_longitude, gdf_road_merged.end_latitude).values"
   ]
  },
  {
   "cell_type": "code",
   "execution_count": 34,
   "metadata": {},
   "outputs": [],
   "source": [
    "# Nework distance: use the start and end location of each road segment to calculate the shortest path distance (km) and take the average\n",
    "# Distance Unit: km\n",
    "def compute_average_distance_to_poi(df, col):\n",
    "    shuttle_nodes = network.get_node_ids(df[col].x, df[col].y).values\n",
    "    distances_start = network.shortest_path_lengths(road_start_nodes, shuttle_nodes)\n",
    "    distances_end = network.shortest_path_lengths(road_end_nodes, shuttle_nodes)\n",
    "    df['distance_to_'+col+'_start'] = pd.Series(distances_start) / 1000 # covert to km\n",
    "    df['distance_to_'+col+'_end'] =  pd.Series(distances_end) / 1000\n",
    "    df['distance_to_'+col] = (df['distance_to_'+col+'_start'] + df['distance_to_'+col+'_end'])/2\n",
    "    df.drop(columns=['distance_to_'+col+'_start', 'distance_to_'+col+'_end'], inplace=True)\n",
    "    return df"
   ]
  },
  {
   "cell_type": "code",
   "execution_count": 35,
   "metadata": {},
   "outputs": [],
   "source": [
    "gdf_road_merged = compute_average_distance_to_poi(gdf_road_merged, 'venue_centroid')\n",
    "gdf_road_merged = compute_average_distance_to_poi(gdf_road_merged, 'Shuttle_Waterloo_Park')\n",
    "gdf_road_merged = compute_average_distance_to_poi(gdf_road_merged, 'Shuttle_Barton_Creek_Square')\n",
    "gdf_road_merged = compute_average_distance_to_poi(gdf_road_merged, 'Shuttle_Expo_Center')"
   ]
  },
  {
   "cell_type": "code",
   "execution_count": 41,
   "metadata": {},
   "outputs": [
    {
     "name": "stdout",
     "output_type": "stream",
     "text": [
      "4434\n"
     ]
    }
   ],
   "source": [
    "# exclude some outliers\n",
    "gdf_road_merged = gdf_road_merged[gdf_road_merged.distance_to_venue_centroid<100]\n",
    "\n",
    "# exclude some road segments very far from the city\n",
    "gdf_road_merged = gdf_road_merged[~gdf_road_merged['tmc_code'].isin(['112+53808','112-53807'])]\n",
    "\n",
    "print(gdf_road_merged.shape[0])"
   ]
  },
  {
   "cell_type": "code",
   "execution_count": 42,
   "metadata": {},
   "outputs": [],
   "source": [
    "# # these are outliers, for some reason, the distance computed is wrong. Exclude this portion of data.\n",
    "# vis_example = gdf_road_merged[gdf_road_merged.distance_to_venue_centroid>100]\n",
    "# print(vis_example.shape[0])\n",
    "# vis_example.explore()"
   ]
  },
  {
   "cell_type": "code",
   "execution_count": 9,
   "metadata": {},
   "outputs": [],
   "source": [
    "gdf_road_merged.explore()"
   ]
  },
  {
   "cell_type": "markdown",
   "metadata": {},
   "source": [
    "## 3. Matching with OSM road data to enrich network attribute"
   ]
  },
  {
   "cell_type": "code",
   "execution_count": 46,
   "metadata": {},
   "outputs": [],
   "source": [
    "import numpy as np \n",
    "\n",
    "# Function to calculate bearing between two points (start and end of a road segment)\n",
    "def calculate_bearing(start_lat, start_lon, end_lat, end_lon):\n",
    "    # Convert degrees to radians\n",
    "    start_lat = np.radians(start_lat)\n",
    "    start_lon = np.radians(start_lon)\n",
    "    end_lat = np.radians(end_lat)\n",
    "    end_lon = np.radians(end_lon)\n",
    "    \n",
    "    # Difference in longitudes\n",
    "    delta_lon = end_lon - start_lon\n",
    "    \n",
    "    # Bearing calculation\n",
    "    x = np.sin(delta_lon) * np.cos(end_lat)\n",
    "    y = np.cos(start_lat) * np.sin(end_lat) - np.sin(start_lat) * np.cos(end_lat) * np.cos(delta_lon)\n",
    "    bearing = np.arctan2(x, y)\n",
    "    \n",
    "    # Convert from radians to degrees and normalize to 0-360\n",
    "    bearing = np.degrees(bearing)\n",
    "    bearing = (bearing + 360) % 360\n",
    "    return bearing\n",
    "# The bearing value represents the direction from the starting point to the destination, measured clockwise from true north (0° is north, 90° is east, etc.)."
   ]
  },
  {
   "cell_type": "code",
   "execution_count": 47,
   "metadata": {},
   "outputs": [],
   "source": [
    "# Apply the function to calculate bearings for road segments\n",
    "gdf_road_merged['segment_bearing'] = gdf_road_merged.apply(\n",
    "    lambda row: calculate_bearing(row['start_latitude'], row['start_longitude'], row['end_latitude'], row['end_longitude']), axis=1\n",
    ")"
   ]
  },
  {
   "cell_type": "code",
   "execution_count": 12,
   "metadata": {},
   "outputs": [
    {
     "data": {
      "text/html": [
       "<div>\n",
       "<style scoped>\n",
       "    .dataframe tbody tr th:only-of-type {\n",
       "        vertical-align: middle;\n",
       "    }\n",
       "\n",
       "    .dataframe tbody tr th {\n",
       "        vertical-align: top;\n",
       "    }\n",
       "\n",
       "    .dataframe thead th {\n",
       "        text-align: right;\n",
       "    }\n",
       "</style>\n",
       "<table border=\"1\" class=\"dataframe\">\n",
       "  <thead>\n",
       "    <tr style=\"text-align: right;\">\n",
       "      <th></th>\n",
       "      <th>name</th>\n",
       "      <th>road_type</th>\n",
       "      <th>oneway</th>\n",
       "      <th>length</th>\n",
       "      <th>bearing</th>\n",
       "      <th>geometry</th>\n",
       "      <th>lanes</th>\n",
       "      <th>maxspeed</th>\n",
       "      <th>width</th>\n",
       "      <th>junction</th>\n",
       "      <th>osm_id</th>\n",
       "    </tr>\n",
       "  </thead>\n",
       "  <tbody>\n",
       "    <tr>\n",
       "      <th>0</th>\n",
       "      <td>Heritage Drive</td>\n",
       "      <td>residential</td>\n",
       "      <td>False</td>\n",
       "      <td>88.55000</td>\n",
       "      <td>341.40000</td>\n",
       "      <td>LINESTRING (-10908067.216 3529765.696, -10908099.955 3529862.906)</td>\n",
       "      <td>NaN</td>\n",
       "      <td>NaN</td>\n",
       "      <td>NaN</td>\n",
       "      <td>NaN</td>\n",
       "      <td>15287110151371439151462706</td>\n",
       "    </tr>\n",
       "    <tr>\n",
       "      <th>1</th>\n",
       "      <td>Hideaway Cove</td>\n",
       "      <td>residential</td>\n",
       "      <td>False</td>\n",
       "      <td>116.61800</td>\n",
       "      <td>60.40000</td>\n",
       "      <td>LINESTRING (-10908067.216 3529765.696, -10908027.363 3529780.251, -10908014.562 3529785.790, -10907990.850 3529800.731, -10907966.138 3529820.439, -10907950.887 3529831.903)</td>\n",
       "      <td>NaN</td>\n",
       "      <td>NaN</td>\n",
       "      <td>NaN</td>\n",
       "      <td>NaN</td>\n",
       "      <td>15277135151371439151371447</td>\n",
       "    </tr>\n",
       "  </tbody>\n",
       "</table>\n",
       "</div>"
      ],
      "text/plain": [
       "             name    road_type  oneway    length   bearing                                                                                                                                                                       geometry lanes maxspeed width junction                      osm_id\n",
       "0  Heritage Drive  residential  False  88.55000  341.40000  LINESTRING (-10908067.216 3529765.696, -10908099.955 3529862.906)                                                                                                              NaN   NaN      NaN   NaN      15287110151371439151462706\n",
       "1  Hideaway Cove   residential  False  116.61800 60.40000   LINESTRING (-10908067.216 3529765.696, -10908027.363 3529780.251, -10908014.562 3529785.790, -10907990.850 3529800.731, -10907966.138 3529820.439, -10907950.887 3529831.903)  NaN   NaN      NaN   NaN      15277135151371439151371447"
      ]
     },
     "execution_count": 12,
     "metadata": {},
     "output_type": "execute_result"
    }
   ],
   "source": [
    "# preprocessing OSM network data\n",
    "edges_osm_need = edges_osm.reset_index()\n",
    "edges_osm_need['geometry'] = gpd.GeoSeries.from_wkt(edges_osm_need['geometry'])\n",
    "edges_osm_need = gpd.GeoDataFrame(edges_osm_need,crs=\"EPSG:4326\", geometry='geometry')\n",
    "\n",
    "edges_osm_need['osm_id'] = edges_osm_need['osmid'].astype(str) + edges_osm_need['u'].astype(str) +  edges_osm_need['v'].astype(str) \n",
    "edges_osm_need.drop(['u','v','osmid','key', 'ref', 'reversed', 'bridge', 'access','tunnel'], axis=1, inplace=True)\n",
    "edges_osm_need = edges_osm_need.rename(columns={\"highway\": \"road_type\"})\n",
    "edges_osm_need = edges_osm_need.to_crs(\"EPSG:3857\")\n",
    "edges_osm_need.head(2)"
   ]
  },
  {
   "cell_type": "code",
   "execution_count": 70,
   "metadata": {},
   "outputs": [],
   "source": [
    "# edges_osm_need.explore()"
   ]
  },
  {
   "cell_type": "code",
   "execution_count": 307,
   "metadata": {},
   "outputs": [
    {
     "name": "stdout",
     "output_type": "stream",
     "text": [
      "Processing 0/4460\n",
      "Processing 100/4460\n",
      "Processing 200/4460\n",
      "Processing 300/4460\n",
      "Processing 400/4460\n",
      "Processing 500/4460\n",
      "Processing 600/4460\n",
      "Processing 700/4460\n",
      "Processing 800/4460\n",
      "Processing 900/4460\n",
      "Processing 1000/4460\n",
      "Processing 1100/4460\n",
      "Processing 1200/4460\n",
      "Processing 1300/4460\n",
      "Processing 1400/4460\n",
      "Processing 1500/4460\n",
      "Processing 1600/4460\n",
      "Processing 1700/4460\n",
      "Processing 1800/4460\n",
      "Processing 1900/4460\n",
      "Processing 2000/4460\n",
      "Processing 2100/4460\n",
      "Processing 2200/4460\n",
      "Processing 2300/4460\n",
      "Processing 2400/4460\n",
      "Processing 2500/4460\n",
      "Processing 2600/4460\n",
      "Processing 2700/4460\n",
      "Processing 2800/4460\n",
      "Processing 2900/4460\n",
      "Processing 3000/4460\n",
      "Processing 3100/4460\n",
      "Processing 3200/4460\n",
      "Processing 3300/4460\n",
      "Processing 3400/4460\n",
      "Processing 3500/4460\n",
      "Processing 3600/4460\n",
      "Processing 3700/4460\n",
      "Processing 3800/4460\n",
      "Processing 3900/4460\n",
      "Processing 4000/4460\n",
      "Processing 4100/4460\n",
      "Processing 4200/4460\n",
      "Processing 4300/4460\n",
      "Processing 4400/4460\n",
      "CPU times: user 6min 43s, sys: 1.17 s, total: 6min 44s\n",
      "Wall time: 6min 43s\n"
     ]
    }
   ],
   "source": [
    "%%time\n",
    "# Before spatial join, find the closest direction\n",
    "# First, from each inrix link, find the OSM links with similar angle: The abs(delta angle) smaller than 5 or greater than 355\n",
    "# Then, for each inrix link, always use the start point's closest OSM link as matching target\n",
    "\n",
    "gdf_road_merged_copy = gdf_road_merged.copy().to_crs(\"EPSG:3857\")\n",
    "gdf_road_merged_copy['osm_id'] = np.NAN\n",
    "\n",
    "for idx, road_row in gdf_road_merged_copy.iterrows():\n",
    "    if idx % 100 == 0:\n",
    "        print(f\"Processing {idx}/{len(gdf_road_merged_copy)}\")\n",
    "\n",
    "    # Filter edges with similar directions\n",
    "    segment_bearing = road_row['segment_bearing']\n",
    "    possible_matches = edges_osm_need[\n",
    "        (abs(edges_osm_need['bearing'] - segment_bearing) < 5) |\n",
    "        (abs(edges_osm_need['bearing'] - segment_bearing) > 360 - 5)\n",
    "    ]\n",
    "    \n",
    "    # Calculate distances (vectorized for the filtered matches)\n",
    "    possible_matches['edge_distance'] = possible_matches.geometry.apply(\n",
    "        lambda geom: road_row.geometry.distance(geom)\n",
    "    )\n",
    "\n",
    "    # Keep matches within 5 meters\n",
    "    nearby_matches = possible_matches[possible_matches['edge_distance'] < 5]\n",
    "\n",
    "    # Assign the nearest segment's osm_id if matches are found\n",
    "    if not nearby_matches.empty:\n",
    "        nearest_match_id = nearby_matches.loc[nearby_matches['edge_distance'].idxmin(), 'osm_id']\n",
    "        gdf_road_merged_copy.loc[idx, 'osm_id'] = nearest_match_id"
   ]
  },
  {
   "cell_type": "code",
   "execution_count": 48,
   "metadata": {},
   "outputs": [],
   "source": [
    "# gdf_road_merged_copy.to_csv('output/temp_merge_inrix_osm.csv',index=False)\n",
    "gdf_road_merged_copy = pd.read_csv('output/temp_merge_inrix_osm.csv')\n",
    "gdf_road_merged_copy.head(2)"
   ]
  },
  {
   "cell_type": "code",
   "execution_count": 49,
   "metadata": {},
   "outputs": [],
   "source": [
    "gdf_road_merged_copy_mergeOSM = gdf_road_merged_copy.merge(edges_osm_need[['osm_id','road_type','oneway','lanes','maxspeed']], on='osm_id')"
   ]
  },
  {
   "cell_type": "code",
   "execution_count": 55,
   "metadata": {},
   "outputs": [],
   "source": [
    "import numpy as np\n",
    "import ast\n",
    "\n",
    "def process_lane(val):\n",
    "    if isinstance(val, int) or isinstance(val, float):  # If it's already a number, return as is\n",
    "        return val\n",
    "    elif isinstance(val, str) and val.startswith(\"[\"):  # Check if it's a string list\n",
    "        try:\n",
    "            num_list = ast.literal_eval(val)  # Convert string to list safely\n",
    "            num_list = [int(x) for x in num_list]  # Convert elements to int\n",
    "            return np.mean(num_list)  # Compute mean\n",
    "        except:\n",
    "            return None  # Handle any conversion errors gracefully\n",
    "    elif isinstance(val, str) and not val.startswith(\"[\"):\n",
    "        return float(val)\n",
    "    else:\n",
    "        return None  # Return None for other cases\n",
    "\n",
    "# Apply the function to clean and process the 'lane' column\n",
    "gdf_road_merged_copy_mergeOSM['lanes_mean'] = gdf_road_merged_copy_mergeOSM['lanes'].apply(process_lane)\n",
    "# gdf_road_merged_copy_mergeOSM.head(10)"
   ]
  },
  {
   "cell_type": "code",
   "execution_count": 56,
   "metadata": {},
   "outputs": [],
   "source": [
    "# gdf_road_merged_copy_mergeOSM.head(5)['lanes'].apply(process_lane)\n",
    "# gdf_road_merged_copy_mergeOSM.maxspeed.unique()\n",
    "# gdf_road_merged_copy_mergeOSM[gdf_road_merged_copy_mergeOSM['lanes_mean'].isna()].lanes.unique()"
   ]
  },
  {
   "cell_type": "code",
   "execution_count": 57,
   "metadata": {},
   "outputs": [
    {
     "name": "stdout",
     "output_type": "stream",
     "text": [
      "[30. 65. 35. nan 40. 45. 55. 60. 50. 25. 70. 75. 80. 85.]\n"
     ]
    }
   ],
   "source": [
    "# import re\n",
    "\n",
    "# def process_max_speed(value):\n",
    "#     if isinstance(value, str):\n",
    "#         # Extract all numeric values from the string\n",
    "#         numbers = list(map(int, re.findall(r'\\d+', value)))\n",
    "#         if numbers:\n",
    "#             return max(numbers)  # Return the maximum value\n",
    "#     return None\n",
    "\n",
    "# # Apply the function to the max_speed column\n",
    "# df_traffic['max_speed'] = df_traffic['maxspeed'].apply(process_max_speed)\n",
    "# df_traffic.max_speed.value_counts()\n",
    "\n",
    "def extract_max_speed(speed):\n",
    "    if pd.isna(speed):  # Handle NaN values\n",
    "        return np.nan\n",
    "    elif isinstance(speed, str):\n",
    "        try:\n",
    "            if speed.startswith(\"[\"):  # Check if it's a list formatted as a string\n",
    "                speed_list = ast.literal_eval(speed)  # Convert string list to actual list\n",
    "            else:\n",
    "                speed_list = [speed]  # Wrap single values in a list for consistency\n",
    "            \n",
    "            # Extract numeric values, convert to int, and find the max\n",
    "            max_speed = max(int(s.replace(' mph', '').strip()) for s in speed_list)\n",
    "            return max_speed\n",
    "        except:\n",
    "            return np.nan  # Return NaN if any unexpected error occurs\n",
    "    return np.nan\n",
    "\n",
    "# Apply function to create new column\n",
    "gdf_road_merged_copy_mergeOSM['maxspeed_value'] = gdf_road_merged_copy_mergeOSM['maxspeed'].apply(extract_max_speed)\n",
    "print(gdf_road_merged_copy_mergeOSM.maxspeed_value.unique())"
   ]
  },
  {
   "cell_type": "code",
   "execution_count": 69,
   "metadata": {},
   "outputs": [
    {
     "name": "stdout",
     "output_type": "stream",
     "text": [
      "[]\n"
     ]
    }
   ],
   "source": [
    "# gdf_road_merged_copy_mergeOSM.head()\n",
    "hwy_speeds = {\n",
    "    \"motorway\": 70,          # Typically 70 mph in rural areas, 55-65 mph in urban areas\n",
    "    \"motorway_link\": 50,     # Lower than main motorways, often 45-55 mph\n",
    "    \"trunk\": 65,             # Generally 55-65 mph depending on urban/rural setting\n",
    "    \"trunk_link\": 50,        # Similar to trunk but slightly lower, around 45-55 mph\n",
    "    \"primary\": 55,           # Typically 55 mph in rural areas, 25-45 mph in urban settings\n",
    "    \"primary_link\": 45,      # Slightly lower than primary roads, often 25-45 mph\n",
    "    \"secondary\": 50,         # Commonly 45-55 mph\n",
    "    \"secondary_link\": 45,    # Slightly lower than secondary roads\n",
    "    \"tertiary\": 60,          # Usually around 35-45 mph\n",
    "    \"tertiary_link\": 55,     # Slightly lower than tertiary roads\n",
    "    \"residential\": 35,       # Standard residential speed limit\n",
    "    \"unclassified\": 30       # Typically 25-35 mph in less developed areas\n",
    "}\n",
    "def fill_missing_speed(row):\n",
    "    if np.isnan(row['maxspeed_value']):  # Check if maxspeed_value is NaN\n",
    "        return hwy_speeds.get(row['road_type'], np.nan)  # Get default speed or NaN if road_type is not found\n",
    "    return row['maxspeed_value']  # Keep original value if not NaN\n",
    "\n",
    "# Apply function to fill NaN values in 'maxspeed_value'\n",
    "gdf_road_merged_copy_mergeOSM['maxspeed_value'] = gdf_road_merged_copy_mergeOSM.apply(fill_missing_speed, axis=1)\n",
    "\n",
    "print(gdf_road_merged_copy_mergeOSM[gdf_road_merged_copy_mergeOSM['maxspeed_value'].isna()].road_type.unique())"
   ]
  },
  {
   "cell_type": "code",
   "execution_count": 71,
   "metadata": {},
   "outputs": [
    {
     "data": {
      "text/plain": [
       "secondary         1234\n",
       "tertiary          609 \n",
       "motorway          482 \n",
       "primary           436 \n",
       "motorway_link     174 \n",
       "residential       132 \n",
       "trunk             85  \n",
       "unclassified      38  \n",
       "primary_link      18  \n",
       "secondary_link    13  \n",
       "trunk_link        8   \n",
       "tertiary_link     2   \n",
       "Name: road_type, dtype: int64"
      ]
     },
     "execution_count": 71,
     "metadata": {},
     "output_type": "execute_result"
    }
   ],
   "source": [
    "gdf_road_merged_copy_mergeOSM.road_type = gdf_road_merged_copy_mergeOSM.road_type.astype(str)\n",
    "gdf_road_merged_copy_mergeOSM.road_type.value_counts()"
   ]
  },
  {
   "cell_type": "code",
   "execution_count": 72,
   "metadata": {},
   "outputs": [],
   "source": [
    "gdf_road_merged_copy_mergeOSM.loc[gdf_road_merged_copy_mergeOSM.road_type==\"['motorway', 'motorway_link']\", 'road_type'] = 'motorway'\n",
    "gdf_road_merged_copy_mergeOSM.loc[gdf_road_merged_copy_mergeOSM.road_type==\"['secondary_link', 'secondary']\", 'road_type'] = 'secondary'\n",
    "gdf_road_merged_copy_mergeOSM.loc[gdf_road_merged_copy_mergeOSM.road_type==\"['trunk', 'motorway']\", 'road_type'] = 'motorway'\n",
    "gdf_road_merged_copy_mergeOSM.loc[gdf_road_merged_copy_mergeOSM.road_type==\"['tertiary', 'motorway_link']\", 'road_type'] = 'tertiary'\n",
    "gdf_road_merged_copy_mergeOSM.loc[gdf_road_merged_copy_mergeOSM.road_type==\"['trunk_link', 'tertiary']\", 'road_type'] = 'tertiary'\n",
    "gdf_road_merged_copy_mergeOSM.loc[gdf_road_merged_copy_mergeOSM.road_type==\"['secondary', 'motorway_link']\", 'road_type'] = 'secondary'\n",
    "gdf_road_merged_copy_mergeOSM.loc[gdf_road_merged_copy_mergeOSM.road_type==\"['trunk', 'primary']\", 'road_type'] = 'primary'\n",
    "gdf_road_merged_copy_mergeOSM.loc[gdf_road_merged_copy_mergeOSM.road_type==\"['trunk', 'secondary']\", 'road_type'] = 'secondary'\n",
    "gdf_road_merged_copy_mergeOSM.loc[gdf_road_merged_copy_mergeOSM.road_type==\"['primary', 'motorway']\", 'road_type'] = 'primary'"
   ]
  },
  {
   "cell_type": "code",
   "execution_count": 84,
   "metadata": {},
   "outputs": [
    {
     "data": {
      "text/plain": [
       "secondary       1247\n",
       "motorway        656 \n",
       "tertiary        611 \n",
       "primary         454 \n",
       "residential     132 \n",
       "trunk           93  \n",
       "unclassified    38  \n",
       "Name: road_type, dtype: int64"
      ]
     },
     "execution_count": 84,
     "metadata": {},
     "output_type": "execute_result"
    }
   ],
   "source": [
    "gdf_road_merged_copy_mergeOSM.loc[gdf_road_merged_copy_mergeOSM.road_type==\"motorway_link\", 'road_type'] = 'motorway'\n",
    "gdf_road_merged_copy_mergeOSM.loc[gdf_road_merged_copy_mergeOSM.road_type==\"primary_link\", 'road_type'] = 'primary'\n",
    "gdf_road_merged_copy_mergeOSM.loc[gdf_road_merged_copy_mergeOSM.road_type==\"secondary_link\", 'road_type'] = 'secondary'\n",
    "gdf_road_merged_copy_mergeOSM.loc[gdf_road_merged_copy_mergeOSM.road_type==\"trunk_link\", 'road_type'] = 'trunk'\n",
    "gdf_road_merged_copy_mergeOSM.loc[gdf_road_merged_copy_mergeOSM.road_type==\"tertiary_link\", 'road_type'] = 'tertiary'\n",
    "gdf_road_merged_copy_mergeOSM.road_type.value_counts()"
   ]
  },
  {
   "cell_type": "code",
   "execution_count": 396,
   "metadata": {},
   "outputs": [],
   "source": [
    "# gdf_road_merged_copy_mergeOSM.loc[gdf_road_merged_copy_mergeOSM.road_type==\"motorway_link\", 'road_type'] = 'motorway'\n",
    "# gdf_road_merged_copy_mergeOSM.loc[gdf_road_merged_copy_mergeOSM.road_type==\"primary_link\", 'road_type'] = ''\n",
    "# gdf_road_merged_copy_mergeOSM.loc[gdf_road_merged_copy_mergeOSM.road_type==\"secondary_link\", 'road_type'] = ''\n",
    "# gdf_road_merged_copy_mergeOSM.loc[gdf_road_merged_copy_mergeOSM.road_type==\"trunk_link\", 'road_type'] = ''\n",
    "# gdf_road_merged_copy_mergeOSM.loc[gdf_road_merged_copy_mergeOSM.road_type==\"tertiary_link\", 'road_type'] = ''"
   ]
  },
  {
   "cell_type": "code",
   "execution_count": 86,
   "metadata": {},
   "outputs": [
    {
     "name": "stdout",
     "output_type": "stream",
     "text": [
      "CPU times: user 66.4 ms, sys: 3.6 ms, total: 70 ms\n",
      "Wall time: 69 ms\n"
     ]
    }
   ],
   "source": [
    "%%time\n",
    "gdf_road_merged_copy_mergeOSM.to_csv('output/temp_merge_inrix_osm_final.csv',index=False)"
   ]
  },
  {
   "cell_type": "markdown",
   "metadata": {},
   "source": [
    "# Final: Merge with traffic data for tree-based ML prediction model"
   ]
  },
  {
   "cell_type": "code",
   "execution_count": 87,
   "metadata": {},
   "outputs": [],
   "source": [
    "df_traffic = pd.read_csv(\"output/austin_2022_GP_10min_interval_delaydifference.csv\", sep=',', header=0)\n",
    "df_traffic_merged = df_traffic.merge(gdf_road_merged_copy_mergeOSM, on='tmc_code')\n",
    "df_traffic_merged.drop(['geometry', 'Shuttle_Waterloo_Park','Shuttle_Barton_Creek_Square','Shuttle_Expo_Center','venue_centroid','lanes','maxspeed'], axis=1, inplace=True)"
   ]
  },
  {
   "cell_type": "code",
   "execution_count": 88,
   "metadata": {},
   "outputs": [],
   "source": [
    "df_traffic_merged['date'] = pd.to_datetime(df_traffic_merged['date'])\n",
    "df_traffic_merged['day_of_week'] = df_traffic_merged['date'].dt.weekday"
   ]
  },
  {
   "cell_type": "code",
   "execution_count": 89,
   "metadata": {},
   "outputs": [
    {
     "name": "stdout",
     "output_type": "stream",
     "text": [
      "[0 1 2 3 4 5 6]\n",
      "['2022-10-17T00:00:00.000000000' '2022-10-18T00:00:00.000000000'\n",
      " '2022-10-19T00:00:00.000000000' '2022-10-20T00:00:00.000000000'\n",
      " '2022-10-21T00:00:00.000000000' '2022-10-22T00:00:00.000000000'\n",
      " '2022-10-23T00:00:00.000000000']\n"
     ]
    }
   ],
   "source": [
    "print(df_traffic_merged.day_of_week.unique())\n",
    "print(df_traffic_merged.date.unique())"
   ]
  },
  {
   "cell_type": "code",
   "execution_count": 90,
   "metadata": {},
   "outputs": [
    {
     "data": {
      "text/html": [
       "<div>\n",
       "<style scoped>\n",
       "    .dataframe tbody tr th:only-of-type {\n",
       "        vertical-align: middle;\n",
       "    }\n",
       "\n",
       "    .dataframe tbody tr th {\n",
       "        vertical-align: top;\n",
       "    }\n",
       "\n",
       "    .dataframe thead th {\n",
       "        text-align: right;\n",
       "    }\n",
       "</style>\n",
       "<table border=\"1\" class=\"dataframe\">\n",
       "  <thead>\n",
       "    <tr style=\"text-align: right;\">\n",
       "      <th></th>\n",
       "      <th>tmc_code</th>\n",
       "      <th>hour_min</th>\n",
       "      <th>delay_baseline</th>\n",
       "      <th>delay_focus</th>\n",
       "      <th>delay_difference</th>\n",
       "      <th>date</th>\n",
       "      <th>intersection</th>\n",
       "      <th>start_latitude</th>\n",
       "      <th>start_longitude</th>\n",
       "      <th>end_latitude</th>\n",
       "      <th>end_longitude</th>\n",
       "      <th>miles</th>\n",
       "      <th>airbnb_count</th>\n",
       "      <th>distance_to_venue_centroid</th>\n",
       "      <th>distance_to_Shuttle_Waterloo_Park</th>\n",
       "      <th>distance_to_Shuttle_Barton_Creek_Square</th>\n",
       "      <th>distance_to_Shuttle_Expo_Center</th>\n",
       "      <th>segment_bearing</th>\n",
       "      <th>osm_id</th>\n",
       "      <th>road_type</th>\n",
       "      <th>oneway</th>\n",
       "      <th>lanes_mean</th>\n",
       "      <th>maxspeed_value</th>\n",
       "      <th>day_of_week</th>\n",
       "    </tr>\n",
       "  </thead>\n",
       "  <tbody>\n",
       "    <tr>\n",
       "      <th>0</th>\n",
       "      <td>112+04760</td>\n",
       "      <td>00:00</td>\n",
       "      <td>-2.22226</td>\n",
       "      <td>3.38907</td>\n",
       "      <td>5.61133</td>\n",
       "      <td>2022-10-17</td>\n",
       "      <td>US-183/EXIT 239-240</td>\n",
       "      <td>30.32874</td>\n",
       "      <td>-97.70568</td>\n",
       "      <td>30.33272</td>\n",
       "      <td>-97.70402</td>\n",
       "      <td>0.29287</td>\n",
       "      <td>49</td>\n",
       "      <td>26.64241</td>\n",
       "      <td>7.39988</td>\n",
       "      <td>14.41580</td>\n",
       "      <td>10.33789</td>\n",
       "      <td>19.79829</td>\n",
       "      <td>[122981397, 1012363973]66847798019339769835</td>\n",
       "      <td>secondary</td>\n",
       "      <td>True</td>\n",
       "      <td>1.50000</td>\n",
       "      <td>55.00000</td>\n",
       "      <td>0</td>\n",
       "    </tr>\n",
       "    <tr>\n",
       "      <th>1</th>\n",
       "      <td>112+04760</td>\n",
       "      <td>00:10</td>\n",
       "      <td>-2.43440</td>\n",
       "      <td>0.28807</td>\n",
       "      <td>2.72247</td>\n",
       "      <td>2022-10-17</td>\n",
       "      <td>US-183/EXIT 239-240</td>\n",
       "      <td>30.32874</td>\n",
       "      <td>-97.70568</td>\n",
       "      <td>30.33272</td>\n",
       "      <td>-97.70402</td>\n",
       "      <td>0.29287</td>\n",
       "      <td>49</td>\n",
       "      <td>26.64241</td>\n",
       "      <td>7.39988</td>\n",
       "      <td>14.41580</td>\n",
       "      <td>10.33789</td>\n",
       "      <td>19.79829</td>\n",
       "      <td>[122981397, 1012363973]66847798019339769835</td>\n",
       "      <td>secondary</td>\n",
       "      <td>True</td>\n",
       "      <td>1.50000</td>\n",
       "      <td>55.00000</td>\n",
       "      <td>0</td>\n",
       "    </tr>\n",
       "  </tbody>\n",
       "</table>\n",
       "</div>"
      ],
      "text/plain": [
       "    tmc_code hour_min  delay_baseline  delay_focus  delay_difference       date         intersection  start_latitude  start_longitude  end_latitude  end_longitude   miles  airbnb_count  distance_to_venue_centroid  distance_to_Shuttle_Waterloo_Park  distance_to_Shuttle_Barton_Creek_Square  distance_to_Shuttle_Expo_Center  segment_bearing                                       osm_id  road_type  oneway  lanes_mean  maxspeed_value  day_of_week\n",
       "0  112+04760  00:00   -2.22226        3.38907      5.61133           2022-10-17  US-183/EXIT 239-240 30.32874        -97.70568        30.33272      -97.70402      0.29287  49           26.64241                    7.39988                            14.41580                                 10.33789                         19.79829          [122981397, 1012363973]66847798019339769835  secondary  True   1.50000     55.00000         0          \n",
       "1  112+04760  00:10   -2.43440        0.28807      2.72247           2022-10-17  US-183/EXIT 239-240 30.32874        -97.70568        30.33272      -97.70402      0.29287  49           26.64241                    7.39988                            14.41580                                 10.33789                         19.79829          [122981397, 1012363973]66847798019339769835  secondary  True   1.50000     55.00000         0          "
      ]
     },
     "execution_count": 90,
     "metadata": {},
     "output_type": "execute_result"
    }
   ],
   "source": [
    "df_traffic_merged.head(2) "
   ]
  },
  {
   "cell_type": "code",
   "execution_count": 91,
   "metadata": {},
   "outputs": [
    {
     "name": "stdout",
     "output_type": "stream",
     "text": [
      "CPU times: user 56.7 s, sys: 869 ms, total: 57.5 s\n",
      "Wall time: 59 s\n"
     ]
    }
   ],
   "source": [
    "%%time\n",
    "df_traffic_merged.to_csv('output/austin_2022_GP_10min_interval_delaydifference_with_features_forML.csv',index=False)"
   ]
  },
  {
   "cell_type": "code",
   "execution_count": null,
   "metadata": {},
   "outputs": [],
   "source": []
  },
  {
   "cell_type": "code",
   "execution_count": null,
   "metadata": {},
   "outputs": [],
   "source": []
  },
  {
   "cell_type": "markdown",
   "metadata": {},
   "source": [
    "# Merge with travel demand feature"
   ]
  },
  {
   "cell_type": "code",
   "execution_count": 9,
   "metadata": {},
   "outputs": [
    {
     "name": "stdout",
     "output_type": "stream",
     "text": [
      "3236871\n"
     ]
    }
   ],
   "source": [
    "df_traffic_merged = pd.read_csv(\"output/austin_2022_GP_10min_interval_delaydifference_with_features_forML.csv\", sep=',', header=0)\n",
    "print(df_traffic_merged.shape[0])"
   ]
  },
  {
   "cell_type": "code",
   "execution_count": 10,
   "metadata": {},
   "outputs": [
    {
     "name": "stdout",
     "output_type": "stream",
     "text": [
      "4050668\n"
     ]
    },
    {
     "data": {
      "text/html": [
       "<div>\n",
       "<style scoped>\n",
       "    .dataframe tbody tr th:only-of-type {\n",
       "        vertical-align: middle;\n",
       "    }\n",
       "\n",
       "    .dataframe tbody tr th {\n",
       "        vertical-align: top;\n",
       "    }\n",
       "\n",
       "    .dataframe thead th {\n",
       "        text-align: right;\n",
       "    }\n",
       "</style>\n",
       "<table border=\"1\" class=\"dataframe\">\n",
       "  <thead>\n",
       "    <tr style=\"text-align: right;\">\n",
       "      <th></th>\n",
       "      <th>tmc_code</th>\n",
       "      <th>hour_min</th>\n",
       "      <th>no_devices_baseline</th>\n",
       "      <th>no_devices_focus</th>\n",
       "      <th>demand_diff</th>\n",
       "      <th>date</th>\n",
       "    </tr>\n",
       "  </thead>\n",
       "  <tbody>\n",
       "    <tr>\n",
       "      <th>0</th>\n",
       "      <td>112+04758</td>\n",
       "      <td>00:00</td>\n",
       "      <td>1</td>\n",
       "      <td>2</td>\n",
       "      <td>1</td>\n",
       "      <td>2022-10-17</td>\n",
       "    </tr>\n",
       "    <tr>\n",
       "      <th>1</th>\n",
       "      <td>112+04758</td>\n",
       "      <td>00:00</td>\n",
       "      <td>1</td>\n",
       "      <td>19</td>\n",
       "      <td>18</td>\n",
       "      <td>2022-10-17</td>\n",
       "    </tr>\n",
       "  </tbody>\n",
       "</table>\n",
       "</div>"
      ],
      "text/plain": [
       "    tmc_code hour_min  no_devices_baseline  no_devices_focus  demand_diff        date\n",
       "0  112+04758  00:00    1                    2                 1            2022-10-17\n",
       "1  112+04758  00:00    1                    19                18           2022-10-17"
      ]
     },
     "execution_count": 10,
     "metadata": {},
     "output_type": "execute_result"
    }
   ],
   "source": [
    "df_travel_demand_each10min = pd.read_csv('./output/travel_demand_inrix_road_final.csv')\n",
    "print(df_travel_demand_each10min.shape[0])\n",
    "df_travel_demand_each10min.head(2)"
   ]
  },
  {
   "cell_type": "code",
   "execution_count": 11,
   "metadata": {},
   "outputs": [
    {
     "name": "stdout",
     "output_type": "stream",
     "text": [
      "3549832\n"
     ]
    }
   ],
   "source": [
    "df_traffic_merged2 = df_traffic_merged.merge(df_travel_demand_each10min, on=['tmc_code','date','hour_min'], how='left')\n",
    "df_traffic_merged2['no_devices'].fillna(0, inplace=True)  # Replace NaN with 0\n",
    "print(df_traffic_merged2.shape[0])"
   ]
  },
  {
   "cell_type": "code",
   "execution_count": 13,
   "metadata": {},
   "outputs": [
    {
     "data": {
      "text/html": [
       "<div>\n",
       "<style scoped>\n",
       "    .dataframe tbody tr th:only-of-type {\n",
       "        vertical-align: middle;\n",
       "    }\n",
       "\n",
       "    .dataframe tbody tr th {\n",
       "        vertical-align: top;\n",
       "    }\n",
       "\n",
       "    .dataframe thead th {\n",
       "        text-align: right;\n",
       "    }\n",
       "</style>\n",
       "<table border=\"1\" class=\"dataframe\">\n",
       "  <thead>\n",
       "    <tr style=\"text-align: right;\">\n",
       "      <th></th>\n",
       "      <th>tmc_code</th>\n",
       "      <th>hour_min</th>\n",
       "      <th>delay_baseline</th>\n",
       "      <th>delay_focus</th>\n",
       "      <th>delay_difference</th>\n",
       "      <th>date</th>\n",
       "      <th>intersection</th>\n",
       "      <th>start_latitude</th>\n",
       "      <th>start_longitude</th>\n",
       "      <th>end_latitude</th>\n",
       "      <th>end_longitude</th>\n",
       "      <th>miles</th>\n",
       "      <th>airbnb_count</th>\n",
       "      <th>distance_to_venue_centroid</th>\n",
       "      <th>distance_to_Shuttle_Waterloo_Park</th>\n",
       "      <th>distance_to_Shuttle_Barton_Creek_Square</th>\n",
       "      <th>distance_to_Shuttle_Expo_Center</th>\n",
       "      <th>segment_bearing</th>\n",
       "      <th>osm_id</th>\n",
       "      <th>road_type</th>\n",
       "      <th>oneway</th>\n",
       "      <th>lanes_mean</th>\n",
       "      <th>maxspeed_value</th>\n",
       "      <th>day_of_week</th>\n",
       "      <th>no_devices</th>\n",
       "      <th>no_devices_baseline</th>\n",
       "      <th>no_devices_focus</th>\n",
       "      <th>demand_diff</th>\n",
       "    </tr>\n",
       "  </thead>\n",
       "  <tbody>\n",
       "    <tr>\n",
       "      <th>0</th>\n",
       "      <td>112+04760</td>\n",
       "      <td>00:00</td>\n",
       "      <td>-2.22226</td>\n",
       "      <td>3.38907</td>\n",
       "      <td>5.61133</td>\n",
       "      <td>2022-10-17</td>\n",
       "      <td>US-183/EXIT 239-240</td>\n",
       "      <td>30.32874</td>\n",
       "      <td>-97.70568</td>\n",
       "      <td>30.33272</td>\n",
       "      <td>-97.70402</td>\n",
       "      <td>0.29287</td>\n",
       "      <td>49</td>\n",
       "      <td>26.64241</td>\n",
       "      <td>7.39988</td>\n",
       "      <td>14.41580</td>\n",
       "      <td>10.33789</td>\n",
       "      <td>19.79829</td>\n",
       "      <td>[122981397, 1012363973]66847798019339769835</td>\n",
       "      <td>secondary</td>\n",
       "      <td>True</td>\n",
       "      <td>1.50000</td>\n",
       "      <td>55.00000</td>\n",
       "      <td>0</td>\n",
       "      <td>0.00000</td>\n",
       "      <td>2.00000</td>\n",
       "      <td>2.00000</td>\n",
       "      <td>0.00000</td>\n",
       "    </tr>\n",
       "    <tr>\n",
       "      <th>1</th>\n",
       "      <td>112+04760</td>\n",
       "      <td>00:00</td>\n",
       "      <td>-2.22226</td>\n",
       "      <td>3.38907</td>\n",
       "      <td>5.61133</td>\n",
       "      <td>2022-10-17</td>\n",
       "      <td>US-183/EXIT 239-240</td>\n",
       "      <td>30.32874</td>\n",
       "      <td>-97.70568</td>\n",
       "      <td>30.33272</td>\n",
       "      <td>-97.70402</td>\n",
       "      <td>0.29287</td>\n",
       "      <td>49</td>\n",
       "      <td>26.64241</td>\n",
       "      <td>7.39988</td>\n",
       "      <td>14.41580</td>\n",
       "      <td>10.33789</td>\n",
       "      <td>19.79829</td>\n",
       "      <td>[122981397, 1012363973]66847798019339769835</td>\n",
       "      <td>secondary</td>\n",
       "      <td>True</td>\n",
       "      <td>1.50000</td>\n",
       "      <td>55.00000</td>\n",
       "      <td>0</td>\n",
       "      <td>0.00000</td>\n",
       "      <td>2.00000</td>\n",
       "      <td>20.00000</td>\n",
       "      <td>18.00000</td>\n",
       "    </tr>\n",
       "  </tbody>\n",
       "</table>\n",
       "</div>"
      ],
      "text/plain": [
       "    tmc_code hour_min  delay_baseline  delay_focus  delay_difference        date         intersection  start_latitude  start_longitude  end_latitude  end_longitude   miles  airbnb_count  distance_to_venue_centroid  distance_to_Shuttle_Waterloo_Park  distance_to_Shuttle_Barton_Creek_Square  distance_to_Shuttle_Expo_Center  segment_bearing                                       osm_id  road_type  oneway  lanes_mean  maxspeed_value  day_of_week  no_devices  no_devices_baseline  no_devices_focus  demand_diff\n",
       "0  112+04760  00:00   -2.22226        3.38907      5.61133            2022-10-17  US-183/EXIT 239-240 30.32874        -97.70568        30.33272      -97.70402      0.29287  49           26.64241                    7.39988                            14.41580                                 10.33789                         19.79829          [122981397, 1012363973]66847798019339769835  secondary  True   1.50000     55.00000         0           0.00000     2.00000              2.00000           0.00000     \n",
       "1  112+04760  00:00   -2.22226        3.38907      5.61133            2022-10-17  US-183/EXIT 239-240 30.32874        -97.70568        30.33272      -97.70402      0.29287  49           26.64241                    7.39988                            14.41580                                 10.33789                         19.79829          [122981397, 1012363973]66847798019339769835  secondary  True   1.50000     55.00000         0           0.00000     2.00000              20.00000          18.00000    "
      ]
     },
     "execution_count": 13,
     "metadata": {},
     "output_type": "execute_result"
    }
   ],
   "source": [
    "df_traffic_merged2.head(2)"
   ]
  },
  {
   "cell_type": "code",
   "execution_count": 2,
   "metadata": {},
   "outputs": [
    {
     "name": "stderr",
     "output_type": "stream",
     "text": [
      "/tmp/ipykernel_23489/2759483272.py:2: DtypeWarning: Columns (6) have mixed types. Specify dtype option on import or set low_memory=False.\n",
      "  df_traffic_merged2 = pd.read_csv('output/austin_2022_GP_10min_interval_delaydifference_with_features_forML_final.csv')\n"
     ]
    }
   ],
   "source": [
    "# import pandas as pd \n",
    "# df_traffic_merged2 = pd.read_csv('output/austin_2022_GP_10min_interval_delaydifference_with_features_forML_final.csv')\n",
    "# print(df_traffic_merged2.shape[0]) #3549832"
   ]
  },
  {
   "cell_type": "code",
   "execution_count": 4,
   "metadata": {},
   "outputs": [
    {
     "name": "stdout",
     "output_type": "stream",
     "text": [
      "3547722\n",
      "CPU times: user 50.1 s, sys: 0 ns, total: 50.1 s\n",
      "Wall time: 51.9 s\n"
     ]
    }
   ],
   "source": [
    "%%time\n",
    "# df_traffic_merged2.no_devices.describe()\n",
    "df_traffic_merged2 = df_traffic_merged2[df_traffic_merged2['distance_to_venue_centroid']<500]\n",
    "print(df_traffic_merged2.shape[0])\n",
    "df_traffic_merged2.to_csv('output/austin_2022_GP_10min_interval_delaydifference_with_features_forML_final.csv',index=False)"
   ]
  },
  {
   "cell_type": "code",
   "execution_count": 49,
   "metadata": {},
   "outputs": [],
   "source": [
    "# edges_osm_need = edges_osm_need.rename(columns={\"geometry\": \"geometry_osm\"})\n",
    "# df_traffic_merged3 = df_traffic_merged.merge(edges_osm_need[['osm_id','geometry_osm']], on='osm_id')\n",
    "# print(df_traffic_merged3.shape[0])\n",
    "# # df_traffic_merged3.head(2)"
   ]
  },
  {
   "cell_type": "code",
   "execution_count": 24,
   "metadata": {},
   "outputs": [],
   "source": [
    "# df_traffic_merged3 = gpd.GeoDataFrame(df_traffic_merged3,crs=\"EPSG:3857\", geometry='geometry_osm')"
   ]
  },
  {
   "cell_type": "code",
   "execution_count": 31,
   "metadata": {},
   "outputs": [],
   "source": [
    "# df_traffic_merged3[['osm_id', 'geometry_osm']].drop_duplicates().explore()"
   ]
  },
  {
   "cell_type": "code",
   "execution_count": null,
   "metadata": {},
   "outputs": [],
   "source": [
    "# gdf_road_merged_copy_mergeOSM = df_traffic_merged.merge(edges_osm_need[['osm_id','road_type','oneway','lanes','maxspeed']], on='osm_id')"
   ]
  },
  {
   "cell_type": "code",
   "execution_count": 18,
   "metadata": {},
   "outputs": [],
   "source": []
  },
  {
   "cell_type": "code",
   "execution_count": 19,
   "metadata": {},
   "outputs": [],
   "source": []
  },
  {
   "cell_type": "code",
   "execution_count": 20,
   "metadata": {},
   "outputs": [],
   "source": []
  },
  {
   "cell_type": "markdown",
   "metadata": {},
   "source": [
    "# (Optional) Visualizing module"
   ]
  },
  {
   "cell_type": "code",
   "execution_count": 54,
   "metadata": {},
   "outputs": [
    {
     "name": "stdout",
     "output_type": "stream",
     "text": [
      "CPU times: user 541 ms, sys: 0 ns, total: 541 ms\n",
      "Wall time: 581 ms\n"
     ]
    }
   ],
   "source": [
    "%%time\n",
    "# congestion_colors = [\"#00FF00\", \"#ADFF2F\", \"#FFFF00\", \"#FFA500\", \"#FF0000\", \"#8B0000\"]\n",
    "\n",
    "m = gdf_road_merged.explore(\n",
    "    column='airbnb_count',\n",
    "    cmap= \"rainbow\", #\"rainbow\",\n",
    "    tiles=\"CartoDB dark_matter\", # OpenStreetMap, CartoDB dark_matter\n",
    "    categorical=False\n",
    ")\n",
    "\n",
    "m = gdf_shuttle.explore(\n",
    "    m=m,\n",
    "    markersize=40,\n",
    "    linewidth=2,\n",
    "    edgecolor=\"black\",\n",
    ")\n",
    "\n",
    "gdf_venue.explore(\n",
    "    m=m\n",
    ")"
   ]
  },
  {
   "cell_type": "code",
   "execution_count": null,
   "metadata": {},
   "outputs": [],
   "source": []
  },
  {
   "cell_type": "code",
   "execution_count": null,
   "metadata": {},
   "outputs": [],
   "source": []
  },
  {
   "cell_type": "code",
   "execution_count": 399,
   "metadata": {},
   "outputs": [
    {
     "name": "stdout",
     "output_type": "stream",
     "text": [
      "2813\n"
     ]
    }
   ],
   "source": [
    "# show the matched portion of OSM network\n",
    "edges_osm_need_vis = edges_osm_need[edges_osm_need['osm_id'].isin(gdf_road_merged_copy_mergeOSM.osm_id.unique().tolist())]\n",
    "print(edges_osm_need_vis.shape[0])"
   ]
  },
  {
   "cell_type": "code",
   "execution_count": 69,
   "metadata": {},
   "outputs": [],
   "source": [
    "# edges_osm_need_vis.explore()"
   ]
  },
  {
   "cell_type": "code",
   "execution_count": null,
   "metadata": {},
   "outputs": [],
   "source": []
  }
 ],
 "metadata": {
  "kernelspec": {
   "display_name": "Python (pytorch_env)",
   "language": "python",
   "name": "pytorch_env"
  },
  "language_info": {
   "codemirror_mode": {
    "name": "ipython",
    "version": 3
   },
   "file_extension": ".py",
   "mimetype": "text/x-python",
   "name": "python",
   "nbconvert_exporter": "python",
   "pygments_lexer": "ipython3",
   "version": "3.10.16"
  }
 },
 "nbformat": 4,
 "nbformat_minor": 4
}
