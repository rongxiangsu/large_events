{
 "cells": [
  {
   "cell_type": "code",
   "execution_count": 12,
   "metadata": {},
   "outputs": [],
   "source": [
    "# import sys\n",
    "# print(sys.version)\n",
    "# !/home/rongxiang/miniconda3/envs/env_gcn/bin/pip install scikit-learn"
   ]
  },
  {
   "cell_type": "code",
   "execution_count": 11,
   "metadata": {},
   "outputs": [],
   "source": [
    "import torch\n",
    "import torch.nn.functional as F\n",
    "from torch_geometric.data import Data\n",
    "from torch_geometric.loader import DataLoader\n",
    "from torch_geometric.nn import GCNConv\n",
    "import pandas as pd\n",
    "import numpy as np\n",
    "from sklearn.model_selection import train_test_split\n",
    "from sklearn.preprocessing import StandardScaler"
   ]
  },
  {
   "cell_type": "code",
   "execution_count": 13,
   "metadata": {},
   "outputs": [
    {
     "name": "stdout",
     "output_type": "stream",
     "text": [
      "['2022-10-21' '2022-10-22' '2022-10-23']\n",
      "unique road segments (samples): 3221\n",
      "total observations:  1388251\n",
      "CPU times: user 5.64 s, sys: 986 ms, total: 6.63 s\n",
      "Wall time: 7.44 s\n"
     ]
    },
    {
     "data": {
      "text/html": [
       "<div>\n",
       "<style scoped>\n",
       "    .dataframe tbody tr th:only-of-type {\n",
       "        vertical-align: middle;\n",
       "    }\n",
       "\n",
       "    .dataframe tbody tr th {\n",
       "        vertical-align: top;\n",
       "    }\n",
       "\n",
       "    .dataframe thead th {\n",
       "        text-align: right;\n",
       "    }\n",
       "</style>\n",
       "<table border=\"1\" class=\"dataframe\">\n",
       "  <thead>\n",
       "    <tr style=\"text-align: right;\">\n",
       "      <th></th>\n",
       "      <th>tmc_code</th>\n",
       "      <th>hour_min</th>\n",
       "      <th>delay_baseline</th>\n",
       "      <th>delay_focus</th>\n",
       "      <th>delay_difference</th>\n",
       "      <th>date</th>\n",
       "      <th>intersection</th>\n",
       "      <th>start_latitude</th>\n",
       "      <th>start_longitude</th>\n",
       "      <th>end_latitude</th>\n",
       "      <th>...</th>\n",
       "      <th>distance_to_Shuttle_Expo_Center</th>\n",
       "      <th>segment_bearing</th>\n",
       "      <th>osm_id</th>\n",
       "      <th>road_type</th>\n",
       "      <th>oneway</th>\n",
       "      <th>lanes</th>\n",
       "      <th>maxspeed</th>\n",
       "      <th>lanes_mean</th>\n",
       "      <th>minutes_since_midnight</th>\n",
       "      <th>no_devices</th>\n",
       "    </tr>\n",
       "  </thead>\n",
       "  <tbody>\n",
       "    <tr>\n",
       "      <th>0</th>\n",
       "      <td>112+04760</td>\n",
       "      <td>00:00</td>\n",
       "      <td>-1.779261</td>\n",
       "      <td>-2.222261</td>\n",
       "      <td>-0.443000</td>\n",
       "      <td>2022-10-21</td>\n",
       "      <td>US-183/EXIT 239-240</td>\n",
       "      <td>30.32874</td>\n",
       "      <td>-97.70568</td>\n",
       "      <td>30.33272</td>\n",
       "      <td>...</td>\n",
       "      <td>10.337892</td>\n",
       "      <td>19.798294</td>\n",
       "      <td>[122981397, 1012363973]66847798019339769835</td>\n",
       "      <td>secondary_link</td>\n",
       "      <td>True</td>\n",
       "      <td>['1', '2']</td>\n",
       "      <td>55 mph</td>\n",
       "      <td>1.5</td>\n",
       "      <td>0</td>\n",
       "      <td>0.0</td>\n",
       "    </tr>\n",
       "    <tr>\n",
       "      <th>1</th>\n",
       "      <td>112+04760</td>\n",
       "      <td>00:10</td>\n",
       "      <td>-1.309413</td>\n",
       "      <td>-2.434401</td>\n",
       "      <td>-1.124988</td>\n",
       "      <td>2022-10-21</td>\n",
       "      <td>US-183/EXIT 239-240</td>\n",
       "      <td>30.32874</td>\n",
       "      <td>-97.70568</td>\n",
       "      <td>30.33272</td>\n",
       "      <td>...</td>\n",
       "      <td>10.337892</td>\n",
       "      <td>19.798294</td>\n",
       "      <td>[122981397, 1012363973]66847798019339769835</td>\n",
       "      <td>secondary_link</td>\n",
       "      <td>True</td>\n",
       "      <td>['1', '2']</td>\n",
       "      <td>55 mph</td>\n",
       "      <td>1.5</td>\n",
       "      <td>10</td>\n",
       "      <td>0.0</td>\n",
       "    </tr>\n",
       "  </tbody>\n",
       "</table>\n",
       "<p>2 rows × 26 columns</p>\n",
       "</div>"
      ],
      "text/plain": [
       "    tmc_code hour_min  delay_baseline  delay_focus  delay_difference  \\\n",
       "0  112+04760    00:00       -1.779261    -2.222261         -0.443000   \n",
       "1  112+04760    00:10       -1.309413    -2.434401         -1.124988   \n",
       "\n",
       "         date         intersection  start_latitude  start_longitude  \\\n",
       "0  2022-10-21  US-183/EXIT 239-240        30.32874        -97.70568   \n",
       "1  2022-10-21  US-183/EXIT 239-240        30.32874        -97.70568   \n",
       "\n",
       "   end_latitude  ...  distance_to_Shuttle_Expo_Center  segment_bearing  \\\n",
       "0      30.33272  ...                        10.337892        19.798294   \n",
       "1      30.33272  ...                        10.337892        19.798294   \n",
       "\n",
       "                                        osm_id       road_type  oneway  \\\n",
       "0  [122981397, 1012363973]66847798019339769835  secondary_link    True   \n",
       "1  [122981397, 1012363973]66847798019339769835  secondary_link    True   \n",
       "\n",
       "        lanes  maxspeed  lanes_mean minutes_since_midnight no_devices  \n",
       "0  ['1', '2']    55 mph         1.5                      0        0.0  \n",
       "1  ['1', '2']    55 mph         1.5                     10        0.0  \n",
       "\n",
       "[2 rows x 26 columns]"
      ]
     },
     "execution_count": 13,
     "metadata": {},
     "output_type": "execute_result"
    }
   ],
   "source": [
    "%%time\n",
    "\n",
    "df_traffic = pd.read_csv('output/austin_2022_GP_10min_interval_delaydifference_with_features_forML2.csv')\n",
    "df_traffic = df_traffic.rename(columns={\"miles\": \"segment_length\"})\n",
    "\n",
    "df_traffic['minutes_since_midnight'] = df_traffic['hour_min'].apply(lambda x: int(x[:2]) * 60 + int(x[3:]))\n",
    "\n",
    "print(df_traffic.date.unique())\n",
    "print('unique road segments (samples):',df_traffic.tmc_code.unique().shape[0])\n",
    "print('total observations: ',df_traffic.shape[0])\n",
    "df_traffic.head(2)"
   ]
  },
  {
   "cell_type": "code",
   "execution_count": 16,
   "metadata": {},
   "outputs": [
    {
     "name": "stdout",
     "output_type": "stream",
     "text": [
      "866449\n"
     ]
    },
    {
     "data": {
      "text/plain": [
       "road_type\n",
       "secondary       334905\n",
       "motorway        176464\n",
       "tertiary        162745\n",
       "primary         122126\n",
       "residential      35508\n",
       "trunk            24479\n",
       "unclassified     10222\n",
       "Name: count, dtype: int64"
      ]
     },
     "execution_count": 16,
     "metadata": {},
     "output_type": "execute_result"
    }
   ],
   "source": [
    "# because the event usually begins in the morning after 10, people arrive typically around that time, so we want to only focus on after 930\n",
    "df_traffic = df_traffic[df_traffic['minutes_since_midnight']>=540]\n",
    "print(df_traffic.shape[0])\n",
    "df_traffic = pd.get_dummies(df_traffic, columns=['date'], prefix='date')\n",
    "\n",
    "# df_traffic_oneday = df_traffic[df_traffic['date']=='2022-10-22']\n",
    "# df_traffic['distance_to_Uber_DelValle_HighSchool'] = df_traffic['distance_to_venue_centroid']\n",
    "df_traffic.loc[df_traffic.road_type==\"motorway_link\", 'road_type'] = 'motorway'\n",
    "df_traffic.loc[df_traffic.road_type==\"primary_link\", 'road_type'] = 'primary'\n",
    "df_traffic.loc[df_traffic.road_type==\"secondary_link\", 'road_type'] = 'secondary'\n",
    "df_traffic.loc[df_traffic.road_type==\"trunk_link\", 'road_type'] = 'trunk'\n",
    "df_traffic.loc[df_traffic.road_type==\"tertiary_link\", 'road_type'] = 'tertiary'\n",
    "df_traffic['road_type'].value_counts()"
   ]
  },
  {
   "cell_type": "code",
   "execution_count": 17,
   "metadata": {},
   "outputs": [],
   "source": [
    "import re\n",
    "\n",
    "def process_max_speed(value):\n",
    "    if isinstance(value, str):\n",
    "        # Extract all numeric values from the string\n",
    "        numbers = list(map(int, re.findall(r'\\d+', value)))\n",
    "        if numbers:\n",
    "            return max(numbers)  # Return the maximum value\n",
    "    return None\n",
    "\n",
    "# Apply the function to the max_speed column\n",
    "df_traffic['max_speed'] = df_traffic['maxspeed'].apply(process_max_speed)"
   ]
  },
  {
   "cell_type": "code",
   "execution_count": 20,
   "metadata": {},
   "outputs": [],
   "source": [
    "feature_columns = ['minutes_since_midnight',   'segment_length','segment_bearing', 'oneway', 'lanes_mean','road_type', 'max_speed',\n",
    "                'date_2022-10-21', 'date_2022-10-22', 'date_2022-10-23',\n",
    "                'airbnb_count',  'distance_to_venue_centroid', 'no_devices'\n",
    "               ] \n",
    "\n",
    "# Prepare input features and labels for the model\n",
    "X = df_traffic[feature_columns].copy() \n",
    "# 'distance_to_Shuttle_Waterloo_Park', 'distance_to_Shuttle_Barton_Creek_Square', 'distance_to_Shuttle_Expo_Center',\n",
    "# 'start_latitude', 'start_longitude',\n",
    "\n",
    "X['road_type'] = X['road_type'].astype('category')\n",
    "\n",
    "y = df_traffic['delay_difference'].values\n",
    "\n",
    "# Normalize features\n",
    "# scaler = StandardScaler()\n",
    "# X_scaled = scaler.fit_transform(X)"
   ]
  },
  {
   "cell_type": "markdown",
   "metadata": {},
   "source": [
    "# Create graph structure"
   ]
  },
  {
   "cell_type": "code",
   "execution_count": null,
   "metadata": {},
   "outputs": [],
   "source": [
    "# Create edges (source and target road segment IDs)\n",
    "edges = df[['source_id', 'target_id']].values.T\n",
    "edges = torch.tensor(edges, dtype=torch.long)\n",
    "\n",
    "# Create node features (scaled road attributes)\n",
    "node_features = torch.tensor(X_scaled, dtype=torch.float)\n",
    "\n",
    "# Create target tensor\n",
    "targets = torch.tensor(y, dtype=torch.float)"
   ]
  },
  {
   "cell_type": "code",
   "execution_count": null,
   "metadata": {},
   "outputs": [],
   "source": []
  },
  {
   "cell_type": "code",
   "execution_count": null,
   "metadata": {},
   "outputs": [],
   "source": []
  },
  {
   "cell_type": "code",
   "execution_count": null,
   "metadata": {},
   "outputs": [],
   "source": []
  },
  {
   "cell_type": "code",
   "execution_count": null,
   "metadata": {},
   "outputs": [],
   "source": []
  },
  {
   "cell_type": "code",
   "execution_count": null,
   "metadata": {},
   "outputs": [],
   "source": []
  },
  {
   "cell_type": "code",
   "execution_count": null,
   "metadata": {},
   "outputs": [],
   "source": []
  },
  {
   "cell_type": "code",
   "execution_count": null,
   "metadata": {},
   "outputs": [],
   "source": []
  }
 ],
 "metadata": {
  "kernelspec": {
   "display_name": "Python (env_gcn)",
   "language": "python",
   "name": "env_gcn"
  },
  "language_info": {
   "codemirror_mode": {
    "name": "ipython",
    "version": 3
   },
   "file_extension": ".py",
   "mimetype": "text/x-python",
   "name": "python",
   "nbconvert_exporter": "python",
   "pygments_lexer": "ipython3",
   "version": "3.10.0"
  }
 },
 "nbformat": 4,
 "nbformat_minor": 4
}
